{
 "cells": [
  {
   "cell_type": "markdown",
   "metadata": {},
   "source": [
    "## 행정안전부 도로명주소 API 활용"
   ]
  },
  {
   "cell_type": "code",
   "execution_count": 2,
   "metadata": {},
   "outputs": [],
   "source": [
    "import requests, json       # requests: 인터넷으로 자료를 받아서  가지고 올때 사용(크롤링때씀)\n",
    "import pandas as pd\n",
    "from urllib.parse import quote  # quote: 인터넷 주소창에 한글 인코딩할때 사용"
   ]
  },
  {
   "cell_type": "markdown",
   "metadata": {},
   "source": [
    "- API Key 가져오기"
   ]
  },
  {
   "cell_type": "code",
   "execution_count": 3,
   "metadata": {},
   "outputs": [],
   "source": [
    "with open('keys/도로명주소apikey.txt') as file:\n",
    "    road_key = file.read()"
   ]
  },
  {
   "cell_type": "markdown",
   "metadata": {},
   "source": [
    "- URL 만들기"
   ]
  },
  {
   "cell_type": "code",
   "execution_count": 5,
   "metadata": {},
   "outputs": [
    {
     "data": {
      "text/plain": [
       "'%EC%98%81%EB%93%B1%ED%8F%AC%EC%97%AD'"
      ]
     },
     "execution_count": 5,
     "metadata": {},
     "output_type": "execute_result"
    }
   ],
   "source": [
    "# requests get method를 이용하여 데이터를 보내는 경우에는 한글을 반드시 인코딩해주어야 한다.\n",
    "quote('영등포역')"
   ]
  },
  {
   "cell_type": "markdown",
   "metadata": {},
   "source": [
    "![Alt text](image.png)"
   ]
  },
  {
   "cell_type": "markdown",
   "metadata": {},
   "source": [
    "![Alt text](image-1.png)"
   ]
  },
  {
   "cell_type": "code",
   "execution_count": 10,
   "metadata": {},
   "outputs": [],
   "source": [
    "base_url = 'https://www.juso.go.kr/addrlink/addrLinkApi.do'\n",
    "params1 = f'confmKey={road_key}&currentPage=1&countPerPage=10'\n",
    "params2 = f'keyword={quote(\"영등포역\")}&resultType=json'\n",
    "url = f'{base_url}?{params1}&{params2}'"
   ]
  },
  {
   "cell_type": "markdown",
   "metadata": {},
   "source": [
    "- Open API를 호출하여 결과 받기"
   ]
  },
  {
   "cell_type": "code",
   "execution_count": 11,
   "metadata": {},
   "outputs": [
    {
     "data": {
      "text/plain": [
       "200"
      ]
     },
     "execution_count": 11,
     "metadata": {},
     "output_type": "execute_result"
    }
   ],
   "source": [
    "result = requests.get(url)\n",
    "result.status_code      # 결과값이 200이면 제대로 받아온것"
   ]
  },
  {
   "cell_type": "code",
   "execution_count": 12,
   "metadata": {},
   "outputs": [
    {
     "data": {
      "text/plain": [
       "'https://www.juso.go.kr/addrlink/addrLinkApi.do?confmKey=devU01TX0FVVEgyMDIzMDkxNDE0NDQwMTExNDEwMTY=&currentPage=1&countPerPage=10&keyword=%EC%98%81%EB%93%B1%ED%8F%AC%EC%97%AD&resultType=json'"
      ]
     },
     "execution_count": 12,
     "metadata": {},
     "output_type": "execute_result"
    }
   ],
   "source": [
    "url"
   ]
  },
  {
   "cell_type": "code",
   "execution_count": 13,
   "metadata": {},
   "outputs": [
    {
     "data": {
      "text/plain": [
       "'{\"results\":{\"common\":{\"errorMessage\":\"정상\",\"countPerPage\":\"10\",\"totalCount\":\"8\",\"errorCode\":\"0\",\"currentPage\":\"1\"},\"juso\":[{\"detBdNmList\":\"\",\"engAddr\":\"B843 Gyeongin-ro, Yeongdeungpo-gu, Seoul\",\"rn\":\"경'"
      ]
     },
     "execution_count": 13,
     "metadata": {},
     "output_type": "execute_result"
    }
   ],
   "source": [
    "result.text[:200]"
   ]
  },
  {
   "cell_type": "markdown",
   "metadata": {},
   "source": [
    "- JSON data를 python에서 읽을 수 있도록 변환"
   ]
  },
  {
   "cell_type": "code",
   "execution_count": 14,
   "metadata": {},
   "outputs": [],
   "source": [
    "res = json.loads(result.text)"
   ]
  },
  {
   "cell_type": "markdown",
   "metadata": {},
   "source": [
    "- 딕셔너리 데이터에서 필요한 정보 추출하기"
   ]
  },
  {
   "cell_type": "code",
   "execution_count": 16,
   "metadata": {},
   "outputs": [
    {
     "data": {
      "text/plain": [
       "dict_keys(['results'])"
      ]
     },
     "execution_count": 16,
     "metadata": {},
     "output_type": "execute_result"
    }
   ],
   "source": [
    "res.keys()"
   ]
  },
  {
   "cell_type": "code",
   "execution_count": 18,
   "metadata": {},
   "outputs": [
    {
     "data": {
      "text/plain": [
       "dict_keys(['common', 'juso'])"
      ]
     },
     "execution_count": 18,
     "metadata": {},
     "output_type": "execute_result"
    }
   ],
   "source": [
    "res['results'].keys()"
   ]
  },
  {
   "cell_type": "code",
   "execution_count": 20,
   "metadata": {},
   "outputs": [
    {
     "data": {
      "text/plain": [
       "list"
      ]
     },
     "execution_count": 20,
     "metadata": {},
     "output_type": "execute_result"
    }
   ],
   "source": [
    "type(res['results']['juso'])"
   ]
  },
  {
   "cell_type": "code",
   "execution_count": 24,
   "metadata": {},
   "outputs": [
    {
     "data": {
      "text/plain": [
       "dict_keys(['detBdNmList', 'engAddr', 'rn', 'emdNm', 'zipNo', 'roadAddrPart2', 'emdNo', 'sggNm', 'jibunAddr', 'siNm', 'roadAddrPart1', 'bdNm', 'admCd', 'udrtYn', 'lnbrMnnm', 'roadAddr', 'lnbrSlno', 'buldMnnm', 'bdKdcd', 'liNm', 'rnMgtSn', 'mtYn', 'bdMgtSn', 'buldSlno'])"
      ]
     },
     "execution_count": 24,
     "metadata": {},
     "output_type": "execute_result"
    }
   ],
   "source": [
    "res['results']['juso'][0].keys()"
   ]
  },
  {
   "cell_type": "code",
   "execution_count": 25,
   "metadata": {},
   "outputs": [
    {
     "data": {
      "text/plain": [
       "'서울특별시 영등포구 경인로 지하843 (영등포동3가)'"
      ]
     },
     "execution_count": 25,
     "metadata": {},
     "output_type": "execute_result"
    }
   ],
   "source": [
    "# 원하는 결과: 도로명 주소\n",
    "res['results']['juso'][0]['roadAddr']"
   ]
  },
  {
   "cell_type": "code",
   "execution_count": 27,
   "metadata": {},
   "outputs": [
    {
     "data": {
      "text/plain": [
       "{'results': {'common': {'errorMessage': '정상',\n",
       "   'countPerPage': '10',\n",
       "   'totalCount': '8',\n",
       "   'errorCode': '0',\n",
       "   'currentPage': '1'},\n",
       "  'juso': [{'detBdNmList': '',\n",
       "    'engAddr': 'B843 Gyeongin-ro, Yeongdeungpo-gu, Seoul',\n",
       "    'rn': '경인로',\n",
       "    'emdNm': '영등포동3가',\n",
       "    'zipNo': '07305',\n",
       "    'roadAddrPart2': ' (영등포동3가)',\n",
       "    'emdNo': '03',\n",
       "    'sggNm': '영등포구',\n",
       "    'jibunAddr': '서울특별시 영등포구 영등포동3가 33 영등포역지하도상가',\n",
       "    'siNm': '서울특별시',\n",
       "    'roadAddrPart1': '서울특별시 영등포구 경인로 지하843',\n",
       "    'bdNm': '영등포역지하도상가',\n",
       "    'admCd': '1156010400',\n",
       "    'udrtYn': '1',\n",
       "    'lnbrMnnm': '33',\n",
       "    'roadAddr': '서울특별시 영등포구 경인로 지하843 (영등포동3가)',\n",
       "    'lnbrSlno': '0',\n",
       "    'buldMnnm': '843',\n",
       "    'bdKdcd': '0',\n",
       "    'liNm': '',\n",
       "    'rnMgtSn': '115603000028',\n",
       "    'mtYn': '0',\n",
       "    'bdMgtSn': '1156010100104230008000001',\n",
       "    'buldSlno': '0'},\n",
       "   {'detBdNmList': '',\n",
       "    'engAddr': '11 Yeongsin-ro 20-gil, Yeongdeungpo-gu, Seoul',\n",
       "    'rn': '영신로20길',\n",
       "    'emdNm': '영등포동',\n",
       "    'zipNo': '07306',\n",
       "    'roadAddrPart2': ' (영등포동)',\n",
       "    'emdNo': '01',\n",
       "    'sggNm': '영등포구',\n",
       "    'jibunAddr': '서울특별시 영등포구 영등포동 618-501 영등포역 파출소',\n",
       "    'siNm': '서울특별시',\n",
       "    'roadAddrPart1': '서울특별시 영등포구 영신로20길 11',\n",
       "    'bdNm': '영등포역 파출소',\n",
       "    'admCd': '1156010100',\n",
       "    'udrtYn': '0',\n",
       "    'lnbrMnnm': '618',\n",
       "    'roadAddr': '서울특별시 영등포구 영신로20길 11 (영등포동)',\n",
       "    'lnbrSlno': '501',\n",
       "    'buldMnnm': '11',\n",
       "    'bdKdcd': '0',\n",
       "    'liNm': '',\n",
       "    'rnMgtSn': '115604154765',\n",
       "    'mtYn': '0',\n",
       "    'bdMgtSn': '1156010100106180501000002',\n",
       "    'buldSlno': '0'},\n",
       "   {'detBdNmList': '2호선',\n",
       "    'engAddr': 'B121 Dangsan-ro, Yeongdeungpo-gu, Seoul',\n",
       "    'rn': '당산로',\n",
       "    'emdNm': '당산동3가',\n",
       "    'zipNo': '07260',\n",
       "    'roadAddrPart2': ' (당산동3가)',\n",
       "    'emdNo': '03',\n",
       "    'sggNm': '영등포구',\n",
       "    'jibunAddr': '서울특별시 영등포구 당산동3가 270-1 영등포구청역',\n",
       "    'siNm': '서울특별시',\n",
       "    'roadAddrPart1': '서울특별시 영등포구 당산로 지하121',\n",
       "    'bdNm': '영등포구청역',\n",
       "    'admCd': '1156011300',\n",
       "    'udrtYn': '1',\n",
       "    'lnbrMnnm': '270',\n",
       "    'roadAddr': '서울특별시 영등포구 당산로 지하121 (당산동3가)',\n",
       "    'lnbrSlno': '1',\n",
       "    'buldMnnm': '121',\n",
       "    'bdKdcd': '0',\n",
       "    'liNm': '',\n",
       "    'rnMgtSn': '115603118004',\n",
       "    'mtYn': '0',\n",
       "    'bdMgtSn': '1156011300102700001000001',\n",
       "    'buldSlno': '0'},\n",
       "   {'detBdNmList': '5호선',\n",
       "    'engAddr': 'B116 Yangsan-ro, Yeongdeungpo-gu, Seoul',\n",
       "    'rn': '양산로',\n",
       "    'emdNm': '당산동3가',\n",
       "    'zipNo': '07264',\n",
       "    'roadAddrPart2': ' (당산동3가)',\n",
       "    'emdNo': '06',\n",
       "    'sggNm': '영등포구',\n",
       "    'jibunAddr': '서울특별시 영등포구 당산동3가 556-1 영등포구청역',\n",
       "    'siNm': '서울특별시',\n",
       "    'roadAddrPart1': '서울특별시 영등포구 양산로 지하116',\n",
       "    'bdNm': '영등포구청역',\n",
       "    'admCd': '1156011300',\n",
       "    'udrtYn': '1',\n",
       "    'lnbrMnnm': '556',\n",
       "    'roadAddr': '서울특별시 영등포구 양산로 지하116 (당산동3가)',\n",
       "    'lnbrSlno': '1',\n",
       "    'buldMnnm': '116',\n",
       "    'bdKdcd': '0',\n",
       "    'liNm': '',\n",
       "    'rnMgtSn': '115603118016',\n",
       "    'mtYn': '0',\n",
       "    'bdMgtSn': '1156011300105560001000001',\n",
       "    'buldSlno': '0'},\n",
       "   {'detBdNmList': '5호선',\n",
       "    'engAddr': 'B200 Yangsan-ro, Yeongdeungpo-gu, Seoul',\n",
       "    'rn': '양산로',\n",
       "    'emdNm': '영등포동5가',\n",
       "    'zipNo': '07250',\n",
       "    'roadAddrPart2': ' (영등포동5가)',\n",
       "    'emdNo': '01',\n",
       "    'sggNm': '영등포구',\n",
       "    'jibunAddr': '서울특별시 영등포구 영등포동5가 62-1 영등포시장역',\n",
       "    'siNm': '서울특별시',\n",
       "    'roadAddrPart1': '서울특별시 영등포구 양산로 지하200',\n",
       "    'bdNm': '영등포시장역',\n",
       "    'admCd': '1156010600',\n",
       "    'udrtYn': '1',\n",
       "    'lnbrMnnm': '62',\n",
       "    'roadAddr': '서울특별시 영등포구 양산로 지하200 (영등포동5가)',\n",
       "    'lnbrSlno': '1',\n",
       "    'buldMnnm': '200',\n",
       "    'bdKdcd': '0',\n",
       "    'liNm': '',\n",
       "    'rnMgtSn': '115603118016',\n",
       "    'mtYn': '0',\n",
       "    'bdMgtSn': '1156010600100620001000001',\n",
       "    'buldSlno': '0'},\n",
       "   {'detBdNmList': '103동,201동,101동,102동',\n",
       "    'engAddr': '112 Yeongdeungpo-ro, Yeongdeungpo-gu, Seoul',\n",
       "    'rn': '영등포로',\n",
       "    'emdNm': '당산동2가',\n",
       "    'zipNo': '07291',\n",
       "    'roadAddrPart2': ' (당산동2가)',\n",
       "    'emdNo': '07',\n",
       "    'sggNm': '영등포구',\n",
       "    'jibunAddr': '서울특별시 영등포구 당산동2가 15-1 문래역 대우미래사랑3차',\n",
       "    'siNm': '서울특별시',\n",
       "    'roadAddrPart1': '서울특별시 영등포구 영등포로 112',\n",
       "    'bdNm': '문래역 대우미래사랑3차',\n",
       "    'admCd': '1156011200',\n",
       "    'udrtYn': '0',\n",
       "    'lnbrMnnm': '15',\n",
       "    'roadAddr': '서울특별시 영등포구 영등포로 112 (당산동2가)',\n",
       "    'lnbrSlno': '1',\n",
       "    'buldMnnm': '112',\n",
       "    'bdKdcd': '0',\n",
       "    'liNm': '',\n",
       "    'rnMgtSn': '115603118022',\n",
       "    'mtYn': '0',\n",
       "    'bdMgtSn': '1156011200100150001000001',\n",
       "    'buldSlno': '0'},\n",
       "   {'detBdNmList': '1호선',\n",
       "    'engAddr': '327 Yeongdeungpo-ro, Yeongdeungpo-gu, Seoul',\n",
       "    'rn': '영등포로',\n",
       "    'emdNm': '신길동',\n",
       "    'zipNo': '07319',\n",
       "    'roadAddrPart2': ' (신길동)',\n",
       "    'emdNo': '10',\n",
       "    'sggNm': '영등포구',\n",
       "    'jibunAddr': '서울특별시 영등포구 신길동 41-1 신길역',\n",
       "    'siNm': '서울특별시',\n",
       "    'roadAddrPart1': '서울특별시 영등포구 영등포로 327',\n",
       "    'bdNm': '신길역',\n",
       "    'admCd': '1156013200',\n",
       "    'udrtYn': '0',\n",
       "    'lnbrMnnm': '41',\n",
       "    'roadAddr': '서울특별시 영등포구 영등포로 327 (신길동)',\n",
       "    'lnbrSlno': '1',\n",
       "    'buldMnnm': '327',\n",
       "    'bdKdcd': '0',\n",
       "    'liNm': '',\n",
       "    'rnMgtSn': '115603118022',\n",
       "    'mtYn': '0',\n",
       "    'bdMgtSn': '1156013200100410049000001',\n",
       "    'buldSlno': '0'},\n",
       "   {'detBdNmList': '롯데백화점 영등포점',\n",
       "    'engAddr': '846 Gyeongin-ro, Yeongdeungpo-gu, Seoul',\n",
       "    'rn': '경인로',\n",
       "    'emdNm': '영등포동',\n",
       "    'zipNo': '07306',\n",
       "    'roadAddrPart2': ' (영등포동)',\n",
       "    'emdNo': '01',\n",
       "    'sggNm': '영등포구',\n",
       "    'jibunAddr': '서울특별시 영등포구 영등포동 618-496 영등포 민자역사',\n",
       "    'siNm': '서울특별시',\n",
       "    'roadAddrPart1': '서울특별시 영등포구 경인로 846',\n",
       "    'bdNm': '영등포 민자역사',\n",
       "    'admCd': '1156010100',\n",
       "    'udrtYn': '0',\n",
       "    'lnbrMnnm': '618',\n",
       "    'roadAddr': '서울특별시 영등포구 경인로 846 (영등포동)',\n",
       "    'lnbrSlno': '496',\n",
       "    'buldMnnm': '846',\n",
       "    'bdKdcd': '0',\n",
       "    'liNm': '',\n",
       "    'rnMgtSn': '115603000028',\n",
       "    'mtYn': '0',\n",
       "    'bdMgtSn': '1156010100106180501000001',\n",
       "    'buldSlno': '0'}]}}"
      ]
     },
     "execution_count": 27,
     "metadata": {},
     "output_type": "execute_result"
    }
   ],
   "source": [
    "res"
   ]
  },
  {
   "cell_type": "markdown",
   "metadata": {},
   "source": [
    "- 영등포역, 신도림역, 당산역, 여의도역, 영등포구청역"
   ]
  },
  {
   "cell_type": "code",
   "execution_count": 30,
   "metadata": {},
   "outputs": [
    {
     "data": {
      "text/plain": [
       "['영등포역', ' 신도림역', ' 당산역', ' 여의도역', ' 영등포구청역']"
      ]
     },
     "execution_count": 30,
     "metadata": {},
     "output_type": "execute_result"
    }
   ],
   "source": [
    "stations = '영등포역, 신도림역, 당산역, 여의도역, 영등포구청역'.split(',')\n",
    "stations"
   ]
  },
  {
   "cell_type": "code",
   "execution_count": 31,
   "metadata": {},
   "outputs": [],
   "source": [
    "road_addr_list = []\n",
    "for station in stations:\n",
    "    params2 = f'keyword={quote(station)}&resultType=json'\n",
    "    url = f'{base_url}?{params1}&{params2}'\n",
    "    result = requests.get(url)\n",
    "    if result.status_code == 200:\n",
    "       res = json.loads(result.text)\n",
    "       road_addr_list.append(res['results']['juso'][0]['roadAddr'])\n",
    "    else:\n",
    "        print(result.status_code)"
   ]
  },
  {
   "cell_type": "code",
   "execution_count": 32,
   "metadata": {},
   "outputs": [
    {
     "data": {
      "text/html": [
       "<div>\n",
       "<style scoped>\n",
       "    .dataframe tbody tr th:only-of-type {\n",
       "        vertical-align: middle;\n",
       "    }\n",
       "\n",
       "    .dataframe tbody tr th {\n",
       "        vertical-align: top;\n",
       "    }\n",
       "\n",
       "    .dataframe thead th {\n",
       "        text-align: right;\n",
       "    }\n",
       "</style>\n",
       "<table border=\"1\" class=\"dataframe\">\n",
       "  <thead>\n",
       "    <tr style=\"text-align: right;\">\n",
       "      <th></th>\n",
       "      <th>이름</th>\n",
       "      <th>주소</th>\n",
       "    </tr>\n",
       "  </thead>\n",
       "  <tbody>\n",
       "    <tr>\n",
       "      <th>0</th>\n",
       "      <td>영등포역</td>\n",
       "      <td>서울특별시 영등포구 경인로 지하843 (영등포동3가)</td>\n",
       "    </tr>\n",
       "    <tr>\n",
       "      <th>1</th>\n",
       "      <td>신도림역</td>\n",
       "      <td>서울특별시 구로구 경인로 625 (신도림동)</td>\n",
       "    </tr>\n",
       "    <tr>\n",
       "      <th>2</th>\n",
       "      <td>당산역</td>\n",
       "      <td>서울특별시 영등포구 당산로 229 (당산동6가)</td>\n",
       "    </tr>\n",
       "    <tr>\n",
       "      <th>3</th>\n",
       "      <td>여의도역</td>\n",
       "      <td>서울특별시 영등포구 여의나루로 지하40 (여의도동)</td>\n",
       "    </tr>\n",
       "    <tr>\n",
       "      <th>4</th>\n",
       "      <td>영등포구청역</td>\n",
       "      <td>서울특별시 영등포구 당산로 지하121 (당산동3가)</td>\n",
       "    </tr>\n",
       "  </tbody>\n",
       "</table>\n",
       "</div>"
      ],
      "text/plain": [
       "        이름                             주소\n",
       "0     영등포역  서울특별시 영등포구 경인로 지하843 (영등포동3가)\n",
       "1     신도림역       서울특별시 구로구 경인로 625 (신도림동)\n",
       "2      당산역     서울특별시 영등포구 당산로 229 (당산동6가)\n",
       "3     여의도역   서울특별시 영등포구 여의나루로 지하40 (여의도동)\n",
       "4   영등포구청역   서울특별시 영등포구 당산로 지하121 (당산동3가)"
      ]
     },
     "execution_count": 32,
     "metadata": {},
     "output_type": "execute_result"
    }
   ],
   "source": [
    "df = pd.DataFrame({\n",
    "    '이름': stations, '주소':road_addr_list\n",
    "})\n",
    "df"
   ]
  },
  {
   "cell_type": "code",
   "execution_count": 34,
   "metadata": {},
   "outputs": [
    {
     "data": {
      "text/html": [
       "<div>\n",
       "<style scoped>\n",
       "    .dataframe tbody tr th:only-of-type {\n",
       "        vertical-align: middle;\n",
       "    }\n",
       "\n",
       "    .dataframe tbody tr th {\n",
       "        vertical-align: top;\n",
       "    }\n",
       "\n",
       "    .dataframe thead th {\n",
       "        text-align: right;\n",
       "    }\n",
       "</style>\n",
       "<table border=\"1\" class=\"dataframe\">\n",
       "  <thead>\n",
       "    <tr style=\"text-align: right;\">\n",
       "      <th></th>\n",
       "      <th>이름</th>\n",
       "      <th>주소</th>\n",
       "    </tr>\n",
       "  </thead>\n",
       "  <tbody>\n",
       "    <tr>\n",
       "      <th>0</th>\n",
       "      <td>영등포역</td>\n",
       "      <td>서울특별시 영등포구 경인로 지하843 (영등포동3가)</td>\n",
       "    </tr>\n",
       "    <tr>\n",
       "      <th>1</th>\n",
       "      <td>신도림역</td>\n",
       "      <td>서울특별시 구로구 경인로 625 (신도림동)</td>\n",
       "    </tr>\n",
       "    <tr>\n",
       "      <th>2</th>\n",
       "      <td>당산역</td>\n",
       "      <td>서울특별시 영등포구 당산로 229 (당산동6가)</td>\n",
       "    </tr>\n",
       "    <tr>\n",
       "      <th>3</th>\n",
       "      <td>여의도역</td>\n",
       "      <td>서울특별시 영등포구 여의나루로 지하40 (여의도동)</td>\n",
       "    </tr>\n",
       "    <tr>\n",
       "      <th>4</th>\n",
       "      <td>영등포구청역</td>\n",
       "      <td>서울특별시 영등포구 당산로 지하121 (당산동3가)</td>\n",
       "    </tr>\n",
       "  </tbody>\n",
       "</table>\n",
       "</div>"
      ],
      "text/plain": [
       "        이름                             주소\n",
       "0     영등포역  서울특별시 영등포구 경인로 지하843 (영등포동3가)\n",
       "1     신도림역       서울특별시 구로구 경인로 625 (신도림동)\n",
       "2      당산역     서울특별시 영등포구 당산로 229 (당산동6가)\n",
       "3     여의도역   서울특별시 영등포구 여의나루로 지하40 (여의도동)\n",
       "4   영등포구청역   서울특별시 영등포구 당산로 지하121 (당산동3가)"
      ]
     },
     "execution_count": 34,
     "metadata": {},
     "output_type": "execute_result"
    }
   ],
   "source": [
    "df.to_csv('data/영등포소재 지하철역.csv', index=False)      # index=False이걸해야 언네임드컬럼안뜸!! 기억!!\n",
    "pd.read_csv('data/영등포소재 지하철역.csv')"
   ]
  },
  {
   "cell_type": "code",
   "execution_count": null,
   "metadata": {},
   "outputs": [],
   "source": []
  }
 ],
 "metadata": {
  "kernelspec": {
   "display_name": "base",
   "language": "python",
   "name": "python3"
  },
  "language_info": {
   "codemirror_mode": {
    "name": "ipython",
    "version": 3
   },
   "file_extension": ".py",
   "mimetype": "text/x-python",
   "name": "python",
   "nbconvert_exporter": "python",
   "pygments_lexer": "ipython3",
   "version": "3.11.4"
  },
  "orig_nbformat": 4
 },
 "nbformat": 4,
 "nbformat_minor": 2
}

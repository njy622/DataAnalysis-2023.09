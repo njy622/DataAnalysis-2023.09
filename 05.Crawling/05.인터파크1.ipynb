{
 "cells": [
  {
   "attachments": {},
   "cell_type": "markdown",
   "metadata": {},
   "source": [
    "### 인터파크 - 베스트셀러"
   ]
  },
  {
   "cell_type": "code",
   "execution_count": 1,
   "metadata": {},
   "outputs": [],
   "source": [
    "import requests\n",
    "import pandas as pd\n",
    "from bs4 import BeautifulSoup"
   ]
  },
  {
   "attachments": {},
   "cell_type": "markdown",
   "metadata": {},
   "source": [
    "- Step 1"
   ]
  },
  {
   "cell_type": "code",
   "execution_count": 2,
   "metadata": {},
   "outputs": [],
   "source": [
    "# http://book.interpark.com/display/collectlist.do?_method=BestsellerHourNew201605&bestTp=1&dispNo=028\n",
    "url = 'http://book.interpark.com/display/collectlist.do?_method=BestsellerHourNew201605&bestTp=1&dispNo=028'\n",
    "res = requests.get(url)\n",
    "soup = BeautifulSoup(res.text, 'html.parser')"
   ]
  },
  {
   "attachments": {},
   "cell_type": "markdown",
   "metadata": {},
   "source": [
    "- Step 2"
   ]
  },
  {
   "cell_type": "code",
   "execution_count": 3,
   "metadata": {},
   "outputs": [
    {
     "data": {
      "text/plain": [
       "15"
      ]
     },
     "execution_count": 3,
     "metadata": {},
     "output_type": "execute_result"
    }
   ],
   "source": [
    "lis = soup.select('.rankBestContentList > ol > li')\n",
    "len(lis)"
   ]
  },
  {
   "attachments": {},
   "cell_type": "markdown",
   "metadata": {},
   "source": [
    "- Step 3"
   ]
  },
  {
   "cell_type": "code",
   "execution_count": 4,
   "metadata": {},
   "outputs": [],
   "source": [
    "li = lis[0]"
   ]
  },
  {
   "attachments": {},
   "cell_type": "markdown",
   "metadata": {},
   "source": [
    "- rank\n",
    "    - rankBtn_ctrl rkNum_B01 (1 ~ 9위)\n",
    "    - rankBtn_ctrl rkNum_M01, rankBtn_ctrl rkNum_M03 (10 ~ 15위)"
   ]
  },
  {
   "cell_type": "code",
   "execution_count": 5,
   "metadata": {},
   "outputs": [
    {
     "data": {
      "text/plain": [
       "[<span class=\"rankBtn_ctrl rkNum_B01\"></span>]"
      ]
     },
     "execution_count": 5,
     "metadata": {},
     "output_type": "execute_result"
    }
   ],
   "source": [
    "li1, li13 = lis[0], lis[12]\n",
    "li1.select('.rankBtn_ctrl')"
   ]
  },
  {
   "cell_type": "code",
   "execution_count": 6,
   "metadata": {},
   "outputs": [
    {
     "data": {
      "text/plain": [
       "[<span class=\"rankBtn_ctrl rkNum_M01\"></span>,\n",
       " <span class=\"rankBtn_ctrl rkNum_M03\"></span>]"
      ]
     },
     "execution_count": 6,
     "metadata": {},
     "output_type": "execute_result"
    }
   ],
   "source": [
    "li13.select('.rankBtn_ctrl')"
   ]
  },
  {
   "cell_type": "code",
   "execution_count": 7,
   "metadata": {},
   "outputs": [
    {
     "data": {
      "text/plain": [
       "['rankBtn_ctrl', 'rkNum_B01']"
      ]
     },
     "execution_count": 7,
     "metadata": {},
     "output_type": "execute_result"
    }
   ],
   "source": [
    "li1.select_one('.rankBtn_ctrl')['class']"
   ]
  },
  {
   "cell_type": "code",
   "execution_count": 8,
   "metadata": {},
   "outputs": [],
   "source": [
    "rank_data = li.select('.rankBtn_ctrl')\n",
    "if len(rank_data) == 1:\n",
    "    rank = int(rank_data[0]['class'][-1][-1])\n",
    "else:\n",
    "    rank = int(rank_data[0]['class'][-1][-1] + rank_data[1]['class'][-1][-1])"
   ]
  },
  {
   "cell_type": "code",
   "execution_count": 9,
   "metadata": {},
   "outputs": [
    {
     "data": {
      "text/plain": [
       "'흔한남매 14'"
      ]
     },
     "execution_count": 9,
     "metadata": {},
     "output_type": "execute_result"
    }
   ],
   "source": [
    "# 제목\n",
    "title = li.select_one('.itemName').get_text().strip()\n",
    "title"
   ]
  },
  {
   "cell_type": "code",
   "execution_count": 10,
   "metadata": {},
   "outputs": [
    {
     "data": {
      "text/plain": [
       "'흔한남매, 백난도/유난희 그림/흔한컴퍼니 감수'"
      ]
     },
     "execution_count": 10,
     "metadata": {},
     "output_type": "execute_result"
    }
   ],
   "source": [
    "# 저자\n",
    "author = li.select_one('.author').get_text().strip()\n",
    "author"
   ]
  },
  {
   "cell_type": "code",
   "execution_count": 11,
   "metadata": {},
   "outputs": [
    {
     "data": {
      "text/plain": [
       "'미래엔아이세움'"
      ]
     },
     "execution_count": 11,
     "metadata": {},
     "output_type": "execute_result"
    }
   ],
   "source": [
    "# 출판사\n",
    "company = li.select_one('.company').get_text().strip()\n",
    "company"
   ]
  },
  {
   "cell_type": "code",
   "execution_count": 12,
   "metadata": {},
   "outputs": [
    {
     "data": {
      "text/plain": [
       "13050"
      ]
     },
     "execution_count": 12,
     "metadata": {},
     "output_type": "execute_result"
    }
   ],
   "source": [
    "# 가격\n",
    "price = li.select_one('.price > em').get_text().strip()\n",
    "price = int(price.replace(',',''))\n",
    "price"
   ]
  },
  {
   "attachments": {},
   "cell_type": "markdown",
   "metadata": {},
   "source": [
    "- Step 4"
   ]
  },
  {
   "cell_type": "code",
   "execution_count": 13,
   "metadata": {},
   "outputs": [],
   "source": [
    "lines = []\n",
    "for li in lis:\n",
    "    rank_data = li.select('.rankBtn_ctrl')\n",
    "    if len(rank_data) == 1:\n",
    "        rank = int(rank_data[0]['class'][-1][-1])\n",
    "    else:\n",
    "        rank = int(rank_data[0]['class'][-1][-1] + rank_data[1]['class'][-1][-1]) \n",
    "    title = li.select_one('.itemName').get_text().strip()\n",
    "    author = li.select_one('.author').get_text().strip()\n",
    "    company = li.select_one('.company').get_text().strip()\n",
    "    price = li.select_one('.price > em').get_text().strip()   \n",
    "    lines.append({'순위':rank, '제목':title, '저자':author, '출판사':company, '가격':price})"
   ]
  },
  {
   "cell_type": "code",
   "execution_count": 14,
   "metadata": {},
   "outputs": [
    {
     "data": {
      "text/html": [
       "<div>\n",
       "<style scoped>\n",
       "    .dataframe tbody tr th:only-of-type {\n",
       "        vertical-align: middle;\n",
       "    }\n",
       "\n",
       "    .dataframe tbody tr th {\n",
       "        vertical-align: top;\n",
       "    }\n",
       "\n",
       "    .dataframe thead th {\n",
       "        text-align: right;\n",
       "    }\n",
       "</style>\n",
       "<table border=\"1\" class=\"dataframe\">\n",
       "  <thead>\n",
       "    <tr style=\"text-align: right;\">\n",
       "      <th></th>\n",
       "      <th>순위</th>\n",
       "      <th>제목</th>\n",
       "      <th>저자</th>\n",
       "      <th>출판사</th>\n",
       "      <th>가격</th>\n",
       "    </tr>\n",
       "  </thead>\n",
       "  <tbody>\n",
       "    <tr>\n",
       "      <th>0</th>\n",
       "      <td>1</td>\n",
       "      <td>흔한남매 14</td>\n",
       "      <td>흔한남매, 백난도/유난희 그림/흔한컴퍼니 감수</td>\n",
       "      <td>미래엔아이세움</td>\n",
       "      <td>13,050</td>\n",
       "    </tr>\n",
       "    <tr>\n",
       "      <th>1</th>\n",
       "      <td>1</td>\n",
       "      <td>도시와 그 불확실한 벽</td>\n",
       "      <td>무라카미 하루키(村上春樹)</td>\n",
       "      <td>문학동네</td>\n",
       "      <td>17,550</td>\n",
       "    </tr>\n",
       "    <tr>\n",
       "      <th>2</th>\n",
       "      <td>3</td>\n",
       "      <td>일론 머스크</td>\n",
       "      <td>월터 아이작슨</td>\n",
       "      <td>21세기북스</td>\n",
       "      <td>34,200</td>\n",
       "    </tr>\n",
       "    <tr>\n",
       "      <th>3</th>\n",
       "      <td>4</td>\n",
       "      <td>퓨처 셀프</td>\n",
       "      <td>벤저민 하디/최은아 역</td>\n",
       "      <td>상상스퀘어</td>\n",
       "      <td>17,820</td>\n",
       "    </tr>\n",
       "    <tr>\n",
       "      <th>4</th>\n",
       "      <td>5</td>\n",
       "      <td>가짜 노동</td>\n",
       "      <td>데니스 뇌르마르크, 아네르스 포그 옌센/이수영 역</td>\n",
       "      <td>자음과모음</td>\n",
       "      <td>15,120</td>\n",
       "    </tr>\n",
       "    <tr>\n",
       "      <th>5</th>\n",
       "      <td>6</td>\n",
       "      <td>어떤 하락장에서도 살아남을 수 있는 시장 불변의 법칙</td>\n",
       "      <td>장지웅</td>\n",
       "      <td>여의도책방</td>\n",
       "      <td>18,000</td>\n",
       "    </tr>\n",
       "    <tr>\n",
       "      <th>6</th>\n",
       "      <td>7</td>\n",
       "      <td>트렌드 코리아 2024</td>\n",
       "      <td>김난도, 추예린, 전다현, 전미영, 최지혜</td>\n",
       "      <td>미래의창</td>\n",
       "      <td>17,100</td>\n",
       "    </tr>\n",
       "    <tr>\n",
       "      <th>7</th>\n",
       "      <td>7</td>\n",
       "      <td>1%를 읽는 힘</td>\n",
       "      <td>메르</td>\n",
       "      <td>토네이도</td>\n",
       "      <td>19,800</td>\n",
       "    </tr>\n",
       "    <tr>\n",
       "      <th>8</th>\n",
       "      <td>7</td>\n",
       "      <td>디케의 눈물</td>\n",
       "      <td>조국</td>\n",
       "      <td>다산북스</td>\n",
       "      <td>16,920</td>\n",
       "    </tr>\n",
       "    <tr>\n",
       "      <th>9</th>\n",
       "      <td>10</td>\n",
       "      <td>세이노의 가르침</td>\n",
       "      <td>세이노</td>\n",
       "      <td>데이원</td>\n",
       "      <td>6,480</td>\n",
       "    </tr>\n",
       "    <tr>\n",
       "      <th>10</th>\n",
       "      <td>11</td>\n",
       "      <td>최민준의 아들코칭 백과</td>\n",
       "      <td>최민준</td>\n",
       "      <td>위즈덤하우스</td>\n",
       "      <td>16,920</td>\n",
       "    </tr>\n",
       "    <tr>\n",
       "      <th>11</th>\n",
       "      <td>11</td>\n",
       "      <td>5천 년 역사가 단숨에 이해되는 최소한의 한국사</td>\n",
       "      <td>최태성</td>\n",
       "      <td>프런트페이지</td>\n",
       "      <td>16,200</td>\n",
       "    </tr>\n",
       "    <tr>\n",
       "      <th>12</th>\n",
       "      <td>13</td>\n",
       "      <td>도둑맞은 집중력</td>\n",
       "      <td>요한 하리/김하현 역</td>\n",
       "      <td>어크로스</td>\n",
       "      <td>16,920</td>\n",
       "    </tr>\n",
       "    <tr>\n",
       "      <th>13</th>\n",
       "      <td>14</td>\n",
       "      <td>힘과 쉼</td>\n",
       "      <td>백영옥</td>\n",
       "      <td>김영사</td>\n",
       "      <td>15,120</td>\n",
       "    </tr>\n",
       "    <tr>\n",
       "      <th>14</th>\n",
       "      <td>14</td>\n",
       "      <td>비가 오면 열리는 상점</td>\n",
       "      <td>유영광</td>\n",
       "      <td>클레이하우스</td>\n",
       "      <td>15,120</td>\n",
       "    </tr>\n",
       "  </tbody>\n",
       "</table>\n",
       "</div>"
      ],
      "text/plain": [
       "    순위                             제목                           저자      출판사  \\\n",
       "0    1                        흔한남매 14    흔한남매, 백난도/유난희 그림/흔한컴퍼니 감수  미래엔아이세움   \n",
       "1    1                   도시와 그 불확실한 벽               무라카미 하루키(村上春樹)     문학동네   \n",
       "2    3                         일론 머스크                      월터 아이작슨   21세기북스   \n",
       "3    4                          퓨처 셀프                 벤저민 하디/최은아 역    상상스퀘어   \n",
       "4    5                          가짜 노동  데니스 뇌르마르크, 아네르스 포그 옌센/이수영 역    자음과모음   \n",
       "5    6  어떤 하락장에서도 살아남을 수 있는 시장 불변의 법칙                          장지웅    여의도책방   \n",
       "6    7                   트렌드 코리아 2024      김난도, 추예린, 전다현, 전미영, 최지혜     미래의창   \n",
       "7    7                       1%를 읽는 힘                           메르     토네이도   \n",
       "8    7                         디케의 눈물                           조국     다산북스   \n",
       "9   10                       세이노의 가르침                          세이노      데이원   \n",
       "10  11                   최민준의 아들코칭 백과                          최민준   위즈덤하우스   \n",
       "11  11     5천 년 역사가 단숨에 이해되는 최소한의 한국사                          최태성   프런트페이지   \n",
       "12  13                       도둑맞은 집중력                  요한 하리/김하현 역     어크로스   \n",
       "13  14                           힘과 쉼                          백영옥      김영사   \n",
       "14  14                   비가 오면 열리는 상점                          유영광   클레이하우스   \n",
       "\n",
       "        가격  \n",
       "0   13,050  \n",
       "1   17,550  \n",
       "2   34,200  \n",
       "3   17,820  \n",
       "4   15,120  \n",
       "5   18,000  \n",
       "6   17,100  \n",
       "7   19,800  \n",
       "8   16,920  \n",
       "9    6,480  \n",
       "10  16,920  \n",
       "11  16,200  \n",
       "12  16,920  \n",
       "13  15,120  \n",
       "14  15,120  "
      ]
     },
     "execution_count": 14,
     "metadata": {},
     "output_type": "execute_result"
    }
   ],
   "source": [
    "pd.DataFrame(lines)"
   ]
  },
  {
   "cell_type": "code",
   "execution_count": null,
   "metadata": {},
   "outputs": [],
   "source": []
  }
 ],
 "metadata": {
  "kernelspec": {
   "display_name": "base",
   "language": "python",
   "name": "python3"
  },
  "language_info": {
   "codemirror_mode": {
    "name": "ipython",
    "version": 3
   },
   "file_extension": ".py",
   "mimetype": "text/x-python",
   "name": "python",
   "nbconvert_exporter": "python",
   "pygments_lexer": "ipython3",
   "version": "3.11.4"
  },
  "orig_nbformat": 4
 },
 "nbformat": 4,
 "nbformat_minor": 2
}

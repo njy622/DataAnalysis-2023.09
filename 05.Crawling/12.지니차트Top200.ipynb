{
 "cells": [
  {
   "cell_type": "markdown",
   "metadata": {},
   "source": [
    "## 지니차트 Top 200"
   ]
  },
  {
   "cell_type": "code",
   "execution_count": 242,
   "metadata": {},
   "outputs": [],
   "source": [
    "import requests\n",
    "import pandas as pd\n",
    "from bs4 import BeautifulSoup\n",
    "from tqdm import tqdm\n",
    "from urllib.parse import quote "
   ]
  },
  {
   "cell_type": "code",
   "execution_count": 243,
   "metadata": {},
   "outputs": [
    {
     "data": {
      "text/plain": [
       "'<br>\\r\\n<br>\\r\\n<center>\\r\\n<br>\\r\\n<h2> <meta http-equiv=\"Content-Type\" content=\"text/html;charset=UTF-8\"> ì\\xa0\\x91ì\\x86\\x8dì\\x9a\\x94ì²\\xadì\\x9d´ ë³´ì\\x95\\x88ì\\xa0\\x95ì±\\x85ì\\x97\\x90 ì\\x9d\\x98í\\x95´ ì°¨ë\\x8b¨ë\\x90\\x98ì\\x97\\x88ì\\x8aµë\\x8b\\x88ë\\x8b¤. ë\\x8b¹ì\\x82¬ ê³\\xa0ê°\\x9dì\\x84¼í\\x84°ë¡\\x9c ë¬¸ì\\x9d\\x98í\\x95´ì£¼ì\\x8b\\xadì\\x8b\\x9cì\\x98¤.<br><br>\\r\\nThe security policy of the connection request is blocked. Contact your customer service representative.<br><br>\\r\\nì§\\x80ë\\x8b\\x88ë®¤ì§\\x81 ê³\\xa0ê°\\x9dì\\x84¼í\\x84° 1577-5337<br><br>\\r\\n</h2>\\r\\n</center>\\r\\n<br>'"
      ]
     },
     "execution_count": 243,
     "metadata": {},
     "output_type": "execute_result"
    }
   ],
   "source": [
    "url = 'https://www.genie.co.kr/chart/top200'\n",
    "res = requests.get(url)\n",
    "res.text\n"
   ]
  },
  {
   "cell_type": "code",
   "execution_count": 244,
   "metadata": {},
   "outputs": [
    {
     "data": {
      "text/plain": [
       "'\\r\\n\\r\\n\\r\\n\\r\\n\\r\\n\\r\\n<!DOCTYPE html>\\r\\n<html lang=\"ko\">\\r\\n<head>\\r\\n\\t\\n\\n\\n\\n\\n<meta http-equiv=\"X-UA-Compatible\" content=\"IE=edge\" />\\n<!--[if lte IE 6]><html dir=\"ltr\" class=\"no-js ie6\"><![endif]-->\\n<!--[if lte IE 7]><html dir=\"ltr\" class=\"no-js ie7\"><![endif]-->\\n<!--[if IE 8]><html dir=\"ltr\" class=\"no-js ie8\"><![endif]-->\\n<!--[if IE 9]><html dir=\"ltr\" class=\"no-js ie9\"><![endif]-->\\n<!--[if (gte IE 10)|!(IE)]><!--><html dir=\"ltr\" class=\"no-js\"><!--<![endif]-->\\n<title>음악, 그리고 설레임 - 지니</title>\\n<meta charset=\"utf-8'"
      ]
     },
     "execution_count": 244,
     "metadata": {},
     "output_type": "execute_result"
    }
   ],
   "source": [
    "header = {'User-Agent' : 'Mozilla/5.0 (Windows NT 10.0; Win64; x64) AppleWebKit/537.36 (KHTML, like Gecko) Chrome/117.0.0.0 Safari/537.36'}\n",
    "res = requests.get(url, headers=header)\n",
    "res.text[:500]"
   ]
  },
  {
   "cell_type": "code",
   "execution_count": 245,
   "metadata": {},
   "outputs": [],
   "source": [
    "soup = BeautifulSoup(res.text, 'html.parser')"
   ]
  },
  {
   "cell_type": "code",
   "execution_count": 246,
   "metadata": {},
   "outputs": [
    {
     "data": {
      "text/plain": [
       "'17'"
      ]
     },
     "execution_count": 246,
     "metadata": {},
     "output_type": "execute_result"
    }
   ],
   "source": [
    "# 다량의 페이지\n",
    "from datetime import datetime, timedelta\n",
    "import time\n",
    "now = datetime.now()\n",
    "date = now.strftime('%Y%m%d')\n",
    "hour = now.strftime('%H')\n",
    "hour"
   ]
  },
  {
   "cell_type": "code",
   "execution_count": 247,
   "metadata": {},
   "outputs": [
    {
     "data": {
      "text/plain": [
       "50"
      ]
     },
     "execution_count": 247,
     "metadata": {},
     "output_type": "execute_result"
    }
   ],
   "source": [
    "# 하나의 데이터 \n",
    "lis = soup.select('tbody > .list')\n",
    "li = lis[10]\n",
    "len(lis)"
   ]
  },
  {
   "cell_type": "code",
   "execution_count": 248,
   "metadata": {},
   "outputs": [
    {
     "data": {
      "text/plain": [
       "11"
      ]
     },
     "execution_count": 248,
     "metadata": {},
     "output_type": "execute_result"
    }
   ],
   "source": [
    "# 순위\n",
    "rank = int(li.select_one('.number').get_text().replace(' ', '').split('\\n')[0])\n",
    "rank"
   ]
  },
  {
   "cell_type": "code",
   "execution_count": 249,
   "metadata": {},
   "outputs": [
    {
     "data": {
      "text/plain": [
       "'Hype boy'"
      ]
     },
     "execution_count": 249,
     "metadata": {},
     "output_type": "execute_result"
    }
   ],
   "source": [
    "# 제목\n",
    "title = li.select_one('.title.ellipsis').get_text().strip()\n",
    "title"
   ]
  },
  {
   "cell_type": "code",
   "execution_count": 250,
   "metadata": {},
   "outputs": [
    {
     "data": {
      "text/plain": [
       "'NewJeans'"
      ]
     },
     "execution_count": 250,
     "metadata": {},
     "output_type": "execute_result"
    }
   ],
   "source": [
    "# 뮤지션\n",
    "artist = li.select_one('.artist.ellipsis').get_text().strip()\n",
    "artist"
   ]
  },
  {
   "cell_type": "code",
   "execution_count": 251,
   "metadata": {},
   "outputs": [
    {
     "data": {
      "text/plain": [
       "\"NewJeans 1st EP 'New Jeans'\""
      ]
     },
     "execution_count": 251,
     "metadata": {},
     "output_type": "execute_result"
    }
   ],
   "source": [
    "# 앨범\n",
    "album = li.select_one('.albumtitle.ellipsis').get_text().strip()\n",
    "album"
   ]
  },
  {
   "cell_type": "code",
   "execution_count": 266,
   "metadata": {},
   "outputs": [
    {
     "name": "stderr",
     "output_type": "stream",
     "text": [
      "100%|██████████| 4/4 [00:01<00:00,  2.81it/s]\n"
     ]
    }
   ],
   "source": [
    "data = []\n",
    "base_url = 'https://www.genie.co.kr/chart/top200?ditc=D&ymd='\n",
    "\n",
    "\n",
    "for page in tqdm(range(1, 5)):\n",
    "    header = {'User-Agent' : 'Mozilla/5.0 (Windows NT 10.0; Win64; x64) AppleWebKit/537.36 (KHTML, like Gecko) Chrome/117.0.0.0 Safari/537.36'}\n",
    "    url = f'{base_url}{date}&hh={hour}&rtm=Y&pg={page}'\n",
    "    res = requests.get(url, headers=header)\n",
    "    soup = BeautifulSoup(res.text, 'html.parser')\n",
    "    lis = soup.select('tbody > .list')\n",
    "    \n",
    "    for li in lis:\n",
    "        rank = int(li.select_one('.number').get_text().replace(' ', '').split('\\n')[0])\n",
    "        title = li.select_one('.title.ellipsis').get_text().strip()\n",
    "        artist = li.select_one('.artist.ellipsis').get_text().strip()\n",
    "        album = li.select_one('.albumtitle.ellipsis').get_text().strip()\n",
    "        img = 'http:' + li.select_one('img')['src']\n",
    "        data.append({'순위':rank, '제목':title, '가수':artist, '앨범':album, '이미지':img})\n"
   ]
  },
  {
   "cell_type": "code",
   "execution_count": 267,
   "metadata": {},
   "outputs": [
    {
     "data": {
      "text/html": [
       "<div>\n",
       "<style scoped>\n",
       "    .dataframe tbody tr th:only-of-type {\n",
       "        vertical-align: middle;\n",
       "    }\n",
       "\n",
       "    .dataframe tbody tr th {\n",
       "        vertical-align: top;\n",
       "    }\n",
       "\n",
       "    .dataframe thead th {\n",
       "        text-align: right;\n",
       "    }\n",
       "</style>\n",
       "<table border=\"1\" class=\"dataframe\">\n",
       "  <thead>\n",
       "    <tr style=\"text-align: right;\">\n",
       "      <th></th>\n",
       "      <th>순위</th>\n",
       "      <th>제목</th>\n",
       "      <th>가수</th>\n",
       "      <th>앨범</th>\n",
       "      <th>이미지</th>\n",
       "    </tr>\n",
       "  </thead>\n",
       "  <tbody>\n",
       "    <tr>\n",
       "      <th>0</th>\n",
       "      <td>1</td>\n",
       "      <td>Love Lee</td>\n",
       "      <td>AKMU (악뮤)</td>\n",
       "      <td>Love Lee</td>\n",
       "      <td>http://image.genie.co.kr/Y/IMAGE/IMG_ALBUM/084...</td>\n",
       "    </tr>\n",
       "    <tr>\n",
       "      <th>1</th>\n",
       "      <td>2</td>\n",
       "      <td>Smoke (Prod. by Dynamicduo &amp; Padi)</td>\n",
       "      <td>다이나믹 듀오 &amp; 이영지</td>\n",
       "      <td>스트릿 우먼 파이터2 (SWF2) 계급미션</td>\n",
       "      <td>http://image.genie.co.kr/Y/IMAGE/IMG_ALBUM/084...</td>\n",
       "    </tr>\n",
       "    <tr>\n",
       "      <th>2</th>\n",
       "      <td>3</td>\n",
       "      <td>후라이의 꿈</td>\n",
       "      <td>AKMU (악뮤)</td>\n",
       "      <td>Love Lee</td>\n",
       "      <td>http://image.genie.co.kr/Y/IMAGE/IMG_ALBUM/084...</td>\n",
       "    </tr>\n",
       "    <tr>\n",
       "      <th>3</th>\n",
       "      <td>4</td>\n",
       "      <td>ETA</td>\n",
       "      <td>NewJeans</td>\n",
       "      <td>NewJeans 2nd EP 'Get Up'</td>\n",
       "      <td>http://image.genie.co.kr/Y/IMAGE/IMG_ALBUM/084...</td>\n",
       "    </tr>\n",
       "    <tr>\n",
       "      <th>4</th>\n",
       "      <td>5</td>\n",
       "      <td>Seven (Feat. Latto) (Clean Ver.)</td>\n",
       "      <td>정국</td>\n",
       "      <td>Seven (Clean Ver.)</td>\n",
       "      <td>http://image.genie.co.kr/Y/IMAGE/IMG_ALBUM/084...</td>\n",
       "    </tr>\n",
       "    <tr>\n",
       "      <th>...</th>\n",
       "      <td>...</td>\n",
       "      <td>...</td>\n",
       "      <td>...</td>\n",
       "      <td>...</td>\n",
       "      <td>...</td>\n",
       "    </tr>\n",
       "    <tr>\n",
       "      <th>195</th>\n",
       "      <td>196</td>\n",
       "      <td>10,000 Hours</td>\n",
       "      <td>Dan ＋ Shay &amp; Justin Bieber</td>\n",
       "      <td>Good Things</td>\n",
       "      <td>http://image.genie.co.kr/Y/IMAGE/IMG_ALBUM/081...</td>\n",
       "    </tr>\n",
       "    <tr>\n",
       "      <th>196</th>\n",
       "      <td>197</td>\n",
       "      <td>Lonely</td>\n",
       "      <td>2NE1</td>\n",
       "      <td>Lonely</td>\n",
       "      <td>http://image.genie.co.kr/Y/IMAGE/IMG_ALBUM/080...</td>\n",
       "    </tr>\n",
       "    <tr>\n",
       "      <th>197</th>\n",
       "      <td>198</td>\n",
       "      <td>나의 바람 (Wind And Wish)</td>\n",
       "      <td>비투비</td>\n",
       "      <td>WIND AND WISH</td>\n",
       "      <td>http://image.genie.co.kr/Y/IMAGE/IMG_ALBUM/083...</td>\n",
       "    </tr>\n",
       "    <tr>\n",
       "      <th>198</th>\n",
       "      <td>199</td>\n",
       "      <td>Love Love Love (Feat. Yoong Jin of Casker))</td>\n",
       "      <td>에픽하이 (EPIK HIGH)</td>\n",
       "      <td>Remapping The Human Soul</td>\n",
       "      <td>http://image.genie.co.kr/Y/IMAGE/IMG_ALBUM/045...</td>\n",
       "    </tr>\n",
       "    <tr>\n",
       "      <th>199</th>\n",
       "      <td>200</td>\n",
       "      <td>라일락</td>\n",
       "      <td>아이유 (IU)</td>\n",
       "      <td>IU 5th Album 'LILAC'</td>\n",
       "      <td>http://image.genie.co.kr/Y/IMAGE/IMG_ALBUM/081...</td>\n",
       "    </tr>\n",
       "  </tbody>\n",
       "</table>\n",
       "<p>200 rows × 5 columns</p>\n",
       "</div>"
      ],
      "text/plain": [
       "      순위                                           제목  \\\n",
       "0      1                                     Love Lee   \n",
       "1      2           Smoke (Prod. by Dynamicduo & Padi)   \n",
       "2      3                                       후라이의 꿈   \n",
       "3      4                                          ETA   \n",
       "4      5             Seven (Feat. Latto) (Clean Ver.)   \n",
       "..   ...                                          ...   \n",
       "195  196                                 10,000 Hours   \n",
       "196  197                                       Lonely   \n",
       "197  198                        나의 바람 (Wind And Wish)   \n",
       "198  199  Love Love Love (Feat. Yoong Jin of Casker))   \n",
       "199  200                                          라일락   \n",
       "\n",
       "                             가수                        앨범  \\\n",
       "0                     AKMU (악뮤)                  Love Lee   \n",
       "1                 다이나믹 듀오 & 이영지   스트릿 우먼 파이터2 (SWF2) 계급미션   \n",
       "2                     AKMU (악뮤)                  Love Lee   \n",
       "3                      NewJeans  NewJeans 2nd EP 'Get Up'   \n",
       "4                            정국        Seven (Clean Ver.)   \n",
       "..                          ...                       ...   \n",
       "195  Dan ＋ Shay & Justin Bieber               Good Things   \n",
       "196                        2NE1                    Lonely   \n",
       "197                         비투비             WIND AND WISH   \n",
       "198            에픽하이 (EPIK HIGH)  Remapping The Human Soul   \n",
       "199                    아이유 (IU)      IU 5th Album 'LILAC'   \n",
       "\n",
       "                                                   이미지  \n",
       "0    http://image.genie.co.kr/Y/IMAGE/IMG_ALBUM/084...  \n",
       "1    http://image.genie.co.kr/Y/IMAGE/IMG_ALBUM/084...  \n",
       "2    http://image.genie.co.kr/Y/IMAGE/IMG_ALBUM/084...  \n",
       "3    http://image.genie.co.kr/Y/IMAGE/IMG_ALBUM/084...  \n",
       "4    http://image.genie.co.kr/Y/IMAGE/IMG_ALBUM/084...  \n",
       "..                                                 ...  \n",
       "195  http://image.genie.co.kr/Y/IMAGE/IMG_ALBUM/081...  \n",
       "196  http://image.genie.co.kr/Y/IMAGE/IMG_ALBUM/080...  \n",
       "197  http://image.genie.co.kr/Y/IMAGE/IMG_ALBUM/083...  \n",
       "198  http://image.genie.co.kr/Y/IMAGE/IMG_ALBUM/045...  \n",
       "199  http://image.genie.co.kr/Y/IMAGE/IMG_ALBUM/081...  \n",
       "\n",
       "[200 rows x 5 columns]"
      ]
     },
     "execution_count": 267,
     "metadata": {},
     "output_type": "execute_result"
    }
   ],
   "source": [
    "df = pd.DataFrame(data)\n",
    "df"
   ]
  },
  {
   "cell_type": "code",
   "execution_count": null,
   "metadata": {},
   "outputs": [],
   "source": []
  }
 ],
 "metadata": {
  "kernelspec": {
   "display_name": "base",
   "language": "python",
   "name": "python3"
  },
  "language_info": {
   "codemirror_mode": {
    "name": "ipython",
    "version": 3
   },
   "file_extension": ".py",
   "mimetype": "text/x-python",
   "name": "python",
   "nbconvert_exporter": "python",
   "pygments_lexer": "ipython3",
   "version": "3.11.4"
  },
  "orig_nbformat": 4
 },
 "nbformat": 4,
 "nbformat_minor": 2
}

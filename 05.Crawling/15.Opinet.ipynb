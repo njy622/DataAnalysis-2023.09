{
 "cells": [
  {
   "cell_type": "markdown",
   "metadata": {},
   "source": [
    "## Opinet - 셀프주유소가 정말 저렴할까?"
   ]
  },
  {
   "cell_type": "code",
   "execution_count": 1,
   "metadata": {},
   "outputs": [],
   "source": [
    "import time\n",
    "import pandas as pd\n",
    "from bs4 import BeautifulSoup\n",
    "from selenium import webdriver\n",
    "from selenium.webdriver.common.by import By\n",
    "from selenium.webdriver.common.keys import Keys"
   ]
  },
  {
   "cell_type": "markdown",
   "metadata": {},
   "source": [
    "#### 1. 셀레니움으로 서울시 구별 주유소 가격정보 얻기"
   ]
  },
  {
   "cell_type": "code",
   "execution_count": 2,
   "metadata": {},
   "outputs": [],
   "source": [
    "# Opinet 초기화면 > 싼 주유소 찾기 > 지역별\n",
    "url = 'https://www.opinet.co.kr/searRgSelect.do'\n",
    "driver = webdriver.Chrome()\n",
    "driver.get(url)\n",
    "time.sleep(2)           # 타이밍 에러날 수 있음으로 항상 텀주기!"
   ]
  },
  {
   "cell_type": "code",
   "execution_count": 4,
   "metadata": {},
   "outputs": [],
   "source": [
    "# 광역시도에서 서울 입력\n",
    "metro = driver.find_element(By.ID, 'SIDO_NM0')\n",
    "metro.send_keys('서울')"
   ]
  },
  {
   "cell_type": "code",
   "execution_count": 5,
   "metadata": {},
   "outputs": [
    {
     "data": {
      "text/plain": [
       "[<selenium.webdriver.remote.webelement.WebElement (session=\"8ba42ff0097904a50127adc6a4c2b302\", element=\"69AA4F073FADB9D90B47C32D958DAAAE_element_98\")>,\n",
       " <selenium.webdriver.remote.webelement.WebElement (session=\"8ba42ff0097904a50127adc6a4c2b302\", element=\"69AA4F073FADB9D90B47C32D958DAAAE_element_100\")>,\n",
       " <selenium.webdriver.remote.webelement.WebElement (session=\"8ba42ff0097904a50127adc6a4c2b302\", element=\"69AA4F073FADB9D90B47C32D958DAAAE_element_102\")>]"
      ]
     },
     "execution_count": 5,
     "metadata": {},
     "output_type": "execute_result"
    }
   ],
   "source": [
    "# 서울시 자치구 리스트 가져오기\n",
    "sigungu = driver.find_element(By.ID, 'SIGUNGU_NM0')\n",
    "gu_list = sigungu.find_elements(By.TAG_NAME, 'option')\n",
    "gu_list[:3]"
   ]
  },
  {
   "cell_type": "code",
   "execution_count": 6,
   "metadata": {},
   "outputs": [
    {
     "data": {
      "text/plain": [
       "('시/군/구', '강남구')"
      ]
     },
     "execution_count": 6,
     "metadata": {},
     "output_type": "execute_result"
    }
   ],
   "source": [
    "gu_list[0].text, gu_list[1].text"
   ]
  },
  {
   "cell_type": "code",
   "execution_count": 7,
   "metadata": {},
   "outputs": [
    {
     "data": {
      "text/plain": [
       "['강남구', '강동구', '강북구']"
      ]
     },
     "execution_count": 7,
     "metadata": {},
     "output_type": "execute_result"
    }
   ],
   "source": [
    "gu_names = [gu.text for gu in gu_list[1:]]\n",
    "gu_names[:3]"
   ]
  },
  {
   "cell_type": "code",
   "execution_count": 8,
   "metadata": {},
   "outputs": [],
   "source": [
    "# 강남구 선택\n",
    "sigungu.send_keys(gu_names[0])"
   ]
  },
  {
   "cell_type": "code",
   "execution_count": 9,
   "metadata": {},
   "outputs": [
    {
     "data": {
      "text/plain": [
       "'\\n엑셀저장 HTML\\n<a class=\"btn_type6_ex_save\" href=\"javascript:fn_excel_download(\\'os_btn\\');\\n\" id=\"glopopd_excel\" title=\"새창열림:엑셀저장\"><span>엑셀저장</span></a>\\n'"
      ]
     },
     "execution_count": 9,
     "metadata": {},
     "output_type": "execute_result"
    }
   ],
   "source": [
    "# 엑셀 저장\n",
    "driver.find_element(By.ID, 'glopopd_excel').click()\n",
    "time.sleep(2)\n",
    "\"\"\"\n",
    "엑셀저장 HTML\n",
    "<a class=\"btn_type6_ex_save\" href=\"javascript:fn_excel_download('os_btn');\n",
    "\" id=\"glopopd_excel\" title=\"새창열림:엑셀저장\"><span>엑셀저장</span></a>\n",
    "\"\"\""
   ]
  },
  {
   "cell_type": "code",
   "execution_count": 10,
   "metadata": {},
   "outputs": [],
   "source": [
    "# 강남구를 제외한 나머지 자치구에 대해서 주유소 가격정보 엑셀 저장\n",
    "for gu in gu_names[1:]:\n",
    "    sigungu = driver.find_element(By.ID, 'SIGUNGU_NM0')\n",
    "    sigungu.send_keys(gu)\n",
    "    time.sleep(3)\n",
    "    driver.find_element(By.ID, 'glopopd_excel').click()\n",
    "    time.sleep(3)"
   ]
  },
  {
   "cell_type": "code",
   "execution_count": 11,
   "metadata": {},
   "outputs": [],
   "source": [
    "driver.close()"
   ]
  },
  {
   "cell_type": "markdown",
   "metadata": {},
   "source": [
    "#### 2. 구별 휘발유 가격에 대한 정리"
   ]
  },
  {
   "cell_type": "code",
   "execution_count": 3,
   "metadata": {},
   "outputs": [
    {
     "data": {
      "text/plain": [
       "['c:/Users/human/Downloads\\\\지역_위치별(주유소) (1).xls',\n",
       " 'c:/Users/human/Downloads\\\\지역_위치별(주유소) (10).xls',\n",
       " 'c:/Users/human/Downloads\\\\지역_위치별(주유소) (11).xls',\n",
       " 'c:/Users/human/Downloads\\\\지역_위치별(주유소) (12).xls',\n",
       " 'c:/Users/human/Downloads\\\\지역_위치별(주유소) (13).xls',\n",
       " 'c:/Users/human/Downloads\\\\지역_위치별(주유소) (14).xls',\n",
       " 'c:/Users/human/Downloads\\\\지역_위치별(주유소) (15).xls',\n",
       " 'c:/Users/human/Downloads\\\\지역_위치별(주유소) (16).xls',\n",
       " 'c:/Users/human/Downloads\\\\지역_위치별(주유소) (17).xls',\n",
       " 'c:/Users/human/Downloads\\\\지역_위치별(주유소) (18).xls',\n",
       " 'c:/Users/human/Downloads\\\\지역_위치별(주유소) (19).xls',\n",
       " 'c:/Users/human/Downloads\\\\지역_위치별(주유소) (2).xls',\n",
       " 'c:/Users/human/Downloads\\\\지역_위치별(주유소) (20).xls',\n",
       " 'c:/Users/human/Downloads\\\\지역_위치별(주유소) (21).xls',\n",
       " 'c:/Users/human/Downloads\\\\지역_위치별(주유소) (22).xls',\n",
       " 'c:/Users/human/Downloads\\\\지역_위치별(주유소) (23).xls',\n",
       " 'c:/Users/human/Downloads\\\\지역_위치별(주유소) (24).xls',\n",
       " 'c:/Users/human/Downloads\\\\지역_위치별(주유소) (3).xls',\n",
       " 'c:/Users/human/Downloads\\\\지역_위치별(주유소) (4).xls',\n",
       " 'c:/Users/human/Downloads\\\\지역_위치별(주유소) (5).xls',\n",
       " 'c:/Users/human/Downloads\\\\지역_위치별(주유소) (6).xls',\n",
       " 'c:/Users/human/Downloads\\\\지역_위치별(주유소) (7).xls',\n",
       " 'c:/Users/human/Downloads\\\\지역_위치별(주유소) (8).xls',\n",
       " 'c:/Users/human/Downloads\\\\지역_위치별(주유소) (9).xls',\n",
       " 'c:/Users/human/Downloads\\\\지역_위치별(주유소) .xls']"
      ]
     },
     "execution_count": 3,
     "metadata": {},
     "output_type": "execute_result"
    }
   ],
   "source": [
    "# glob: 디렉토리 밑에 있는 파일을 리스트로 나타냄\n",
    "from glob import glob\n",
    "glob('c:/Users/human/Downloads/지역*.xls')"
   ]
  },
  {
   "cell_type": "markdown",
   "metadata": {},
   "source": [
    "![Alt text](image-11.png)"
   ]
  },
  {
   "cell_type": "code",
   "execution_count": 4,
   "metadata": {},
   "outputs": [
    {
     "data": {
      "text/html": [
       "<div>\n",
       "<style scoped>\n",
       "    .dataframe tbody tr th:only-of-type {\n",
       "        vertical-align: middle;\n",
       "    }\n",
       "\n",
       "    .dataframe tbody tr th {\n",
       "        vertical-align: top;\n",
       "    }\n",
       "\n",
       "    .dataframe thead th {\n",
       "        text-align: right;\n",
       "    }\n",
       "</style>\n",
       "<table border=\"1\" class=\"dataframe\">\n",
       "  <thead>\n",
       "    <tr style=\"text-align: right;\">\n",
       "      <th></th>\n",
       "      <th>지역</th>\n",
       "      <th>상호</th>\n",
       "      <th>주소</th>\n",
       "      <th>상표</th>\n",
       "      <th>전화번호</th>\n",
       "      <th>셀프여부</th>\n",
       "      <th>고급휘발유</th>\n",
       "      <th>휘발유</th>\n",
       "      <th>경유</th>\n",
       "      <th>실내등유</th>\n",
       "    </tr>\n",
       "  </thead>\n",
       "  <tbody>\n",
       "    <tr>\n",
       "      <th>0</th>\n",
       "      <td>서울특별시</td>\n",
       "      <td>(주)보성 세곡주유소</td>\n",
       "      <td>서울 강남구  헌릉로 731 (세곡동)</td>\n",
       "      <td>SK에너지</td>\n",
       "      <td>02-445-6870</td>\n",
       "      <td>Y</td>\n",
       "      <td>-</td>\n",
       "      <td>1769</td>\n",
       "      <td>1668</td>\n",
       "      <td>-</td>\n",
       "    </tr>\n",
       "    <tr>\n",
       "      <th>1</th>\n",
       "      <td>서울특별시</td>\n",
       "      <td>HD현대오일뱅크㈜직영 산성셀프주유소</td>\n",
       "      <td>서울 강남구 헌릉로 730</td>\n",
       "      <td>HD현대오일뱅크</td>\n",
       "      <td>02-2226-4963</td>\n",
       "      <td>Y</td>\n",
       "      <td>1978</td>\n",
       "      <td>1788</td>\n",
       "      <td>1688</td>\n",
       "      <td>-</td>\n",
       "    </tr>\n",
       "    <tr>\n",
       "      <th>2</th>\n",
       "      <td>서울특별시</td>\n",
       "      <td>삼성동주유소</td>\n",
       "      <td>서울 강남구 테헤란로 619 (삼성동)</td>\n",
       "      <td>HD현대오일뱅크</td>\n",
       "      <td>02-508-6572</td>\n",
       "      <td>Y</td>\n",
       "      <td>2025</td>\n",
       "      <td>1795</td>\n",
       "      <td>1735</td>\n",
       "      <td>-</td>\n",
       "    </tr>\n",
       "  </tbody>\n",
       "</table>\n",
       "</div>"
      ],
      "text/plain": [
       "      지역                   상호                     주소        상표          전화번호  \\\n",
       "0  서울특별시          (주)보성 세곡주유소  서울 강남구  헌릉로 731 (세곡동)     SK에너지   02-445-6870   \n",
       "1  서울특별시  HD현대오일뱅크㈜직영 산성셀프주유소         서울 강남구 헌릉로 730  HD현대오일뱅크  02-2226-4963   \n",
       "2  서울특별시               삼성동주유소  서울 강남구 테헤란로 619 (삼성동)  HD현대오일뱅크   02-508-6572   \n",
       "\n",
       "  셀프여부 고급휘발유   휘발유    경유 실내등유  \n",
       "0    Y     -  1769  1668    -  \n",
       "1    Y  1978  1788  1688    -  \n",
       "2    Y  2025  1795  1735    -  "
      ]
     },
     "execution_count": 4,
     "metadata": {},
     "output_type": "execute_result"
    }
   ],
   "source": [
    "# conda activate base; pip install xlrd\n",
    "filename = 'c:/Users/human/Downloads\\\\지역_위치별(주유소) .xls'\n",
    "df = pd.read_excel(filename, header=2)          #header=2 : 두줄을 건너띄어라\n",
    "df.head(3)"
   ]
  },
  {
   "cell_type": "markdown",
   "metadata": {},
   "source": [
    "df.list(\n",
    "    [df1, df2, ... df25]\n",
    "    pd.concat(dt+list)"
   ]
  },
  {
   "cell_type": "code",
   "execution_count": 5,
   "metadata": {},
   "outputs": [],
   "source": [
    "# 25개 파일을 읽어서 하나의 데이터 프레임으로 만들기\n",
    "df_list = []       \n",
    "for filename in glob('c:/Users/human/Downloads/지역*.xls'):\n",
    "    df = pd.read_excel(filename, header=2)\n",
    "    df_list.append(df)"
   ]
  },
  {
   "cell_type": "code",
   "execution_count": 6,
   "metadata": {},
   "outputs": [
    {
     "data": {
      "text/plain": [
       "(439, 10)"
      ]
     },
     "execution_count": 6,
     "metadata": {},
     "output_type": "execute_result"
    }
   ],
   "source": [
    "df = pd.concat(df_list)\n",
    "df.shape"
   ]
  },
  {
   "cell_type": "code",
   "execution_count": 7,
   "metadata": {},
   "outputs": [
    {
     "data": {
      "text/html": [
       "<div>\n",
       "<style scoped>\n",
       "    .dataframe tbody tr th:only-of-type {\n",
       "        vertical-align: middle;\n",
       "    }\n",
       "\n",
       "    .dataframe tbody tr th {\n",
       "        vertical-align: top;\n",
       "    }\n",
       "\n",
       "    .dataframe thead th {\n",
       "        text-align: right;\n",
       "    }\n",
       "</style>\n",
       "<table border=\"1\" class=\"dataframe\">\n",
       "  <thead>\n",
       "    <tr style=\"text-align: right;\">\n",
       "      <th></th>\n",
       "      <th>상호</th>\n",
       "      <th>주소</th>\n",
       "      <th>가격</th>\n",
       "      <th>셀프</th>\n",
       "      <th>상표</th>\n",
       "    </tr>\n",
       "  </thead>\n",
       "  <tbody>\n",
       "    <tr>\n",
       "      <th>0</th>\n",
       "      <td>재건에너지 재정제2주유소 고속셀프지점</td>\n",
       "      <td>서울특별시 강동구  천호대로 1246 (둔촌제2동)</td>\n",
       "      <td>1779</td>\n",
       "      <td>Y</td>\n",
       "      <td>HD현대오일뱅크</td>\n",
       "    </tr>\n",
       "    <tr>\n",
       "      <th>1</th>\n",
       "      <td>구천면주유소</td>\n",
       "      <td>서울 강동구 구천면로 357 (암사동)</td>\n",
       "      <td>1824</td>\n",
       "      <td>N</td>\n",
       "      <td>HD현대오일뱅크</td>\n",
       "    </tr>\n",
       "    <tr>\n",
       "      <th>2</th>\n",
       "      <td>(주)삼표에너지 고덕주유소</td>\n",
       "      <td>서울 강동구 고덕로 39 (암사동)</td>\n",
       "      <td>1835</td>\n",
       "      <td>Y</td>\n",
       "      <td>GS칼텍스</td>\n",
       "    </tr>\n",
       "    <tr>\n",
       "      <th>3</th>\n",
       "      <td>(주)소모 신월주유소</td>\n",
       "      <td>서울 강동구 양재대로 1323 (성내동)</td>\n",
       "      <td>1836</td>\n",
       "      <td>Y</td>\n",
       "      <td>GS칼텍스</td>\n",
       "    </tr>\n",
       "    <tr>\n",
       "      <th>4</th>\n",
       "      <td>대성석유(주)길동주유소</td>\n",
       "      <td>서울 강동구 천호대로 1168</td>\n",
       "      <td>1846</td>\n",
       "      <td>N</td>\n",
       "      <td>GS칼텍스</td>\n",
       "    </tr>\n",
       "  </tbody>\n",
       "</table>\n",
       "</div>"
      ],
      "text/plain": [
       "                     상호                            주소    가격 셀프        상표\n",
       "0  재건에너지 재정제2주유소 고속셀프지점  서울특별시 강동구  천호대로 1246 (둔촌제2동)  1779  Y  HD현대오일뱅크\n",
       "1                구천면주유소         서울 강동구 구천면로 357 (암사동)  1824  N  HD현대오일뱅크\n",
       "2        (주)삼표에너지 고덕주유소           서울 강동구 고덕로 39 (암사동)  1835  Y     GS칼텍스\n",
       "3           (주)소모 신월주유소        서울 강동구 양재대로 1323 (성내동)  1836  Y     GS칼텍스\n",
       "4          대성석유(주)길동주유소              서울 강동구 천호대로 1168  1846  N     GS칼텍스"
      ]
     },
     "execution_count": 7,
     "metadata": {},
     "output_type": "execute_result"
    }
   ],
   "source": [
    "df = df[['상호', '주소', '휘발유', '셀프여부', '상표']]\n",
    "df.rename(columns={'휘발유':'가격', '셀프여부':'셀프'}, inplace=True)\n",
    "df.head()"
   ]
  },
  {
   "cell_type": "code",
   "execution_count": 8,
   "metadata": {},
   "outputs": [
    {
     "data": {
      "text/html": [
       "<div>\n",
       "<style scoped>\n",
       "    .dataframe tbody tr th:only-of-type {\n",
       "        vertical-align: middle;\n",
       "    }\n",
       "\n",
       "    .dataframe tbody tr th {\n",
       "        vertical-align: top;\n",
       "    }\n",
       "\n",
       "    .dataframe thead th {\n",
       "        text-align: right;\n",
       "    }\n",
       "</style>\n",
       "<table border=\"1\" class=\"dataframe\">\n",
       "  <thead>\n",
       "    <tr style=\"text-align: right;\">\n",
       "      <th></th>\n",
       "      <th>상호</th>\n",
       "      <th>주소</th>\n",
       "      <th>가격</th>\n",
       "      <th>셀프</th>\n",
       "      <th>상표</th>\n",
       "    </tr>\n",
       "  </thead>\n",
       "  <tbody>\n",
       "    <tr>\n",
       "      <th>29</th>\n",
       "      <td>갤러리아주유소</td>\n",
       "      <td>서울 강남구 압구정로 426</td>\n",
       "      <td>2330</td>\n",
       "      <td>N</td>\n",
       "      <td>SK에너지</td>\n",
       "    </tr>\n",
       "    <tr>\n",
       "      <th>30</th>\n",
       "      <td>㈜새서울석유 새서울주유소</td>\n",
       "      <td>서울 강남구 압구정로 154</td>\n",
       "      <td>2348</td>\n",
       "      <td>N</td>\n",
       "      <td>HD현대오일뱅크</td>\n",
       "    </tr>\n",
       "    <tr>\n",
       "      <th>31</th>\n",
       "      <td>SK논현주유소</td>\n",
       "      <td>서울 강남구 논현로 747 (논현동)</td>\n",
       "      <td>2390</td>\n",
       "      <td>N</td>\n",
       "      <td>SK에너지</td>\n",
       "    </tr>\n",
       "    <tr>\n",
       "      <th>32</th>\n",
       "      <td>(주)제이제이네트웍스 제이제이주유소</td>\n",
       "      <td>서울 강남구 언주로 716</td>\n",
       "      <td>2560</td>\n",
       "      <td>N</td>\n",
       "      <td>HD현대오일뱅크</td>\n",
       "    </tr>\n",
       "    <tr>\n",
       "      <th>33</th>\n",
       "      <td>(주)만정에너지 삼보주유소</td>\n",
       "      <td>서울 강남구 봉은사로 433 (삼성동)</td>\n",
       "      <td>2598</td>\n",
       "      <td>N</td>\n",
       "      <td>GS칼텍스</td>\n",
       "    </tr>\n",
       "  </tbody>\n",
       "</table>\n",
       "</div>"
      ],
      "text/plain": [
       "                     상호                     주소    가격 셀프        상표\n",
       "29              갤러리아주유소        서울 강남구 압구정로 426  2330  N     SK에너지\n",
       "30        ㈜새서울석유 새서울주유소        서울 강남구 압구정로 154  2348  N  HD현대오일뱅크\n",
       "31              SK논현주유소   서울 강남구 논현로 747 (논현동)  2390  N     SK에너지\n",
       "32  (주)제이제이네트웍스 제이제이주유소         서울 강남구 언주로 716  2560  N  HD현대오일뱅크\n",
       "33       (주)만정에너지 삼보주유소  서울 강남구 봉은사로 433 (삼성동)  2598  N     GS칼텍스"
      ]
     },
     "execution_count": 8,
     "metadata": {},
     "output_type": "execute_result"
    }
   ],
   "source": [
    "# 인덱스가 각 파일마다 0~25.. , 0~ 33.... 인덱스 정리가 안된 상태 (439가 나와야함..)\n",
    "df.tail()               "
   ]
  },
  {
   "cell_type": "code",
   "execution_count": 9,
   "metadata": {},
   "outputs": [
    {
     "data": {
      "text/html": [
       "<div>\n",
       "<style scoped>\n",
       "    .dataframe tbody tr th:only-of-type {\n",
       "        vertical-align: middle;\n",
       "    }\n",
       "\n",
       "    .dataframe tbody tr th {\n",
       "        vertical-align: top;\n",
       "    }\n",
       "\n",
       "    .dataframe thead th {\n",
       "        text-align: right;\n",
       "    }\n",
       "</style>\n",
       "<table border=\"1\" class=\"dataframe\">\n",
       "  <thead>\n",
       "    <tr style=\"text-align: right;\">\n",
       "      <th></th>\n",
       "      <th>상호</th>\n",
       "      <th>주소</th>\n",
       "      <th>가격</th>\n",
       "      <th>셀프</th>\n",
       "      <th>상표</th>\n",
       "      <th>구</th>\n",
       "    </tr>\n",
       "  </thead>\n",
       "  <tbody>\n",
       "    <tr>\n",
       "      <th>0</th>\n",
       "      <td>재건에너지 재정제2주유소 고속셀프지점</td>\n",
       "      <td>서울특별시 강동구  천호대로 1246 (둔촌제2동)</td>\n",
       "      <td>1779</td>\n",
       "      <td>Y</td>\n",
       "      <td>HD현대오일뱅크</td>\n",
       "      <td>강동구</td>\n",
       "    </tr>\n",
       "    <tr>\n",
       "      <th>1</th>\n",
       "      <td>구천면주유소</td>\n",
       "      <td>서울 강동구 구천면로 357 (암사동)</td>\n",
       "      <td>1824</td>\n",
       "      <td>N</td>\n",
       "      <td>HD현대오일뱅크</td>\n",
       "      <td>강동구</td>\n",
       "    </tr>\n",
       "    <tr>\n",
       "      <th>2</th>\n",
       "      <td>(주)삼표에너지 고덕주유소</td>\n",
       "      <td>서울 강동구 고덕로 39 (암사동)</td>\n",
       "      <td>1835</td>\n",
       "      <td>Y</td>\n",
       "      <td>GS칼텍스</td>\n",
       "      <td>강동구</td>\n",
       "    </tr>\n",
       "    <tr>\n",
       "      <th>3</th>\n",
       "      <td>(주)소모 신월주유소</td>\n",
       "      <td>서울 강동구 양재대로 1323 (성내동)</td>\n",
       "      <td>1836</td>\n",
       "      <td>Y</td>\n",
       "      <td>GS칼텍스</td>\n",
       "      <td>강동구</td>\n",
       "    </tr>\n",
       "    <tr>\n",
       "      <th>4</th>\n",
       "      <td>대성석유(주)길동주유소</td>\n",
       "      <td>서울 강동구 천호대로 1168</td>\n",
       "      <td>1846</td>\n",
       "      <td>N</td>\n",
       "      <td>GS칼텍스</td>\n",
       "      <td>강동구</td>\n",
       "    </tr>\n",
       "  </tbody>\n",
       "</table>\n",
       "</div>"
      ],
      "text/plain": [
       "                     상호                            주소    가격 셀프        상표    구\n",
       "0  재건에너지 재정제2주유소 고속셀프지점  서울특별시 강동구  천호대로 1246 (둔촌제2동)  1779  Y  HD현대오일뱅크  강동구\n",
       "1                구천면주유소         서울 강동구 구천면로 357 (암사동)  1824  N  HD현대오일뱅크  강동구\n",
       "2        (주)삼표에너지 고덕주유소           서울 강동구 고덕로 39 (암사동)  1835  Y     GS칼텍스  강동구\n",
       "3           (주)소모 신월주유소        서울 강동구 양재대로 1323 (성내동)  1836  Y     GS칼텍스  강동구\n",
       "4          대성석유(주)길동주유소              서울 강동구 천호대로 1168  1846  N     GS칼텍스  강동구"
      ]
     },
     "execution_count": 9,
     "metadata": {},
     "output_type": "execute_result"
    }
   ],
   "source": [
    "df['구'] = df.주소.apply(lambda x: x.split()[1])\n",
    "df.head()"
   ]
  },
  {
   "cell_type": "code",
   "execution_count": 10,
   "metadata": {},
   "outputs": [
    {
     "data": {
      "text/plain": [
       "array(['강동구', '동대문구', '동작구', '마포구', '서대문구', '서초구', '성동구', '성북구', '송파구',\n",
       "       '양천구', '영등포구', '강북구', '용산구', '은평구', '종로구', '중구', '중랑구', '강서구',\n",
       "       '관악구', '광진구', '구로구', '금천구', '노원구', '도봉구', '강남구'], dtype=object)"
      ]
     },
     "execution_count": 10,
     "metadata": {},
     "output_type": "execute_result"
    }
   ],
   "source": [
    "df.구.unique()"
   ]
  },
  {
   "cell_type": "code",
   "execution_count": 11,
   "metadata": {},
   "outputs": [
    {
     "data": {
      "text/html": [
       "<div>\n",
       "<style scoped>\n",
       "    .dataframe tbody tr th:only-of-type {\n",
       "        vertical-align: middle;\n",
       "    }\n",
       "\n",
       "    .dataframe tbody tr th {\n",
       "        vertical-align: top;\n",
       "    }\n",
       "\n",
       "    .dataframe thead th {\n",
       "        text-align: right;\n",
       "    }\n",
       "</style>\n",
       "<table border=\"1\" class=\"dataframe\">\n",
       "  <thead>\n",
       "    <tr style=\"text-align: right;\">\n",
       "      <th></th>\n",
       "      <th>상호</th>\n",
       "      <th>주소</th>\n",
       "      <th>가격</th>\n",
       "      <th>셀프</th>\n",
       "      <th>상표</th>\n",
       "      <th>구</th>\n",
       "    </tr>\n",
       "  </thead>\n",
       "  <tbody>\n",
       "    <tr>\n",
       "      <th>434</th>\n",
       "      <td>갤러리아주유소</td>\n",
       "      <td>서울 강남구 압구정로 426</td>\n",
       "      <td>2330</td>\n",
       "      <td>N</td>\n",
       "      <td>SK에너지</td>\n",
       "      <td>강남구</td>\n",
       "    </tr>\n",
       "    <tr>\n",
       "      <th>435</th>\n",
       "      <td>㈜새서울석유 새서울주유소</td>\n",
       "      <td>서울 강남구 압구정로 154</td>\n",
       "      <td>2348</td>\n",
       "      <td>N</td>\n",
       "      <td>HD현대오일뱅크</td>\n",
       "      <td>강남구</td>\n",
       "    </tr>\n",
       "    <tr>\n",
       "      <th>436</th>\n",
       "      <td>SK논현주유소</td>\n",
       "      <td>서울 강남구 논현로 747 (논현동)</td>\n",
       "      <td>2390</td>\n",
       "      <td>N</td>\n",
       "      <td>SK에너지</td>\n",
       "      <td>강남구</td>\n",
       "    </tr>\n",
       "    <tr>\n",
       "      <th>437</th>\n",
       "      <td>(주)제이제이네트웍스 제이제이주유소</td>\n",
       "      <td>서울 강남구 언주로 716</td>\n",
       "      <td>2560</td>\n",
       "      <td>N</td>\n",
       "      <td>HD현대오일뱅크</td>\n",
       "      <td>강남구</td>\n",
       "    </tr>\n",
       "    <tr>\n",
       "      <th>438</th>\n",
       "      <td>(주)만정에너지 삼보주유소</td>\n",
       "      <td>서울 강남구 봉은사로 433 (삼성동)</td>\n",
       "      <td>2598</td>\n",
       "      <td>N</td>\n",
       "      <td>GS칼텍스</td>\n",
       "      <td>강남구</td>\n",
       "    </tr>\n",
       "  </tbody>\n",
       "</table>\n",
       "</div>"
      ],
      "text/plain": [
       "                      상호                     주소    가격 셀프        상표    구\n",
       "434              갤러리아주유소        서울 강남구 압구정로 426  2330  N     SK에너지  강남구\n",
       "435        ㈜새서울석유 새서울주유소        서울 강남구 압구정로 154  2348  N  HD현대오일뱅크  강남구\n",
       "436              SK논현주유소   서울 강남구 논현로 747 (논현동)  2390  N     SK에너지  강남구\n",
       "437  (주)제이제이네트웍스 제이제이주유소         서울 강남구 언주로 716  2560  N  HD현대오일뱅크  강남구\n",
       "438       (주)만정에너지 삼보주유소  서울 강남구 봉은사로 433 (삼성동)  2598  N     GS칼텍스  강남구"
      ]
     },
     "execution_count": 11,
     "metadata": {},
     "output_type": "execute_result"
    }
   ],
   "source": [
    "# 서울소재 전체 주소의 인덱스를  상호기준으로 인덱스 순서 재셋팅\n",
    "df.set_index('상호', inplace=True)\n",
    "df.reset_index(inplace=True)\n",
    "df.tail()"
   ]
  },
  {
   "cell_type": "code",
   "execution_count": 12,
   "metadata": {},
   "outputs": [
    {
     "data": {
      "text/plain": [
       "numpy.int64"
      ]
     },
     "execution_count": 12,
     "metadata": {},
     "output_type": "execute_result"
    }
   ],
   "source": [
    "# 가격의 타입확인\n",
    "type(df.가격[0])"
   ]
  },
  {
   "cell_type": "code",
   "execution_count": 13,
   "metadata": {},
   "outputs": [
    {
     "data": {
      "text/html": [
       "<div>\n",
       "<style scoped>\n",
       "    .dataframe tbody tr th:only-of-type {\n",
       "        vertical-align: middle;\n",
       "    }\n",
       "\n",
       "    .dataframe tbody tr th {\n",
       "        vertical-align: top;\n",
       "    }\n",
       "\n",
       "    .dataframe thead th {\n",
       "        text-align: right;\n",
       "    }\n",
       "</style>\n",
       "<table border=\"1\" class=\"dataframe\">\n",
       "  <thead>\n",
       "    <tr style=\"text-align: right;\">\n",
       "      <th></th>\n",
       "      <th>상호</th>\n",
       "      <th>주소</th>\n",
       "      <th>가격</th>\n",
       "      <th>셀프</th>\n",
       "      <th>상표</th>\n",
       "      <th>구</th>\n",
       "    </tr>\n",
       "  </thead>\n",
       "  <tbody>\n",
       "    <tr>\n",
       "      <th>0</th>\n",
       "      <td>재건에너지 재정제2주유소 고속셀프지점</td>\n",
       "      <td>서울특별시 강동구  천호대로 1246 (둔촌제2동)</td>\n",
       "      <td>1779</td>\n",
       "      <td>Y</td>\n",
       "      <td>HD현대오일뱅크</td>\n",
       "      <td>강동구</td>\n",
       "    </tr>\n",
       "    <tr>\n",
       "      <th>1</th>\n",
       "      <td>구천면주유소</td>\n",
       "      <td>서울 강동구 구천면로 357 (암사동)</td>\n",
       "      <td>1824</td>\n",
       "      <td>N</td>\n",
       "      <td>HD현대오일뱅크</td>\n",
       "      <td>강동구</td>\n",
       "    </tr>\n",
       "    <tr>\n",
       "      <th>2</th>\n",
       "      <td>(주)삼표에너지 고덕주유소</td>\n",
       "      <td>서울 강동구 고덕로 39 (암사동)</td>\n",
       "      <td>1835</td>\n",
       "      <td>Y</td>\n",
       "      <td>GS칼텍스</td>\n",
       "      <td>강동구</td>\n",
       "    </tr>\n",
       "    <tr>\n",
       "      <th>3</th>\n",
       "      <td>(주)소모 신월주유소</td>\n",
       "      <td>서울 강동구 양재대로 1323 (성내동)</td>\n",
       "      <td>1836</td>\n",
       "      <td>Y</td>\n",
       "      <td>GS칼텍스</td>\n",
       "      <td>강동구</td>\n",
       "    </tr>\n",
       "    <tr>\n",
       "      <th>4</th>\n",
       "      <td>대성석유(주)길동주유소</td>\n",
       "      <td>서울 강동구 천호대로 1168</td>\n",
       "      <td>1846</td>\n",
       "      <td>N</td>\n",
       "      <td>GS칼텍스</td>\n",
       "      <td>강동구</td>\n",
       "    </tr>\n",
       "    <tr>\n",
       "      <th>...</th>\n",
       "      <td>...</td>\n",
       "      <td>...</td>\n",
       "      <td>...</td>\n",
       "      <td>...</td>\n",
       "      <td>...</td>\n",
       "      <td>...</td>\n",
       "    </tr>\n",
       "    <tr>\n",
       "      <th>434</th>\n",
       "      <td>갤러리아주유소</td>\n",
       "      <td>서울 강남구 압구정로 426</td>\n",
       "      <td>2330</td>\n",
       "      <td>N</td>\n",
       "      <td>SK에너지</td>\n",
       "      <td>강남구</td>\n",
       "    </tr>\n",
       "    <tr>\n",
       "      <th>435</th>\n",
       "      <td>㈜새서울석유 새서울주유소</td>\n",
       "      <td>서울 강남구 압구정로 154</td>\n",
       "      <td>2348</td>\n",
       "      <td>N</td>\n",
       "      <td>HD현대오일뱅크</td>\n",
       "      <td>강남구</td>\n",
       "    </tr>\n",
       "    <tr>\n",
       "      <th>436</th>\n",
       "      <td>SK논현주유소</td>\n",
       "      <td>서울 강남구 논현로 747 (논현동)</td>\n",
       "      <td>2390</td>\n",
       "      <td>N</td>\n",
       "      <td>SK에너지</td>\n",
       "      <td>강남구</td>\n",
       "    </tr>\n",
       "    <tr>\n",
       "      <th>437</th>\n",
       "      <td>(주)제이제이네트웍스 제이제이주유소</td>\n",
       "      <td>서울 강남구 언주로 716</td>\n",
       "      <td>2560</td>\n",
       "      <td>N</td>\n",
       "      <td>HD현대오일뱅크</td>\n",
       "      <td>강남구</td>\n",
       "    </tr>\n",
       "    <tr>\n",
       "      <th>438</th>\n",
       "      <td>(주)만정에너지 삼보주유소</td>\n",
       "      <td>서울 강남구 봉은사로 433 (삼성동)</td>\n",
       "      <td>2598</td>\n",
       "      <td>N</td>\n",
       "      <td>GS칼텍스</td>\n",
       "      <td>강남구</td>\n",
       "    </tr>\n",
       "  </tbody>\n",
       "</table>\n",
       "<p>439 rows × 6 columns</p>\n",
       "</div>"
      ],
      "text/plain": [
       "                       상호                            주소    가격 셀프        상표  \\\n",
       "0    재건에너지 재정제2주유소 고속셀프지점  서울특별시 강동구  천호대로 1246 (둔촌제2동)  1779  Y  HD현대오일뱅크   \n",
       "1                  구천면주유소         서울 강동구 구천면로 357 (암사동)  1824  N  HD현대오일뱅크   \n",
       "2          (주)삼표에너지 고덕주유소           서울 강동구 고덕로 39 (암사동)  1835  Y     GS칼텍스   \n",
       "3             (주)소모 신월주유소        서울 강동구 양재대로 1323 (성내동)  1836  Y     GS칼텍스   \n",
       "4            대성석유(주)길동주유소              서울 강동구 천호대로 1168  1846  N     GS칼텍스   \n",
       "..                    ...                           ...   ... ..       ...   \n",
       "434               갤러리아주유소               서울 강남구 압구정로 426  2330  N     SK에너지   \n",
       "435         ㈜새서울석유 새서울주유소               서울 강남구 압구정로 154  2348  N  HD현대오일뱅크   \n",
       "436               SK논현주유소          서울 강남구 논현로 747 (논현동)  2390  N     SK에너지   \n",
       "437   (주)제이제이네트웍스 제이제이주유소                서울 강남구 언주로 716  2560  N  HD현대오일뱅크   \n",
       "438        (주)만정에너지 삼보주유소         서울 강남구 봉은사로 433 (삼성동)  2598  N     GS칼텍스   \n",
       "\n",
       "       구  \n",
       "0    강동구  \n",
       "1    강동구  \n",
       "2    강동구  \n",
       "3    강동구  \n",
       "4    강동구  \n",
       "..   ...  \n",
       "434  강남구  \n",
       "435  강남구  \n",
       "436  강남구  \n",
       "437  강남구  \n",
       "438  강남구  \n",
       "\n",
       "[439 rows x 6 columns]"
      ]
     },
     "execution_count": 13,
     "metadata": {},
     "output_type": "execute_result"
    }
   ],
   "source": [
    "df.to_csv('data/opinet_2023.09.19.csv', index=False)\n",
    "pd.read_csv('data/opinet_2023.09.19.csv')"
   ]
  },
  {
   "cell_type": "markdown",
   "metadata": {},
   "source": [
    "##### 3. 셀프주유소가 정말 저렴할까?"
   ]
  },
  {
   "cell_type": "code",
   "execution_count": 14,
   "metadata": {},
   "outputs": [
    {
     "data": {
      "text/html": [
       "<div>\n",
       "<style scoped>\n",
       "    .dataframe tbody tr th:only-of-type {\n",
       "        vertical-align: middle;\n",
       "    }\n",
       "\n",
       "    .dataframe tbody tr th {\n",
       "        vertical-align: top;\n",
       "    }\n",
       "\n",
       "    .dataframe thead tr th {\n",
       "        text-align: left;\n",
       "    }\n",
       "\n",
       "    .dataframe thead tr:last-of-type th {\n",
       "        text-align: right;\n",
       "    }\n",
       "</style>\n",
       "<table border=\"1\" class=\"dataframe\">\n",
       "  <thead>\n",
       "    <tr>\n",
       "      <th></th>\n",
       "      <th>count</th>\n",
       "      <th>mean</th>\n",
       "      <th>min</th>\n",
       "      <th>max</th>\n",
       "      <th>std</th>\n",
       "      <th>var</th>\n",
       "    </tr>\n",
       "    <tr>\n",
       "      <th></th>\n",
       "      <th>가격</th>\n",
       "      <th>가격</th>\n",
       "      <th>가격</th>\n",
       "      <th>가격</th>\n",
       "      <th>가격</th>\n",
       "      <th>가격</th>\n",
       "    </tr>\n",
       "    <tr>\n",
       "      <th>구</th>\n",
       "      <th></th>\n",
       "      <th></th>\n",
       "      <th></th>\n",
       "      <th></th>\n",
       "      <th></th>\n",
       "      <th></th>\n",
       "    </tr>\n",
       "  </thead>\n",
       "  <tbody>\n",
       "    <tr>\n",
       "      <th>강남구</th>\n",
       "      <td>34</td>\n",
       "      <td>2022.941176</td>\n",
       "      <td>1769</td>\n",
       "      <td>2598</td>\n",
       "      <td>237.095294</td>\n",
       "      <td>56214.178253</td>\n",
       "    </tr>\n",
       "    <tr>\n",
       "      <th>강동구</th>\n",
       "      <td>14</td>\n",
       "      <td>1882.500000</td>\n",
       "      <td>1779</td>\n",
       "      <td>2118</td>\n",
       "      <td>90.352940</td>\n",
       "      <td>8163.653846</td>\n",
       "    </tr>\n",
       "    <tr>\n",
       "      <th>강북구</th>\n",
       "      <td>12</td>\n",
       "      <td>1784.666667</td>\n",
       "      <td>1764</td>\n",
       "      <td>1847</td>\n",
       "      <td>21.943454</td>\n",
       "      <td>481.515152</td>\n",
       "    </tr>\n",
       "    <tr>\n",
       "      <th>강서구</th>\n",
       "      <td>33</td>\n",
       "      <td>1811.484848</td>\n",
       "      <td>1735</td>\n",
       "      <td>2133</td>\n",
       "      <td>79.056594</td>\n",
       "      <td>6249.945076</td>\n",
       "    </tr>\n",
       "    <tr>\n",
       "      <th>관악구</th>\n",
       "      <td>14</td>\n",
       "      <td>1826.642857</td>\n",
       "      <td>1769</td>\n",
       "      <td>1929</td>\n",
       "      <td>51.324918</td>\n",
       "      <td>2634.247253</td>\n",
       "    </tr>\n",
       "    <tr>\n",
       "      <th>광진구</th>\n",
       "      <td>13</td>\n",
       "      <td>1802.538462</td>\n",
       "      <td>1764</td>\n",
       "      <td>1947</td>\n",
       "      <td>61.796191</td>\n",
       "      <td>3818.769231</td>\n",
       "    </tr>\n",
       "    <tr>\n",
       "      <th>구로구</th>\n",
       "      <td>19</td>\n",
       "      <td>1828.894737</td>\n",
       "      <td>1729</td>\n",
       "      <td>2340</td>\n",
       "      <td>138.174967</td>\n",
       "      <td>19092.321637</td>\n",
       "    </tr>\n",
       "    <tr>\n",
       "      <th>금천구</th>\n",
       "      <td>11</td>\n",
       "      <td>1795.363636</td>\n",
       "      <td>1765</td>\n",
       "      <td>1818</td>\n",
       "      <td>15.318438</td>\n",
       "      <td>234.654545</td>\n",
       "    </tr>\n",
       "    <tr>\n",
       "      <th>노원구</th>\n",
       "      <td>14</td>\n",
       "      <td>1804.071429</td>\n",
       "      <td>1765</td>\n",
       "      <td>1900</td>\n",
       "      <td>41.564527</td>\n",
       "      <td>1727.609890</td>\n",
       "    </tr>\n",
       "    <tr>\n",
       "      <th>도봉구</th>\n",
       "      <td>16</td>\n",
       "      <td>1780.562500</td>\n",
       "      <td>1746</td>\n",
       "      <td>1852</td>\n",
       "      <td>29.259685</td>\n",
       "      <td>856.129167</td>\n",
       "    </tr>\n",
       "    <tr>\n",
       "      <th>동대문구</th>\n",
       "      <td>18</td>\n",
       "      <td>1805.277778</td>\n",
       "      <td>1759</td>\n",
       "      <td>1858</td>\n",
       "      <td>27.183052</td>\n",
       "      <td>738.918301</td>\n",
       "    </tr>\n",
       "    <tr>\n",
       "      <th>동작구</th>\n",
       "      <td>9</td>\n",
       "      <td>1826.444444</td>\n",
       "      <td>1790</td>\n",
       "      <td>1925</td>\n",
       "      <td>40.432385</td>\n",
       "      <td>1634.777778</td>\n",
       "    </tr>\n",
       "    <tr>\n",
       "      <th>마포구</th>\n",
       "      <td>11</td>\n",
       "      <td>1851.181818</td>\n",
       "      <td>1787</td>\n",
       "      <td>1919</td>\n",
       "      <td>47.129223</td>\n",
       "      <td>2221.163636</td>\n",
       "    </tr>\n",
       "    <tr>\n",
       "      <th>서대문구</th>\n",
       "      <td>15</td>\n",
       "      <td>1809.733333</td>\n",
       "      <td>1782</td>\n",
       "      <td>1858</td>\n",
       "      <td>29.833985</td>\n",
       "      <td>890.066667</td>\n",
       "    </tr>\n",
       "    <tr>\n",
       "      <th>서초구</th>\n",
       "      <td>30</td>\n",
       "      <td>1839.200000</td>\n",
       "      <td>1724</td>\n",
       "      <td>2098</td>\n",
       "      <td>75.658671</td>\n",
       "      <td>5724.234483</td>\n",
       "    </tr>\n",
       "    <tr>\n",
       "      <th>성동구</th>\n",
       "      <td>16</td>\n",
       "      <td>1921.187500</td>\n",
       "      <td>1765</td>\n",
       "      <td>2388</td>\n",
       "      <td>183.163759</td>\n",
       "      <td>33548.962500</td>\n",
       "    </tr>\n",
       "    <tr>\n",
       "      <th>성북구</th>\n",
       "      <td>23</td>\n",
       "      <td>1793.347826</td>\n",
       "      <td>1763</td>\n",
       "      <td>1925</td>\n",
       "      <td>37.420958</td>\n",
       "      <td>1400.328063</td>\n",
       "    </tr>\n",
       "    <tr>\n",
       "      <th>송파구</th>\n",
       "      <td>28</td>\n",
       "      <td>1815.678571</td>\n",
       "      <td>1768</td>\n",
       "      <td>1998</td>\n",
       "      <td>47.629009</td>\n",
       "      <td>2268.522487</td>\n",
       "    </tr>\n",
       "    <tr>\n",
       "      <th>양천구</th>\n",
       "      <td>24</td>\n",
       "      <td>1784.333333</td>\n",
       "      <td>1737</td>\n",
       "      <td>1899</td>\n",
       "      <td>35.719519</td>\n",
       "      <td>1275.884058</td>\n",
       "    </tr>\n",
       "    <tr>\n",
       "      <th>영등포구</th>\n",
       "      <td>26</td>\n",
       "      <td>1850.538462</td>\n",
       "      <td>1747</td>\n",
       "      <td>2260</td>\n",
       "      <td>156.529417</td>\n",
       "      <td>24501.458462</td>\n",
       "    </tr>\n",
       "    <tr>\n",
       "      <th>용산구</th>\n",
       "      <td>12</td>\n",
       "      <td>2239.916667</td>\n",
       "      <td>1938</td>\n",
       "      <td>2773</td>\n",
       "      <td>209.690013</td>\n",
       "      <td>43969.901515</td>\n",
       "    </tr>\n",
       "    <tr>\n",
       "      <th>은평구</th>\n",
       "      <td>15</td>\n",
       "      <td>1775.133333</td>\n",
       "      <td>1694</td>\n",
       "      <td>1868</td>\n",
       "      <td>40.257859</td>\n",
       "      <td>1620.695238</td>\n",
       "    </tr>\n",
       "    <tr>\n",
       "      <th>종로구</th>\n",
       "      <td>9</td>\n",
       "      <td>2086.222222</td>\n",
       "      <td>1778</td>\n",
       "      <td>2370</td>\n",
       "      <td>248.625108</td>\n",
       "      <td>61814.444444</td>\n",
       "    </tr>\n",
       "    <tr>\n",
       "      <th>중구</th>\n",
       "      <td>10</td>\n",
       "      <td>2153.300000</td>\n",
       "      <td>1789</td>\n",
       "      <td>2776</td>\n",
       "      <td>338.964125</td>\n",
       "      <td>114896.677778</td>\n",
       "    </tr>\n",
       "    <tr>\n",
       "      <th>중랑구</th>\n",
       "      <td>13</td>\n",
       "      <td>1783.923077</td>\n",
       "      <td>1757</td>\n",
       "      <td>1859</td>\n",
       "      <td>27.286937</td>\n",
       "      <td>744.576923</td>\n",
       "    </tr>\n",
       "  </tbody>\n",
       "</table>\n",
       "</div>"
      ],
      "text/plain": [
       "     count         mean   min   max         std            var\n",
       "        가격           가격    가격    가격          가격             가격\n",
       "구                                                             \n",
       "강남구     34  2022.941176  1769  2598  237.095294   56214.178253\n",
       "강동구     14  1882.500000  1779  2118   90.352940    8163.653846\n",
       "강북구     12  1784.666667  1764  1847   21.943454     481.515152\n",
       "강서구     33  1811.484848  1735  2133   79.056594    6249.945076\n",
       "관악구     14  1826.642857  1769  1929   51.324918    2634.247253\n",
       "광진구     13  1802.538462  1764  1947   61.796191    3818.769231\n",
       "구로구     19  1828.894737  1729  2340  138.174967   19092.321637\n",
       "금천구     11  1795.363636  1765  1818   15.318438     234.654545\n",
       "노원구     14  1804.071429  1765  1900   41.564527    1727.609890\n",
       "도봉구     16  1780.562500  1746  1852   29.259685     856.129167\n",
       "동대문구    18  1805.277778  1759  1858   27.183052     738.918301\n",
       "동작구      9  1826.444444  1790  1925   40.432385    1634.777778\n",
       "마포구     11  1851.181818  1787  1919   47.129223    2221.163636\n",
       "서대문구    15  1809.733333  1782  1858   29.833985     890.066667\n",
       "서초구     30  1839.200000  1724  2098   75.658671    5724.234483\n",
       "성동구     16  1921.187500  1765  2388  183.163759   33548.962500\n",
       "성북구     23  1793.347826  1763  1925   37.420958    1400.328063\n",
       "송파구     28  1815.678571  1768  1998   47.629009    2268.522487\n",
       "양천구     24  1784.333333  1737  1899   35.719519    1275.884058\n",
       "영등포구    26  1850.538462  1747  2260  156.529417   24501.458462\n",
       "용산구     12  2239.916667  1938  2773  209.690013   43969.901515\n",
       "은평구     15  1775.133333  1694  1868   40.257859    1620.695238\n",
       "종로구      9  2086.222222  1778  2370  248.625108   61814.444444\n",
       "중구      10  2153.300000  1789  2776  338.964125  114896.677778\n",
       "중랑구     13  1783.923077  1757  1859   27.286937     744.576923"
      ]
     },
     "execution_count": 14,
     "metadata": {},
     "output_type": "execute_result"
    }
   ],
   "source": [
    "df.pivot_table('가격', '구', aggfunc =['count', 'mean', 'min', 'max', 'std', 'var'])\n"
   ]
  },
  {
   "cell_type": "markdown",
   "metadata": {},
   "source": [
    "- 셀프 여부에 따른 가격의 Boxplot"
   ]
  },
  {
   "cell_type": "code",
   "execution_count": 15,
   "metadata": {},
   "outputs": [],
   "source": [
    "import seaborn as sns\n",
    "import matplotlib.pyplot as plt\n",
    "plt.rcParams['font.family'] = 'Malgun Gothic'\n",
    "plt.rcParams['axes.unicode_minus'] = False"
   ]
  },
  {
   "cell_type": "code",
   "execution_count": 16,
   "metadata": {},
   "outputs": [
    {
     "data": {
      "image/png": "[encoded data removed]",
      "text/plain": [
       "<Figure size 640x480 with 1 Axes>"
      ]
     },
     "metadata": {},
     "output_type": "display_data"
    }
   ],
   "source": [
    "sns.boxplot(df, x='셀프', y='가격')\n",
    "plt.title('셀프 여부에 따른 가격의 boxplot');"
   ]
  },
  {
   "cell_type": "markdown",
   "metadata": {},
   "source": [
    "↑ 이렇게 하면 셀프주유소가 더 싸다고는 할 수 있지만,\n",
    "통계학적으로는 더 싸다고 할 수 없음.\n",
    "통계학적으로 설명하기 위해서는 가설검정을 해야함\n",
    "\n",
    "### 가설 검정( 통계 자료로 사용할 경우 )\n",
    "- H0(하이퍼 시스) : 귀무 가설 (A == B)\n",
    "    -(통계학에서 처음부터 버릴 것을 예상하는 가설, 차이가 없거나 의미있는 차이가 없는 경우의 가설이며 이것이 맞거나 맞지 않다는 통계학적 증거를 통해 증명하려는 가설)\n",
    "\n",
    "- H1, Ha : 대립가설 (A != B)\n",
    "    - 어떤 가능성에 대해 확률적인 가설검정을 할 때 귀무가설과 함께 사용된다. 이 가설은 귀무가설처럼 검정을 직접 수행하기는 불가능하며 귀무가설을 기각함으로써 받아들여지는 반증의 과정을 거쳐 받아들여질 수 있음.)\n",
    "\n",
    "- T -test (정규분포와 비슷)로 할수 있는것\n",
    "    - 검정 통계량\n",
    "    - P-value < 0.05 보다 작으면 대립가설 Ha를 채택\n",
    "    - P-value > 0.05 보다 크면 귀무가설 Ho를 채택\n",
    "        - 1-sample T test\n",
    "        - 2-sample T test\n",
    "\n",
    "\n"
   ]
  },
  {
   "cell_type": "markdown",
   "metadata": {},
   "source": [
    "![Alt text](image-12.png)\n",
    "![Alt text](image-13.png)"
   ]
  },
  {
   "cell_type": "markdown",
   "metadata": {},
   "source": [
    "- 가설검정(2-sample T test)"
   ]
  },
  {
   "cell_type": "code",
   "execution_count": 24,
   "metadata": {},
   "outputs": [
    {
     "data": {
      "text/plain": [
       "Ttest_indResult(statistic=-8.710850568947652, pvalue=1.6733753870177818e-15)"
      ]
     },
     "execution_count": 24,
     "metadata": {},
     "output_type": "execute_result"
    }
   ],
   "source": [
    "import scipy as sp          #scipy: \n",
    "sp.stats.ttest_ind(df[df.셀프=='Y'].가격, df[df.셀프=='N'].가격, equal_var=False)\n",
    "\n",
    "# 검정통계량:statistic=-8.710850568947652"
   ]
  },
  {
   "cell_type": "code",
   "execution_count": 18,
   "metadata": {},
   "outputs": [],
   "source": [
    "# p-value가 0.05보다 훨씬 작으므로 귀무가설 기각, 대립가설 체택\n",
    "#   - 귀무가설(H0): 셀프주유소와 일반주유소의 가격 차이가 없다.\n",
    "#   - 대립가설(H1): 셀프주유소와 일반주유소의 가격 차이가 있다."
   ]
  },
  {
   "cell_type": "markdown",
   "metadata": {},
   "source": [
    "- 상표별로 가격 비교하기"
   ]
  },
  {
   "cell_type": "code",
   "execution_count": 19,
   "metadata": {},
   "outputs": [
    {
     "data": {
      "image/png": "[encoded data removed]",
      "text/plain": [
       "<Figure size 640x480 with 1 Axes>"
      ]
     },
     "metadata": {},
     "output_type": "display_data"
    }
   ],
   "source": [
    "sns.boxplot(df, x='상표', y='가격')\n",
    "plt.title('상표에 따른 가격의 boxplot');"
   ]
  },
  {
   "cell_type": "code",
   "execution_count": 27,
   "metadata": {},
   "outputs": [
    {
     "data": {
      "text/html": [
       "<div>\n",
       "<style scoped>\n",
       "    .dataframe tbody tr th:only-of-type {\n",
       "        vertical-align: middle;\n",
       "    }\n",
       "\n",
       "    .dataframe tbody tr th {\n",
       "        vertical-align: top;\n",
       "    }\n",
       "\n",
       "    .dataframe thead th {\n",
       "        text-align: right;\n",
       "    }\n",
       "</style>\n",
       "<table border=\"1\" class=\"dataframe\">\n",
       "  <thead>\n",
       "    <tr style=\"text-align: right;\">\n",
       "      <th></th>\n",
       "      <th>가격</th>\n",
       "    </tr>\n",
       "    <tr>\n",
       "      <th>상표</th>\n",
       "      <th></th>\n",
       "    </tr>\n",
       "  </thead>\n",
       "  <tbody>\n",
       "    <tr>\n",
       "      <th>SK에너지</th>\n",
       "      <td>1892.116279</td>\n",
       "    </tr>\n",
       "    <tr>\n",
       "      <th>GS칼텍스</th>\n",
       "      <td>1888.116505</td>\n",
       "    </tr>\n",
       "    <tr>\n",
       "      <th>자가상표</th>\n",
       "      <td>1828.000000</td>\n",
       "    </tr>\n",
       "    <tr>\n",
       "      <th>S-OIL</th>\n",
       "      <td>1827.141026</td>\n",
       "    </tr>\n",
       "    <tr>\n",
       "      <th>HD현대오일뱅크</th>\n",
       "      <td>1825.982759</td>\n",
       "    </tr>\n",
       "    <tr>\n",
       "      <th>알뜰주유소</th>\n",
       "      <td>1769.700000</td>\n",
       "    </tr>\n",
       "    <tr>\n",
       "      <th>알뜰(ex)</th>\n",
       "      <td>1724.000000</td>\n",
       "    </tr>\n",
       "  </tbody>\n",
       "</table>\n",
       "</div>"
      ],
      "text/plain": [
       "                   가격\n",
       "상표                   \n",
       "SK에너지     1892.116279\n",
       "GS칼텍스     1888.116505\n",
       "자가상표      1828.000000\n",
       "S-OIL     1827.141026\n",
       "HD현대오일뱅크  1825.982759\n",
       "알뜰주유소     1769.700000\n",
       "알뜰(ex)    1724.000000"
      ]
     },
     "execution_count": 27,
     "metadata": {},
     "output_type": "execute_result"
    }
   ],
   "source": [
    "# 상표별 평균 가격의 막대 그래프\n",
    "df2 = df.pivot_table('가격', '상표')\n",
    "df2.sort_values('가격', ascending=False, inplace=True)\n",
    "df2"
   ]
  },
  {
   "cell_type": "code",
   "execution_count": 29,
   "metadata": {},
   "outputs": [
    {
     "data": {
      "image/png": "[encoded data removed]",
      "text/plain": [
       "<Figure size 640x480 with 1 Axes>"
      ]
     },
     "metadata": {},
     "output_type": "display_data"
    }
   ],
   "source": [
    "sns.barplot(y=df2.index, x=df2.가격)\n",
    "plt.title('상표별 평균 가격의 막대 그래프');"
   ]
  },
  {
   "cell_type": "code",
   "execution_count": 30,
   "metadata": {},
   "outputs": [
    {
     "data": {
      "text/html": [
       "<div>\n",
       "<style scoped>\n",
       "    .dataframe tbody tr th:only-of-type {\n",
       "        vertical-align: middle;\n",
       "    }\n",
       "\n",
       "    .dataframe tbody tr th {\n",
       "        vertical-align: top;\n",
       "    }\n",
       "\n",
       "    .dataframe thead th {\n",
       "        text-align: right;\n",
       "    }\n",
       "</style>\n",
       "<table border=\"1\" class=\"dataframe\">\n",
       "  <thead>\n",
       "    <tr style=\"text-align: right;\">\n",
       "      <th></th>\n",
       "      <th>가격</th>\n",
       "    </tr>\n",
       "    <tr>\n",
       "      <th>구</th>\n",
       "      <th></th>\n",
       "    </tr>\n",
       "  </thead>\n",
       "  <tbody>\n",
       "    <tr>\n",
       "      <th>용산구</th>\n",
       "      <td>2239.916667</td>\n",
       "    </tr>\n",
       "    <tr>\n",
       "      <th>중구</th>\n",
       "      <td>2153.300000</td>\n",
       "    </tr>\n",
       "    <tr>\n",
       "      <th>종로구</th>\n",
       "      <td>2086.222222</td>\n",
       "    </tr>\n",
       "    <tr>\n",
       "      <th>강남구</th>\n",
       "      <td>2022.941176</td>\n",
       "    </tr>\n",
       "    <tr>\n",
       "      <th>성동구</th>\n",
       "      <td>1921.187500</td>\n",
       "    </tr>\n",
       "    <tr>\n",
       "      <th>강동구</th>\n",
       "      <td>1882.500000</td>\n",
       "    </tr>\n",
       "    <tr>\n",
       "      <th>마포구</th>\n",
       "      <td>1851.181818</td>\n",
       "    </tr>\n",
       "    <tr>\n",
       "      <th>영등포구</th>\n",
       "      <td>1850.538462</td>\n",
       "    </tr>\n",
       "    <tr>\n",
       "      <th>서초구</th>\n",
       "      <td>1839.200000</td>\n",
       "    </tr>\n",
       "    <tr>\n",
       "      <th>구로구</th>\n",
       "      <td>1828.894737</td>\n",
       "    </tr>\n",
       "    <tr>\n",
       "      <th>관악구</th>\n",
       "      <td>1826.642857</td>\n",
       "    </tr>\n",
       "    <tr>\n",
       "      <th>동작구</th>\n",
       "      <td>1826.444444</td>\n",
       "    </tr>\n",
       "    <tr>\n",
       "      <th>송파구</th>\n",
       "      <td>1815.678571</td>\n",
       "    </tr>\n",
       "    <tr>\n",
       "      <th>강서구</th>\n",
       "      <td>1811.484848</td>\n",
       "    </tr>\n",
       "    <tr>\n",
       "      <th>서대문구</th>\n",
       "      <td>1809.733333</td>\n",
       "    </tr>\n",
       "    <tr>\n",
       "      <th>동대문구</th>\n",
       "      <td>1805.277778</td>\n",
       "    </tr>\n",
       "    <tr>\n",
       "      <th>노원구</th>\n",
       "      <td>1804.071429</td>\n",
       "    </tr>\n",
       "    <tr>\n",
       "      <th>광진구</th>\n",
       "      <td>1802.538462</td>\n",
       "    </tr>\n",
       "    <tr>\n",
       "      <th>금천구</th>\n",
       "      <td>1795.363636</td>\n",
       "    </tr>\n",
       "    <tr>\n",
       "      <th>성북구</th>\n",
       "      <td>1793.347826</td>\n",
       "    </tr>\n",
       "    <tr>\n",
       "      <th>강북구</th>\n",
       "      <td>1784.666667</td>\n",
       "    </tr>\n",
       "    <tr>\n",
       "      <th>양천구</th>\n",
       "      <td>1784.333333</td>\n",
       "    </tr>\n",
       "    <tr>\n",
       "      <th>중랑구</th>\n",
       "      <td>1783.923077</td>\n",
       "    </tr>\n",
       "    <tr>\n",
       "      <th>도봉구</th>\n",
       "      <td>1780.562500</td>\n",
       "    </tr>\n",
       "    <tr>\n",
       "      <th>은평구</th>\n",
       "      <td>1775.133333</td>\n",
       "    </tr>\n",
       "  </tbody>\n",
       "</table>\n",
       "</div>"
      ],
      "text/plain": [
       "               가격\n",
       "구                \n",
       "용산구   2239.916667\n",
       "중구    2153.300000\n",
       "종로구   2086.222222\n",
       "강남구   2022.941176\n",
       "성동구   1921.187500\n",
       "강동구   1882.500000\n",
       "마포구   1851.181818\n",
       "영등포구  1850.538462\n",
       "서초구   1839.200000\n",
       "구로구   1828.894737\n",
       "관악구   1826.642857\n",
       "동작구   1826.444444\n",
       "송파구   1815.678571\n",
       "강서구   1811.484848\n",
       "서대문구  1809.733333\n",
       "동대문구  1805.277778\n",
       "노원구   1804.071429\n",
       "광진구   1802.538462\n",
       "금천구   1795.363636\n",
       "성북구   1793.347826\n",
       "강북구   1784.666667\n",
       "양천구   1784.333333\n",
       "중랑구   1783.923077\n",
       "도봉구   1780.562500\n",
       "은평구   1775.133333"
      ]
     },
     "execution_count": 30,
     "metadata": {},
     "output_type": "execute_result"
    }
   ],
   "source": [
    "# 구별 가격 비교\n",
    "df3 = df.pivot_table('가격', '구').sort_values('가격', ascending=False)\n",
    "df3"
   ]
  },
  {
   "cell_type": "code",
   "execution_count": 32,
   "metadata": {},
   "outputs": [
    {
     "data": {
      "image/png": "[encoded data removed]",
      "text/plain": [
       "<Figure size 640x480 with 1 Axes>"
      ]
     },
     "metadata": {},
     "output_type": "display_data"
    }
   ],
   "source": [
    "sns.barplot(y=df3.index, x=df3.가격)\n",
    "plt.title('구별 평균 가격');"
   ]
  },
  {
   "cell_type": "code",
   "execution_count": null,
   "metadata": {},
   "outputs": [],
   "source": []
  }
 ],
 "metadata": {
  "kernelspec": {
   "display_name": "base",
   "language": "python",
   "name": "python3"
  },
  "language_info": {
   "codemirror_mode": {
    "name": "ipython",
    "version": 3
   },
   "file_extension": ".py",
   "mimetype": "text/x-python",
   "name": "python",
   "nbconvert_exporter": "python",
   "pygments_lexer": "ipython3",
   "version": "3.11.4"
  },
  "orig_nbformat": 4
 },
 "nbformat": 4,
 "nbformat_minor": 2
}

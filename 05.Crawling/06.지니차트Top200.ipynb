{
 "cells": [
  {
   "cell_type": "markdown",
   "metadata": {},
   "source": [
    "## 지니차트 Top 200"
   ]
  },
  {
   "cell_type": "markdown",
   "metadata": {},
   "source": [
    "![Alt text](image-6.png)"
   ]
  },
  {
   "cell_type": "code",
   "execution_count": 3,
   "metadata": {},
   "outputs": [],
   "source": [
    "import requests\n",
    "import pandas as pd\n",
    "from bs4 import BeautifulSoup\n",
    "from tqdm import tqdm\n",
    "from urllib.parse import quote "
   ]
  },
  {
   "cell_type": "markdown",
   "metadata": {},
   "source": [
    "- Step 1"
   ]
  },
  {
   "cell_type": "code",
   "execution_count": 4,
   "metadata": {},
   "outputs": [
    {
     "data": {
      "text/plain": [
       "'\\r\\n\\r\\n\\r\\n\\r\\n\\r\\n\\r\\n<!DOCTYPE html>\\r\\n<html lang=\"ko\">\\r\\n<head>\\r\\n\\t\\n\\n\\n\\n\\n<meta http-equiv=\"X-UA-Compatible\" content=\"IE=edge\" />\\n<!--[if lte IE 6]><html dir=\"ltr\" class=\"no-js ie6\"><![endif]-->\\n<!--[if lte IE 7]><html dir=\"ltr\" class=\"no-js ie7\"><![endif]-->\\n<!--[if IE 8]><html dir=\"ltr\" class=\"no-js ie8\"><![endif]-->\\n<!--[if IE 9]><html dir=\"ltr\" class=\"no-js ie9\"><![endif]-->\\n<!--[if (gte IE 10)|!(IE)]><!--><html dir=\"ltr\" class=\"no-js\"><!--<![endif]-->\\n<title>음악, 그리고 설레임 - 지니</title>\\n<meta charset=\"utf-8'"
      ]
     },
     "execution_count": 4,
     "metadata": {},
     "output_type": "execute_result"
    }
   ],
   "source": [
    "url = 'https://www.genie.co.kr/chart/top200'\n",
    "header = {'User-Agent' : 'Mozilla/5.0 (Windows NT 10.0; Win64; x64) AppleWebKit/537.36 (KHTML, like Gecko) Chrome/117.0.0.0 Safari/537.36'}\n",
    "res = requests.get(url, headers=header)\n",
    "res.text[:500]\n"
   ]
  },
  {
   "cell_type": "markdown",
   "metadata": {},
   "source": [
    "- 원리\n",
    "    - html : BeautifulSoup (정적)\n",
    "    - selenium (동적)  -> JS도 읽음"
   ]
  },
  {
   "cell_type": "code",
   "execution_count": 5,
   "metadata": {},
   "outputs": [],
   "source": [
    "from selenium import webdriver\n",
    "driver = webdriver.Chrome() \n",
    "driver.get(url)\n"
   ]
  },
  {
   "cell_type": "code",
   "execution_count": 6,
   "metadata": {},
   "outputs": [
    {
     "data": {
      "text/plain": [
       "('20230919', '10')"
      ]
     },
     "execution_count": 6,
     "metadata": {},
     "output_type": "execute_result"
    }
   ],
   "source": [
    "# 크롬을 사용하여 불러오면 현재 지니에 적용된 시간(자바스크립트 데이터)을 불러올 수 있음\n",
    "soup = BeautifulSoup(driver.page_source, 'html.parser')\n",
    "date = soup.select_one('#inc_date').get_text().strip().replace('.', '')\n",
    "time = soup.select_one('#inc_time').get_text().strip()[:2]\n",
    "date, time"
   ]
  },
  {
   "cell_type": "markdown",
   "metadata": {},
   "source": [
    "![Alt text](image-8.png)"
   ]
  },
  {
   "cell_type": "markdown",
   "metadata": {},
   "source": [
    "![Alt text](image-7.png)"
   ]
  },
  {
   "cell_type": "code",
   "execution_count": 7,
   "metadata": {},
   "outputs": [
    {
     "data": {
      "text/plain": [
       "datetime.datetime(2023, 9, 19, 10, 44, 37, 247412)"
      ]
     },
     "execution_count": 7,
     "metadata": {},
     "output_type": "execute_result"
    }
   ],
   "source": [
    "# selenium 없으면 datetime.datetime.now()로.. 이용\n",
    "import datetime\n",
    "datetime.datetime.now()"
   ]
  },
  {
   "cell_type": "code",
   "execution_count": 8,
   "metadata": {},
   "outputs": [
    {
     "data": {
      "text/plain": [
       "'202309191000'"
      ]
     },
     "execution_count": 8,
     "metadata": {},
     "output_type": "execute_result"
    }
   ],
   "source": [
    "# Beautifulsoup 에서는 예전 시간만 불러옴 (HTML에 '#inc_date' 같은 id값이 있기 때문 )\n",
    "date_str = soup.select_one('#inc_date').get_text().strip() + \\\n",
    "            soup.select_one('#inc_time').get_text().strip()\n",
    "date_str = date_str.replace('.','').replace(':','')\n",
    "date_str"
   ]
  },
  {
   "cell_type": "code",
   "execution_count": 9,
   "metadata": {},
   "outputs": [
    {
     "data": {
      "text/plain": [
       "<div class=\"chart\">\n",
       "<div id=\"svgContainer\"><span class=\"bg-line\" style=\"left: 20px;\"></span><span class=\"bg-line\" style=\"left: 260px;\"></span><svg height=\"290\" style=\"overflow: hidden; position: relative; left: -0.5px; top: -0.5px;\" version=\"1.1\" width=\"502\" xmlns=\"http://www.w3.org/2000/svg\"><rect fill=\"url(#647F0B0E-5C52-41F8-8234-444C9C14A9E3)\" height=\"290\" r=\"0\" rx=\"0\" ry=\"0\" stroke=\"none\" style=\"-webkit-tap-highlight-color: rgba(0, 0, 0, 0);\" width=\"120\" x=\"300\" y=\"0\"></rect><desc style=\"-webkit-tap-highlight-color: rgba(0, 0, 0, 0);\">Created with Raphaël 2.1.0</desc><defs style=\"-webkit-tap-highlight-color: rgba(0, 0, 0, 0);\"><pattern height=\"290\" id=\"647F0B0E-5C52-41F8-8234-444C9C14A9E3\" patterntransform=\"matrix(1,0,0,1,0,0) translate(300,0)\" patternunits=\"userSpaceOnUse\" style=\"-webkit-tap-highlight-color: rgba(0, 0, 0, 0);\" width=\"20\" x=\"0\" y=\"0\"><image height=\"290\" style=\"-webkit-tap-highlight-color: rgba(0, 0, 0, 0);\" width=\"20\" x=\"0\" xlink:href=\"//image.genie.co.kr/imageg/web/main/bg_grid_freeze_top200.png\" y=\"0\"/></pattern></defs><path d=\"M20,133.8441396C20,133.8441396,40,141.3176616,40,141.3176616C40,141.3176616,60,143.76244200000002,60,143.76244200000002C60,143.76244200000002,80,139.8102132,80,139.8102132C80,139.8102132,100,143.3739632,100,143.3739632C100,143.3739632,116.88533333333334,142.6932222062933,116.88533333333334,142.6932222062933C116.88533333333334,142.6932222062933,117.41866666666667,142.60237364096,117.41866666666667,142.60237364096\" fill=\"none\" stroke=\"#d62952\" stroke-opacity=\"0.5\" stroke-width=\"2\" style=\"-webkit-tap-highlight-color: rgba(0, 0, 0, 0); stroke-opacity: 0.5;\"></path><path d=\"M20,142.0415704C20,142.0415704,40,153.2782256,40,153.2782256C40,153.2782256,60,150.3450568,60,150.3450568C60,150.3450568,80,147.4933704,80,147.4933704C80,147.4933704,100,151.869106,100,151.869106C100,151.869106,116.84266666666666,151.54722040768002,116.84266666666666,151.54722040768002C116.84266666666666,151.54722040768002,117.10933333333332,151.50219731968002,117.10933333333332,151.50219731968002\" fill=\"none\" stroke=\"#0eb6e6\" stroke-opacity=\"0.5\" stroke-width=\"2\" style=\"-webkit-tap-highlight-color: rgba(0, 0, 0, 0); stroke-opacity: 0.5;\"></path><path d=\"M20,162.1526C20,162.1526,40,169.7351084,40,169.7351084C40,169.7351084,60,169.80092919999998,60,169.80092919999998C60,169.80092919999998,80,165.4876732,80,165.4876732C80,165.4876732,100,167.8040408,100,167.8040408C100,167.8040408,116.84266666666666,167.9124503082667,116.84266666666666,167.9124503082667C116.84266666666666,167.9124503082667,117.10933333333332,167.87451214293336,117.10933333333332,167.87451214293336\" fill=\"none\" stroke=\"#47a879\" stroke-opacity=\"0.5\" stroke-width=\"2\" style=\"-webkit-tap-highlight-color: rgba(0, 0, 0, 0); stroke-opacity: 0.5;\"></path><path d=\"M20,164.930618C20,164.930618,40,168.882052,40,168.882052C40,168.882052,60,170.0752048,60,170.0752048C60,170.0752048,80,170.6476116,80,170.6476116C80,170.6476116,100,171.9382272,100,171.9382272C100,171.9382272,116.84266666666666,171.04724272256,116.84266666666666,171.04724272256C116.84266666666666,171.04724272256,117.10933333333332,171.01017171456,117.10933333333332,171.01017171456\" fill=\"none\" stroke=\"#bfa77a\" stroke-opacity=\"0.5\" stroke-width=\"2\" style=\"-webkit-tap-highlight-color: rgba(0, 0, 0, 0); stroke-opacity: 0.5;\"></path><path d=\"M20,168.03653359999998C20,168.03653359999998,40,172.9251844,40,172.9251844C40,172.9251844,60,175.51647880000002,60,175.51647880000002C60,175.51647880000002,80,173.4589488,80,173.4589488C80,173.4589488,100,173.78727279999998,100,173.78727279999998C100,173.78727279999998,116.57955555555556,173.23293204408887,116.57955555555556,173.23293204408887C116.57955555555556,173.23293204408887,116.84622222222222,173.23705540408886,116.84622222222222,173.23705540408886\" fill=\"none\" stroke=\"#977aaf\" stroke-opacity=\"0.5\" stroke-width=\"2\" style=\"-webkit-tap-highlight-color: rgba(0, 0, 0, 0); stroke-opacity: 0.5;\"></path><path d=\"M300,173.5040084L400,173.5040084L420,166.4487464\" fill=\"none\" stroke=\"#d4d6d8\" stroke-opacity=\"1\" stroke-width=\"2\" style=\"-webkit-tap-highlight-color: rgba(0, 0, 0, 0); stroke-opacity: 1;\"></path><path d=\"M300,180.8540092L400,180.8540092L420,166.9588448\" fill=\"none\" stroke=\"#d4d6d8\" stroke-opacity=\"1\" stroke-width=\"2\" style=\"-webkit-tap-highlight-color: rgba(0, 0, 0, 0); stroke-opacity: 1;\"></path><path d=\"M300,187.2709792L400,187.2709792L420,186.571258\" fill=\"none\" stroke=\"#d4d6d8\" stroke-opacity=\"1\" stroke-width=\"2\" style=\"-webkit-tap-highlight-color: rgba(0, 0, 0, 0); stroke-opacity: 1;\"></path><path d=\"M300,198.4673536L400,198.4673536L420,184.44291520000002\" fill=\"none\" stroke=\"#d4d6d8\" stroke-opacity=\"1\" stroke-width=\"2\" style=\"-webkit-tap-highlight-color: rgba(0, 0, 0, 0); stroke-opacity: 1;\"></path><path d=\"M300,189.0799172L400,189.0799172L420,185.4807024\" fill=\"none\" stroke=\"#d4d6d8\" stroke-opacity=\"1\" stroke-width=\"2\" style=\"-webkit-tap-highlight-color: rgba(0, 0, 0, 0); stroke-opacity: 1;\"></path><rect fill=\"none\" height=\"20\" r=\"0\" rx=\"0\" ry=\"0\" stroke=\"#000\" stroke-width=\"0\" style=\"-webkit-tap-highlight-color: rgba(0, 0, 0, 0);\" width=\"20\" x=\"0\" y=\"0\"></rect><rect fill=\"none\" height=\"20\" r=\"0\" rx=\"0\" ry=\"0\" stroke=\"#000\" stroke-width=\"0\" style=\"-webkit-tap-highlight-color: rgba(0, 0, 0, 0);\" width=\"20\" x=\"0\" y=\"0\"></rect><rect fill=\"none\" height=\"20\" r=\"0\" rx=\"0\" ry=\"0\" stroke=\"#000\" stroke-width=\"0\" style=\"-webkit-tap-highlight-color: rgba(0, 0, 0, 0);\" width=\"20\" x=\"0\" y=\"0\"></rect><rect fill=\"none\" height=\"20\" r=\"0\" rx=\"0\" ry=\"0\" stroke=\"#000\" stroke-width=\"0\" style=\"-webkit-tap-highlight-color: rgba(0, 0, 0, 0);\" width=\"20\" x=\"0\" y=\"0\"></rect><rect fill=\"none\" height=\"20\" r=\"0\" rx=\"0\" ry=\"0\" stroke=\"#000\" stroke-width=\"0\" style=\"-webkit-tap-highlight-color: rgba(0, 0, 0, 0);\" width=\"20\" x=\"0\" y=\"0\"></rect><rect fill=\"none\" height=\"20\" r=\"0\" rx=\"0\" ry=\"0\" stroke=\"#000\" stroke-width=\"0\" style=\"-webkit-tap-highlight-color: rgba(0, 0, 0, 0);\" width=\"20\" x=\"0\" y=\"0\"></rect><rect fill=\"none\" height=\"20\" r=\"0\" rx=\"0\" ry=\"0\" stroke=\"#000\" stroke-width=\"0\" style=\"-webkit-tap-highlight-color: rgba(0, 0, 0, 0);\" width=\"20\" x=\"0\" y=\"0\"></rect><rect fill=\"none\" height=\"20\" r=\"0\" rx=\"0\" ry=\"0\" stroke=\"#000\" stroke-width=\"0\" style=\"-webkit-tap-highlight-color: rgba(0, 0, 0, 0);\" width=\"20\" x=\"0\" y=\"0\"></rect><rect fill=\"none\" height=\"20\" r=\"0\" rx=\"0\" ry=\"0\" stroke=\"#000\" stroke-width=\"0\" style=\"-webkit-tap-highlight-color: rgba(0, 0, 0, 0);\" width=\"20\" x=\"0\" y=\"0\"></rect><rect fill=\"none\" height=\"20\" r=\"0\" rx=\"0\" ry=\"0\" stroke=\"#000\" stroke-width=\"0\" style=\"-webkit-tap-highlight-color: rgba(0, 0, 0, 0);\" width=\"20\" x=\"0\" y=\"0\"></rect><rect fill=\"none\" height=\"20\" r=\"0\" rx=\"0\" ry=\"0\" stroke=\"#000\" stroke-width=\"0\" style=\"-webkit-tap-highlight-color: rgba(0, 0, 0, 0);\" width=\"20\" x=\"0\" y=\"0\"></rect><rect fill=\"none\" height=\"20\" r=\"0\" rx=\"0\" ry=\"0\" stroke=\"#000\" stroke-width=\"0\" style=\"-webkit-tap-highlight-color: rgba(0, 0, 0, 0);\" width=\"20\" x=\"0\" y=\"0\"></rect><rect fill=\"none\" height=\"20\" r=\"0\" rx=\"0\" ry=\"0\" stroke=\"#000\" stroke-width=\"0\" style=\"-webkit-tap-highlight-color: rgba(0, 0, 0, 0);\" width=\"20\" x=\"0\" y=\"0\"></rect><rect fill=\"none\" height=\"20\" r=\"0\" rx=\"0\" ry=\"0\" stroke=\"#000\" stroke-width=\"0\" style=\"-webkit-tap-highlight-color: rgba(0, 0, 0, 0);\" width=\"20\" x=\"0\" y=\"0\"></rect><rect fill=\"none\" height=\"20\" r=\"0\" rx=\"0\" ry=\"0\" stroke=\"#000\" stroke-width=\"0\" style=\"-webkit-tap-highlight-color: rgba(0, 0, 0, 0);\" width=\"20\" x=\"0\" y=\"0\"></rect><rect fill=\"none\" height=\"20\" r=\"0\" rx=\"0\" ry=\"0\" stroke=\"#000\" stroke-width=\"0\" style=\"-webkit-tap-highlight-color: rgba(0, 0, 0, 0);\" width=\"20\" x=\"0\" y=\"0\"></rect><rect fill=\"none\" height=\"20\" r=\"0\" rx=\"0\" ry=\"0\" stroke=\"#000\" stroke-width=\"0\" style=\"-webkit-tap-highlight-color: rgba(0, 0, 0, 0);\" width=\"20\" x=\"0\" y=\"0\"></rect><rect fill=\"none\" height=\"20\" r=\"0\" rx=\"0\" ry=\"0\" stroke=\"#000\" stroke-width=\"0\" style=\"-webkit-tap-highlight-color: rgba(0, 0, 0, 0);\" width=\"20\" x=\"0\" y=\"0\"></rect><rect fill=\"none\" height=\"20\" r=\"0\" rx=\"0\" ry=\"0\" stroke=\"#000\" stroke-width=\"0\" style=\"-webkit-tap-highlight-color: rgba(0, 0, 0, 0);\" width=\"20\" x=\"0\" y=\"0\"></rect><rect fill=\"none\" height=\"20\" r=\"0\" rx=\"0\" ry=\"0\" stroke=\"#000\" stroke-width=\"0\" style=\"-webkit-tap-highlight-color: rgba(0, 0, 0, 0);\" width=\"20\" x=\"0\" y=\"0\"></rect></svg>\n",
       "<div class=\"detail-info ranking-1\">\n",
       "<span class=\"point point-1\"></span>\n",
       "<span class=\"point point-2\"></span>\n",
       "<span class=\"point point-3\"></span>\n",
       "<span class=\"point point-4\"></span>\n",
       "<span class=\"point point-5\"></span>\n",
       "<span class=\"info\">20:00<br/>1위</span>\n",
       "</div>\n",
       "</div>\n",
       "<div class=\"time\">\n",
       "<span>11</span><span>12</span><span>13</span><span>14</span><span>15</span><span>16</span><span>17</span><span>18</span><span>19</span><span>20</span><span>21</span><span>22</span><span>23</span><span>0</span><span>1</span><span>2</span><span>3</span><span>4</span><span>5</span><span>6</span><span>7</span><span>8</span><span>9</span><span>10</span>\n",
       "</div>\n",
       "<div class=\"chart-icon\">\n",
       "<span class=\"icon-chart ranking-1\" style=\"top: 118px;\">1위</span>\n",
       "<span class=\"icon-chart ranking-2\" style=\"top: 122px;\">2위</span>\n",
       "<span class=\"icon-chart ranking-3\" style=\"top: 152px;\">3위</span>\n",
       "<span class=\"icon-chart ranking-4\" style=\"top: 158px;\">4위</span>\n",
       "<span class=\"icon-chart ranking-5\" style=\"top: 163px;\">5위</span>\n",
       "</div>\n",
       "<span class=\"graph-mask\"></span>\n",
       "<button class=\"btn-caption\" onclick=\"FG_layerPopup.show($('#chart_caption')); return false;\" type=\"button\">실시간 차트 점유율 그래프</button>\n",
       "<div class=\"ranking-link\">\n",
       "<button class=\"ranking-1 active\" href=\"#details_v1\" type=\"button\">1위</button>\n",
       "<button class=\"ranking-2\" href=\"#details_v2\" type=\"button\">2위</button>\n",
       "<button class=\"ranking-3\" href=\"#details_v3\" type=\"button\">3위</button>\n",
       "<button class=\"ranking-4\" href=\"#details_v4\" type=\"button\">4위</button>\n",
       "<button class=\"ranking-5\" href=\"#details_v5\" type=\"button\">5위</button>\n",
       "</div>\n",
       "<div class=\"chart-info\">\n",
       "<ul>\n",
       "<li class=\"ranking-1 active\">\n",
       "<span class=\"cover\"><span class=\"mask\"></span>\n",
       "<img alt=\"Love Lee\" height=\"160\" onerror=\"this.src='//image.genie.co.kr/imageg/web/common/blank_200.gif';\" src=\"//image.genie.co.kr/Y/IMAGE/IMG_ALBUM/084/181/610/84181610_1692585955705_1_140x140.JPG/dims/resize/Q_80,0\" width=\"160\"/>\n",
       "</span>\n",
       "<em class=\"num\">1</em>\n",
       "<span class=\"rank\">\n",
       "<span class=\"rank-none\"><span class=\"hide\">유지</span></span>\n",
       "</span>\n",
       "<a class=\"title text-bold\" href=\"#\" onclick=\"fnPlaySong('103151984','1'); return false;\"><span>Love Lee\n",
       "</span></a>\n",
       "<a class=\"artist ellipsis\" href=\"#\" onclick=\"fnViewArtist('80197389'); return false;\">AKMU (악뮤)</a>\n",
       "<dl class=\"desc\">\n",
       "<dt>1위</dt>\n",
       "<dd>3시간 째</dd>\n",
       "<dt>5위권</dt>\n",
       "<dd>4시간 째\n",
       "                        \n",
       "                </dd></dl>\n",
       "</li>\n",
       "<li class=\"ranking-2\">\n",
       "<span class=\"cover\"><span class=\"mask\"></span>\n",
       "<img alt=\"Smoke (Prod. by Dynamicduo &amp; Padi)\" height=\"160\" onerror=\"this.src='//image.genie.co.kr/imageg/web/common/blank_200.gif';\" src=\"//image.genie.co.kr/Y/IMAGE/IMG_ALBUM/084/193/518/84193518_1693904065753_1_140x140.JPG/dims/resize/Q_80,0\" width=\"160\"/>\n",
       "</span>\n",
       "<em class=\"num\">2</em>\n",
       "<span class=\"rank\">\n",
       "<span class=\"rank-none\"><span class=\"hide\">유지</span></span>\n",
       "</span>\n",
       "<a class=\"title text-bold\" href=\"#\" onclick=\"fnPlaySong('103289405','1'); return false;\"><span>Smoke (Prod. by Dynamicdu...\n",
       "</span></a>\n",
       "<a class=\"artist ellipsis\" href=\"#\" onclick=\"fnViewArtist('82141406'); return false;\">다이나믹 듀오 &amp; 이영지</a>\n",
       "<dl class=\"desc\">\n",
       "<dt>2위</dt>\n",
       "<dd>3시간 째</dd>\n",
       "<dt>5위권</dt>\n",
       "<dd>3시간 째\n",
       "                        \n",
       "                </dd></dl>\n",
       "</li>\n",
       "<li class=\"ranking-3\">\n",
       "<span class=\"cover\"><span class=\"mask\"></span>\n",
       "<img alt=\"후라이의 꿈\" height=\"160\" onerror=\"this.src='//image.genie.co.kr/imageg/web/common/blank_200.gif';\" src=\"//image.genie.co.kr/Y/IMAGE/IMG_ALBUM/084/181/610/84181610_1692585955705_1_140x140.JPG/dims/resize/Q_80,0\" width=\"160\"/>\n",
       "</span>\n",
       "<em class=\"num\">3</em>\n",
       "<span class=\"rank\">\n",
       "<span class=\"rank-none\"><span class=\"hide\">유지</span></span>\n",
       "</span>\n",
       "<a class=\"title text-bold\" href=\"#\" onclick=\"fnPlaySong('103151985','1'); return false;\"><span>후라이의 꿈\n",
       "</span></a>\n",
       "<a class=\"artist ellipsis\" href=\"#\" onclick=\"fnViewArtist('80197389'); return false;\">AKMU (악뮤)</a>\n",
       "<dl class=\"desc\">\n",
       "<dt>3위</dt>\n",
       "<dd>3시간 째</dd>\n",
       "<dt>5위권</dt>\n",
       "<dd>3시간 째\n",
       "                        \n",
       "                </dd></dl>\n",
       "</li>\n",
       "<li class=\"ranking-4\">\n",
       "<span class=\"cover\"><span class=\"mask\"></span>\n",
       "<img alt=\"ETA\" height=\"160\" onerror=\"this.src='//image.genie.co.kr/imageg/web/common/blank_200.gif';\" src=\"//image.genie.co.kr/Y/IMAGE/IMG_ALBUM/084/019/740/84019740_1688692234715_1_140x140.JPG/dims/resize/Q_80,0\" width=\"160\"/>\n",
       "</span>\n",
       "<em class=\"num\">4</em>\n",
       "<span class=\"rank\">\n",
       "<span class=\"rank-none\"><span class=\"hide\">유지</span></span>\n",
       "</span>\n",
       "<a class=\"title text-bold\" href=\"#\" onclick=\"fnPlaySong('102724316','1'); return false;\"><span>ETA\n",
       "</span></a>\n",
       "<a class=\"artist ellipsis\" href=\"#\" onclick=\"fnViewArtist('81490206'); return false;\">NewJeans</a>\n",
       "<dl class=\"desc\">\n",
       "<dt>4위</dt>\n",
       "<dd>3시간 째</dd>\n",
       "<dt>5위권</dt>\n",
       "<dd>3시간 째\n",
       "                        \n",
       "                </dd></dl>\n",
       "</li>\n",
       "<li class=\"ranking-5\">\n",
       "<span class=\"cover\"><span class=\"mask\"></span>\n",
       "<img alt=\"Seven (Feat. Latto) (Clean Ver.)\" height=\"160\" onerror=\"this.src='//image.genie.co.kr/imageg/web/common/blank_200.gif';\" src=\"//image.genie.co.kr/Y/IMAGE/IMG_ALBUM/084/048/666/84048666_1689299278760_1_140x140.JPG/dims/resize/Q_80,0\" width=\"160\"/>\n",
       "</span>\n",
       "<em class=\"num\">5</em>\n",
       "<span class=\"rank\">\n",
       "<span class=\"rank-none\"><span class=\"hide\">유지</span></span>\n",
       "</span>\n",
       "<a class=\"title text-bold\" href=\"#\" onclick=\"fnPlaySong('102664199','1'); return false;\"><span>Seven (Feat. Latto) (Clea...\n",
       "</span></a>\n",
       "<a class=\"artist ellipsis\" href=\"#\" onclick=\"fnViewArtist('80441221'); return false;\">정국</a>\n",
       "<dl class=\"desc\">\n",
       "<dt>5위</dt>\n",
       "<dd>2시간 째</dd>\n",
       "<dt>5위권</dt>\n",
       "<dd>2시간 째\n",
       "                        \n",
       "                </dd></dl>\n",
       "</li>\n",
       "</ul>\n",
       "</div>\n",
       "</div>"
      ]
     },
     "execution_count": 9,
     "metadata": {},
     "output_type": "execute_result"
    }
   ],
   "source": [
    "soup.select_one('.chart')"
   ]
  },
  {
   "cell_type": "markdown",
   "metadata": {},
   "source": [
    "- Step 2"
   ]
  },
  {
   "cell_type": "code",
   "execution_count": 10,
   "metadata": {},
   "outputs": [
    {
     "data": {
      "text/plain": [
       "50"
      ]
     },
     "execution_count": 10,
     "metadata": {},
     "output_type": "execute_result"
    }
   ],
   "source": [
    "# 하나의 데이터 \n",
    "# trs = soup.select('tr.list')로 해도됨 \n",
    "lis = soup.select('tbody > .list')\n",
    "li = lis[10]\n",
    "len(lis)"
   ]
  },
  {
   "cell_type": "markdown",
   "metadata": {},
   "source": [
    "- Step 3"
   ]
  },
  {
   "cell_type": "code",
   "execution_count": 11,
   "metadata": {},
   "outputs": [
    {
     "data": {
      "text/plain": [
       "11"
      ]
     },
     "execution_count": 11,
     "metadata": {},
     "output_type": "execute_result"
    }
   ],
   "source": [
    "# 순위\n",
    "rank = int(li.select_one('.number').get_text().replace(' ', '').split('\\n')[0])\n",
    "# rank = int(li.select_one('.number').get_text().strip().split('\\n')[0]) 이것도됨 \n",
    "rank"
   ]
  },
  {
   "cell_type": "code",
   "execution_count": 12,
   "metadata": {},
   "outputs": [
    {
     "data": {
      "text/plain": [
       "'사막에서 꽃을 피우듯'"
      ]
     },
     "execution_count": 12,
     "metadata": {},
     "output_type": "execute_result"
    }
   ],
   "source": [
    "# 제목\n",
    "title = li.select_one('.title.ellipsis').get_text().strip()\n",
    "title"
   ]
  },
  {
   "cell_type": "code",
   "execution_count": 13,
   "metadata": {},
   "outputs": [
    {
     "data": {
      "text/plain": [
       "'우디 (Woody)'"
      ]
     },
     "execution_count": 13,
     "metadata": {},
     "output_type": "execute_result"
    }
   ],
   "source": [
    "# 뮤지션\n",
    "artist = li.select_one('.artist.ellipsis').get_text().strip()\n",
    "artist"
   ]
  },
  {
   "cell_type": "code",
   "execution_count": 14,
   "metadata": {},
   "outputs": [
    {
     "data": {
      "text/plain": [
       "'사막에서 꽃을 피우듯'"
      ]
     },
     "execution_count": 14,
     "metadata": {},
     "output_type": "execute_result"
    }
   ],
   "source": [
    "# 앨범\n",
    "album = li.select_one('.albumtitle.ellipsis').get_text().strip()\n",
    "album"
   ]
  },
  {
   "cell_type": "markdown",
   "metadata": {},
   "source": [
    "- Step 4"
   ]
  },
  {
   "cell_type": "code",
   "execution_count": 15,
   "metadata": {},
   "outputs": [],
   "source": [
    "data = []\n",
    "for li in lis:\n",
    "    rank = int(li.select_one('.number').get_text().replace(' ', '').split('\\n')[0])\n",
    "    title = li.select_one('.title.ellipsis').get_text().strip()\n",
    "    artist = li.select_one('.artist.ellipsis').get_text().strip()\n",
    "    album = li.select_one('.albumtitle.ellipsis').get_text().strip()\n",
    "    img = 'http:' + li.select_one('img')['src']\n",
    "    data.append({'순위':rank, '제목':title, '가수':artist, '앨범':album, '이미지':img})"
   ]
  },
  {
   "cell_type": "markdown",
   "metadata": {},
   "source": [
    "- Step 5 생략\n",
    "- Step 6"
   ]
  },
  {
   "cell_type": "code",
   "execution_count": 16,
   "metadata": {},
   "outputs": [
    {
     "name": "stderr",
     "output_type": "stream",
     "text": [
      " 25%|██▌       | 1/4 [00:00<00:01,  2.00it/s]"
     ]
    },
    {
     "name": "stderr",
     "output_type": "stream",
     "text": [
      "100%|██████████| 4/4 [00:01<00:00,  2.61it/s]\n"
     ]
    }
   ],
   "source": [
    "data = []\n",
    "\n",
    "for page in tqdm(range(1, 5)):\n",
    "    header = {'User-Agent' : 'Mozilla/5.0 (Windows NT 10.0; Win64; x64) AppleWebKit/537.36 (KHTML, like Gecko) Chrome/117.0.0.0 Safari/537.36'}\n",
    "    url = f'https://www.genie.co.kr/chart/top200?ditc=D&ymd={date}&hh={time}&rtm=Y&pg={page}'\n",
    "    res = requests.get(url, headers=header)\n",
    "    soup = BeautifulSoup(res.text, 'html.parser')\n",
    "    lis = soup.select('tbody > .list')\n",
    "    \n",
    "    for li in lis:\n",
    "        rank = int(li.select_one('.number').get_text().replace(' ', '').split('\\n')[0])\n",
    "        title = li.select_one('.title.ellipsis').get_text().strip()\n",
    "        artist = li.select_one('.artist.ellipsis').get_text().strip()\n",
    "        album = li.select_one('.albumtitle.ellipsis').get_text().strip()\n",
    "        img = 'http:' + li.select_one('img')['src']\n",
    "        data.append({'순위':rank, '제목':title, '가수':artist, '앨범':album, '이미지':img})\n"
   ]
  },
  {
   "cell_type": "markdown",
   "metadata": {},
   "source": [
    "- Step 7"
   ]
  },
  {
   "cell_type": "code",
   "execution_count": 17,
   "metadata": {},
   "outputs": [
    {
     "data": {
      "text/html": [
       "<div>\n",
       "<style scoped>\n",
       "    .dataframe tbody tr th:only-of-type {\n",
       "        vertical-align: middle;\n",
       "    }\n",
       "\n",
       "    .dataframe tbody tr th {\n",
       "        vertical-align: top;\n",
       "    }\n",
       "\n",
       "    .dataframe thead th {\n",
       "        text-align: right;\n",
       "    }\n",
       "</style>\n",
       "<table border=\"1\" class=\"dataframe\">\n",
       "  <thead>\n",
       "    <tr style=\"text-align: right;\">\n",
       "      <th></th>\n",
       "      <th>순위</th>\n",
       "      <th>제목</th>\n",
       "      <th>가수</th>\n",
       "      <th>앨범</th>\n",
       "      <th>이미지</th>\n",
       "    </tr>\n",
       "  </thead>\n",
       "  <tbody>\n",
       "    <tr>\n",
       "      <th>0</th>\n",
       "      <td>1</td>\n",
       "      <td>Love Lee</td>\n",
       "      <td>AKMU (악뮤)</td>\n",
       "      <td>Love Lee</td>\n",
       "      <td>http://image.genie.co.kr/Y/IMAGE/IMG_ALBUM/084...</td>\n",
       "    </tr>\n",
       "    <tr>\n",
       "      <th>1</th>\n",
       "      <td>2</td>\n",
       "      <td>Smoke (Prod. by Dynamicduo &amp; Padi)</td>\n",
       "      <td>다이나믹 듀오 &amp; 이영지</td>\n",
       "      <td>스트릿 우먼 파이터2 (SWF2) 계급미션</td>\n",
       "      <td>http://image.genie.co.kr/Y/IMAGE/IMG_ALBUM/084...</td>\n",
       "    </tr>\n",
       "    <tr>\n",
       "      <th>2</th>\n",
       "      <td>3</td>\n",
       "      <td>후라이의 꿈</td>\n",
       "      <td>AKMU (악뮤)</td>\n",
       "      <td>Love Lee</td>\n",
       "      <td>http://image.genie.co.kr/Y/IMAGE/IMG_ALBUM/084...</td>\n",
       "    </tr>\n",
       "    <tr>\n",
       "      <th>3</th>\n",
       "      <td>4</td>\n",
       "      <td>ETA</td>\n",
       "      <td>NewJeans</td>\n",
       "      <td>NewJeans 2nd EP 'Get Up'</td>\n",
       "      <td>http://image.genie.co.kr/Y/IMAGE/IMG_ALBUM/084...</td>\n",
       "    </tr>\n",
       "    <tr>\n",
       "      <th>4</th>\n",
       "      <td>5</td>\n",
       "      <td>Seven (Feat. Latto) (Clean Ver.)</td>\n",
       "      <td>정국</td>\n",
       "      <td>Seven (Clean Ver.)</td>\n",
       "      <td>http://image.genie.co.kr/Y/IMAGE/IMG_ALBUM/084...</td>\n",
       "    </tr>\n",
       "    <tr>\n",
       "      <th>...</th>\n",
       "      <td>...</td>\n",
       "      <td>...</td>\n",
       "      <td>...</td>\n",
       "      <td>...</td>\n",
       "      <td>...</td>\n",
       "    </tr>\n",
       "    <tr>\n",
       "      <th>195</th>\n",
       "      <td>196</td>\n",
       "      <td>I'm Not The Only One</td>\n",
       "      <td>Sam Smith</td>\n",
       "      <td>In The Lonely Hour (Standard Edition)</td>\n",
       "      <td>http://image.genie.co.kr/Y/IMAGE/IMG_ALBUM/080...</td>\n",
       "    </tr>\n",
       "    <tr>\n",
       "      <th>196</th>\n",
       "      <td>197</td>\n",
       "      <td>혼자라고 생각말기</td>\n",
       "      <td>임한별</td>\n",
       "      <td>혼자라고 생각말기</td>\n",
       "      <td>http://image.genie.co.kr/Y/IMAGE/IMG_ALBUM/083...</td>\n",
       "    </tr>\n",
       "    <tr>\n",
       "      <th>197</th>\n",
       "      <td>198</td>\n",
       "      <td>Way Back Home</td>\n",
       "      <td>숀 (SHAUN)</td>\n",
       "      <td>Take</td>\n",
       "      <td>http://image.genie.co.kr/Y/IMAGE/IMG_ALBUM/081...</td>\n",
       "    </tr>\n",
       "    <tr>\n",
       "      <th>198</th>\n",
       "      <td>199</td>\n",
       "      <td>Memories</td>\n",
       "      <td>RIIZE</td>\n",
       "      <td>Get A Guitar</td>\n",
       "      <td>http://image.genie.co.kr/Y/IMAGE/IMG_ALBUM/084...</td>\n",
       "    </tr>\n",
       "    <tr>\n",
       "      <th>199</th>\n",
       "      <td>200</td>\n",
       "      <td>사랑이라 쓰고 이별이라 읽어</td>\n",
       "      <td>송하예</td>\n",
       "      <td>사랑이라 쓰고 이별이라 읽어</td>\n",
       "      <td>http://image.genie.co.kr/Y/IMAGE/IMG_ALBUM/084...</td>\n",
       "    </tr>\n",
       "  </tbody>\n",
       "</table>\n",
       "<p>200 rows × 5 columns</p>\n",
       "</div>"
      ],
      "text/plain": [
       "      순위                                  제목             가수  \\\n",
       "0      1                            Love Lee      AKMU (악뮤)   \n",
       "1      2  Smoke (Prod. by Dynamicduo & Padi)  다이나믹 듀오 & 이영지   \n",
       "2      3                              후라이의 꿈      AKMU (악뮤)   \n",
       "3      4                                 ETA       NewJeans   \n",
       "4      5    Seven (Feat. Latto) (Clean Ver.)             정국   \n",
       "..   ...                                 ...            ...   \n",
       "195  196                I'm Not The Only One      Sam Smith   \n",
       "196  197                           혼자라고 생각말기            임한별   \n",
       "197  198                       Way Back Home      숀 (SHAUN)   \n",
       "198  199                            Memories          RIIZE   \n",
       "199  200                     사랑이라 쓰고 이별이라 읽어            송하예   \n",
       "\n",
       "                                        앨범  \\\n",
       "0                                 Love Lee   \n",
       "1                  스트릿 우먼 파이터2 (SWF2) 계급미션   \n",
       "2                                 Love Lee   \n",
       "3                 NewJeans 2nd EP 'Get Up'   \n",
       "4                       Seven (Clean Ver.)   \n",
       "..                                     ...   \n",
       "195  In The Lonely Hour (Standard Edition)   \n",
       "196                              혼자라고 생각말기   \n",
       "197                                   Take   \n",
       "198                           Get A Guitar   \n",
       "199                        사랑이라 쓰고 이별이라 읽어   \n",
       "\n",
       "                                                   이미지  \n",
       "0    http://image.genie.co.kr/Y/IMAGE/IMG_ALBUM/084...  \n",
       "1    http://image.genie.co.kr/Y/IMAGE/IMG_ALBUM/084...  \n",
       "2    http://image.genie.co.kr/Y/IMAGE/IMG_ALBUM/084...  \n",
       "3    http://image.genie.co.kr/Y/IMAGE/IMG_ALBUM/084...  \n",
       "4    http://image.genie.co.kr/Y/IMAGE/IMG_ALBUM/084...  \n",
       "..                                                 ...  \n",
       "195  http://image.genie.co.kr/Y/IMAGE/IMG_ALBUM/080...  \n",
       "196  http://image.genie.co.kr/Y/IMAGE/IMG_ALBUM/083...  \n",
       "197  http://image.genie.co.kr/Y/IMAGE/IMG_ALBUM/081...  \n",
       "198  http://image.genie.co.kr/Y/IMAGE/IMG_ALBUM/084...  \n",
       "199  http://image.genie.co.kr/Y/IMAGE/IMG_ALBUM/084...  \n",
       "\n",
       "[200 rows x 5 columns]"
      ]
     },
     "execution_count": 17,
     "metadata": {},
     "output_type": "execute_result"
    }
   ],
   "source": [
    "df = pd.DataFrame(data)\n",
    "df"
   ]
  },
  {
   "cell_type": "code",
   "execution_count": 18,
   "metadata": {},
   "outputs": [],
   "source": [
    "driver.close()"
   ]
  },
  {
   "cell_type": "code",
   "execution_count": 19,
   "metadata": {},
   "outputs": [
    {
     "name": "stdout",
     "output_type": "stream",
     "text": [
      "2023091910\n"
     ]
    }
   ],
   "source": [
    "print(date+time)"
   ]
  },
  {
   "cell_type": "code",
   "execution_count": 20,
   "metadata": {},
   "outputs": [
    {
     "data": {
      "text/plain": [
       "'2023091910.csv'"
      ]
     },
     "execution_count": 20,
     "metadata": {},
     "output_type": "execute_result"
    }
   ],
   "source": [
    "filename = date+time + '.csv'\n",
    "filename"
   ]
  },
  {
   "cell_type": "code",
   "execution_count": 21,
   "metadata": {},
   "outputs": [
    {
     "data": {
      "text/html": [
       "<div>\n",
       "<style scoped>\n",
       "    .dataframe tbody tr th:only-of-type {\n",
       "        vertical-align: middle;\n",
       "    }\n",
       "\n",
       "    .dataframe tbody tr th {\n",
       "        vertical-align: top;\n",
       "    }\n",
       "\n",
       "    .dataframe thead th {\n",
       "        text-align: right;\n",
       "    }\n",
       "</style>\n",
       "<table border=\"1\" class=\"dataframe\">\n",
       "  <thead>\n",
       "    <tr style=\"text-align: right;\">\n",
       "      <th></th>\n",
       "      <th>순위</th>\n",
       "      <th>제목</th>\n",
       "      <th>가수</th>\n",
       "      <th>앨범</th>\n",
       "      <th>이미지</th>\n",
       "    </tr>\n",
       "  </thead>\n",
       "  <tbody>\n",
       "    <tr>\n",
       "      <th>195</th>\n",
       "      <td>196</td>\n",
       "      <td>I'm Not The Only One</td>\n",
       "      <td>Sam Smith</td>\n",
       "      <td>In The Lonely Hour (Standard Edition)</td>\n",
       "      <td>http://image.genie.co.kr/Y/IMAGE/IMG_ALBUM/080...</td>\n",
       "    </tr>\n",
       "    <tr>\n",
       "      <th>196</th>\n",
       "      <td>197</td>\n",
       "      <td>혼자라고 생각말기</td>\n",
       "      <td>임한별</td>\n",
       "      <td>혼자라고 생각말기</td>\n",
       "      <td>http://image.genie.co.kr/Y/IMAGE/IMG_ALBUM/083...</td>\n",
       "    </tr>\n",
       "    <tr>\n",
       "      <th>197</th>\n",
       "      <td>198</td>\n",
       "      <td>Way Back Home</td>\n",
       "      <td>숀 (SHAUN)</td>\n",
       "      <td>Take</td>\n",
       "      <td>http://image.genie.co.kr/Y/IMAGE/IMG_ALBUM/081...</td>\n",
       "    </tr>\n",
       "    <tr>\n",
       "      <th>198</th>\n",
       "      <td>199</td>\n",
       "      <td>Memories</td>\n",
       "      <td>RIIZE</td>\n",
       "      <td>Get A Guitar</td>\n",
       "      <td>http://image.genie.co.kr/Y/IMAGE/IMG_ALBUM/084...</td>\n",
       "    </tr>\n",
       "    <tr>\n",
       "      <th>199</th>\n",
       "      <td>200</td>\n",
       "      <td>사랑이라 쓰고 이별이라 읽어</td>\n",
       "      <td>송하예</td>\n",
       "      <td>사랑이라 쓰고 이별이라 읽어</td>\n",
       "      <td>http://image.genie.co.kr/Y/IMAGE/IMG_ALBUM/084...</td>\n",
       "    </tr>\n",
       "  </tbody>\n",
       "</table>\n",
       "</div>"
      ],
      "text/plain": [
       "      순위                    제목         가수  \\\n",
       "195  196  I'm Not The Only One  Sam Smith   \n",
       "196  197             혼자라고 생각말기        임한별   \n",
       "197  198         Way Back Home  숀 (SHAUN)   \n",
       "198  199              Memories      RIIZE   \n",
       "199  200       사랑이라 쓰고 이별이라 읽어        송하예   \n",
       "\n",
       "                                        앨범  \\\n",
       "195  In The Lonely Hour (Standard Edition)   \n",
       "196                              혼자라고 생각말기   \n",
       "197                                   Take   \n",
       "198                           Get A Guitar   \n",
       "199                        사랑이라 쓰고 이별이라 읽어   \n",
       "\n",
       "                                                   이미지  \n",
       "195  http://image.genie.co.kr/Y/IMAGE/IMG_ALBUM/080...  \n",
       "196  http://image.genie.co.kr/Y/IMAGE/IMG_ALBUM/083...  \n",
       "197  http://image.genie.co.kr/Y/IMAGE/IMG_ALBUM/081...  \n",
       "198  http://image.genie.co.kr/Y/IMAGE/IMG_ALBUM/084...  \n",
       "199  http://image.genie.co.kr/Y/IMAGE/IMG_ALBUM/084...  "
      ]
     },
     "execution_count": 21,
     "metadata": {},
     "output_type": "execute_result"
    }
   ],
   "source": [
    "df.to_csv('data/지니차트_'+filename, index=False)\n",
    "pd.read_csv('data/지니차트_'+filename).tail()"
   ]
  },
  {
   "cell_type": "code",
   "execution_count": null,
   "metadata": {},
   "outputs": [],
   "source": []
  }
 ],
 "metadata": {
  "kernelspec": {
   "display_name": "base",
   "language": "python",
   "name": "python3"
  },
  "language_info": {
   "codemirror_mode": {
    "name": "ipython",
    "version": 3
   },
   "file_extension": ".py",
   "mimetype": "text/x-python",
   "name": "python",
   "nbconvert_exporter": "python",
   "pygments_lexer": "ipython3",
   "version": "3.11.4"
  },
  "orig_nbformat": 4
 },
 "nbformat": 4,
 "nbformat_minor": 2
}

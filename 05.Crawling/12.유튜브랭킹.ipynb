{
 "cells": [
  {
   "cell_type": "markdown",
   "metadata": {},
   "source": [
    "## YouTube Ranking"
   ]
  },
  {
   "cell_type": "code",
   "execution_count": 41,
   "metadata": {},
   "outputs": [],
   "source": [
    "import requests, time\n",
    "import pandas as pd\n",
    "from bs4 import BeautifulSoup\n",
    "from selenium import webdriver"
   ]
  },
  {
   "cell_type": "markdown",
   "metadata": {},
   "source": [
    "- Step 1, 2"
   ]
  },
  {
   "cell_type": "code",
   "execution_count": 42,
   "metadata": {},
   "outputs": [],
   "source": [
    "url = 'https://youtube-rank.com/board/bbs/board.php?bo_table=youtube&page=1'\n",
    "res = requests.get(url)\n",
    "soup = BeautifulSoup(res.text, 'html.parser')"
   ]
  },
  {
   "cell_type": "code",
   "execution_count": 43,
   "metadata": {},
   "outputs": [
    {
     "data": {
      "text/plain": [
       "0"
      ]
     },
     "execution_count": 43,
     "metadata": {},
     "output_type": "execute_result"
    }
   ],
   "source": [
    "trs = soup.select('tr.aos-init.aos-animate')\n",
    "len(trs)"
   ]
  },
  {
   "cell_type": "code",
   "execution_count": 44,
   "metadata": {},
   "outputs": [],
   "source": [
    "driver = webdriver.Chrome()\n",
    "driver.get(url)"
   ]
  },
  {
   "cell_type": "code",
   "execution_count": 45,
   "metadata": {},
   "outputs": [
    {
     "data": {
      "text/plain": [
       "100"
      ]
     },
     "execution_count": 45,
     "metadata": {},
     "output_type": "execute_result"
    }
   ],
   "source": [
    "soup = BeautifulSoup(driver.page_source, 'html.parser')\n",
    "trs = soup.select('tr.aos-init')\n",
    "len(trs)"
   ]
  },
  {
   "cell_type": "markdown",
   "metadata": {},
   "source": [
    "- Step 3"
   ]
  },
  {
   "cell_type": "code",
   "execution_count": 46,
   "metadata": {},
   "outputs": [
    {
     "data": {
      "text/plain": [
       "'1'"
      ]
     },
     "execution_count": 46,
     "metadata": {},
     "output_type": "execute_result"
    }
   ],
   "source": [
    "tr = trs[0]\n",
    "rank = tr.select_one('.rank').get_text().strip()\n",
    "rank"
   ]
  },
  {
   "cell_type": "code",
   "execution_count": 47,
   "metadata": {},
   "outputs": [
    {
     "data": {
      "text/plain": [
       "'음악/댄스/가수'"
      ]
     },
     "execution_count": 47,
     "metadata": {},
     "output_type": "execute_result"
    }
   ],
   "source": [
    "category = tr.select_one('.category').get_text().strip()[1:-1]\n",
    "category"
   ]
  },
  {
   "cell_type": "code",
   "execution_count": 48,
   "metadata": {},
   "outputs": [
    {
     "data": {
      "text/plain": [
       "'BLACKPINK'"
      ]
     },
     "execution_count": 48,
     "metadata": {},
     "output_type": "execute_result"
    }
   ],
   "source": [
    "channel = tr.select_one('.subject > h1 > a').get_text().strip()\n",
    "channel"
   ]
  },
  {
   "cell_type": "code",
   "execution_count": 49,
   "metadata": {},
   "outputs": [
    {
     "data": {
      "text/plain": [
       "'9130만'"
      ]
     },
     "execution_count": 49,
     "metadata": {},
     "output_type": "execute_result"
    }
   ],
   "source": [
    "subscriber = tr.select_one('.subscriber_cnt').get_text().strip()\n",
    "subscriber"
   ]
  },
  {
   "cell_type": "code",
   "execution_count": 50,
   "metadata": {},
   "outputs": [
    {
     "data": {
      "text/plain": [
       "('332억0683만', '567개')"
      ]
     },
     "execution_count": 50,
     "metadata": {},
     "output_type": "execute_result"
    }
   ],
   "source": [
    "view = tr.select_one('.view_cnt').get_text().strip()\n",
    "vidio = tr.select_one('.video_cnt').get_text().strip()\n",
    "view, vidio"
   ]
  },
  {
   "cell_type": "code",
   "execution_count": 75,
   "metadata": {},
   "outputs": [],
   "source": [
    "# 숫자로 바꿔주는 함수\n",
    "def convert(s):\n",
    "    s = s.replace('억', '').replace('개','').replace(',','').replace('만', '0000')\n",
    "    return int(s)\n",
    "    "
   ]
  },
  {
   "cell_type": "code",
   "execution_count": 71,
   "metadata": {},
   "outputs": [
    {
     "data": {
      "text/plain": [
       "33206830000"
      ]
     },
     "execution_count": 71,
     "metadata": {},
     "output_type": "execute_result"
    }
   ],
   "source": [
    "convert('332억0683만')"
   ]
  },
  {
   "cell_type": "markdown",
   "metadata": {},
   "source": [
    "- Step 4"
   ]
  },
  {
   "cell_type": "code",
   "execution_count": 72,
   "metadata": {},
   "outputs": [
    {
     "ename": "ValueError",
     "evalue": "invalid literal for int() with base 10: '2,330'",
     "output_type": "error",
     "traceback": [
      "\u001b[1;31m---------------------------------------------------------------------------\u001b[0m",
      "\u001b[1;31mValueError\u001b[0m                                Traceback (most recent call last)",
      "\u001b[1;32md:\\WorkSpace\\02.DataAnalysis\\05.Crawling\\12.유튜브랭킹.ipynb 셀 17\u001b[0m line \u001b[0;36m8\n\u001b[0;32m      <a href='vscode-notebook-cell:/d%3A/WorkSpace/02.DataAnalysis/05.Crawling/12.%EC%9C%A0%ED%8A%9C%EB%B8%8C%EB%9E%AD%ED%82%B9.ipynb#X23sZmlsZQ%3D%3D?line=5'>6</a>\u001b[0m subscriber \u001b[39m=\u001b[39m convert(tr\u001b[39m.\u001b[39mselect_one(\u001b[39m'\u001b[39m\u001b[39m.subscriber_cnt\u001b[39m\u001b[39m'\u001b[39m)\u001b[39m.\u001b[39mget_text()\u001b[39m.\u001b[39mstrip())\n\u001b[0;32m      <a href='vscode-notebook-cell:/d%3A/WorkSpace/02.DataAnalysis/05.Crawling/12.%EC%9C%A0%ED%8A%9C%EB%B8%8C%EB%9E%AD%ED%82%B9.ipynb#X23sZmlsZQ%3D%3D?line=6'>7</a>\u001b[0m view \u001b[39m=\u001b[39m convert(tr\u001b[39m.\u001b[39mselect_one(\u001b[39m'\u001b[39m\u001b[39m.view_cnt\u001b[39m\u001b[39m'\u001b[39m)\u001b[39m.\u001b[39mget_text()\u001b[39m.\u001b[39mstrip())\n\u001b[1;32m----> <a href='vscode-notebook-cell:/d%3A/WorkSpace/02.DataAnalysis/05.Crawling/12.%EC%9C%A0%ED%8A%9C%EB%B8%8C%EB%9E%AD%ED%82%B9.ipynb#X23sZmlsZQ%3D%3D?line=7'>8</a>\u001b[0m vidio \u001b[39m=\u001b[39m convert(tr\u001b[39m.\u001b[39mselect_one(\u001b[39m'\u001b[39m\u001b[39m.video_cnt\u001b[39m\u001b[39m'\u001b[39m)\u001b[39m.\u001b[39mget_text()\u001b[39m.\u001b[39mstrip())\n\u001b[0;32m      <a href='vscode-notebook-cell:/d%3A/WorkSpace/02.DataAnalysis/05.Crawling/12.%EC%9C%A0%ED%8A%9C%EB%B8%8C%EB%9E%AD%ED%82%B9.ipynb#X23sZmlsZQ%3D%3D?line=8'>9</a>\u001b[0m data\u001b[39m.\u001b[39mappend({\u001b[39m'\u001b[39m\u001b[39m순위\u001b[39m\u001b[39m'\u001b[39m:rank, \u001b[39m'\u001b[39m\u001b[39m채널명\u001b[39m\u001b[39m'\u001b[39m:channel, \u001b[39m'\u001b[39m\u001b[39m카테고리\u001b[39m\u001b[39m'\u001b[39m:category,\n\u001b[0;32m     <a href='vscode-notebook-cell:/d%3A/WorkSpace/02.DataAnalysis/05.Crawling/12.%EC%9C%A0%ED%8A%9C%EB%B8%8C%EB%9E%AD%ED%82%B9.ipynb#X23sZmlsZQ%3D%3D?line=9'>10</a>\u001b[0m              \u001b[39m'\u001b[39m\u001b[39m구독자수\u001b[39m\u001b[39m'\u001b[39m:subscriber, \u001b[39m'\u001b[39m\u001b[39m조회수\u001b[39m\u001b[39m'\u001b[39m:view, \u001b[39m'\u001b[39m\u001b[39m비디오수\u001b[39m\u001b[39m'\u001b[39m:vidio})\n",
      "\u001b[1;32md:\\WorkSpace\\02.DataAnalysis\\05.Crawling\\12.유튜브랭킹.ipynb 셀 17\u001b[0m line \u001b[0;36m4\n\u001b[0;32m      <a href='vscode-notebook-cell:/d%3A/WorkSpace/02.DataAnalysis/05.Crawling/12.%EC%9C%A0%ED%8A%9C%EB%B8%8C%EB%9E%AD%ED%82%B9.ipynb#X23sZmlsZQ%3D%3D?line=1'>2</a>\u001b[0m \u001b[39mdef\u001b[39;00m \u001b[39mconvert\u001b[39m(s):\n\u001b[0;32m      <a href='vscode-notebook-cell:/d%3A/WorkSpace/02.DataAnalysis/05.Crawling/12.%EC%9C%A0%ED%8A%9C%EB%B8%8C%EB%9E%AD%ED%82%B9.ipynb#X23sZmlsZQ%3D%3D?line=2'>3</a>\u001b[0m     s \u001b[39m=\u001b[39m s\u001b[39m.\u001b[39mreplace(\u001b[39m'\u001b[39m\u001b[39m억\u001b[39m\u001b[39m'\u001b[39m, \u001b[39m'\u001b[39m\u001b[39m'\u001b[39m)\u001b[39m.\u001b[39mreplace(\u001b[39m'\u001b[39m\u001b[39m개\u001b[39m\u001b[39m'\u001b[39m,\u001b[39m'\u001b[39m\u001b[39m'\u001b[39m)\u001b[39m.\u001b[39mreplace(\u001b[39m'\u001b[39m\u001b[39m만\u001b[39m\u001b[39m'\u001b[39m, \u001b[39m'\u001b[39m\u001b[39m0000\u001b[39m\u001b[39m'\u001b[39m)\n\u001b[1;32m----> <a href='vscode-notebook-cell:/d%3A/WorkSpace/02.DataAnalysis/05.Crawling/12.%EC%9C%A0%ED%8A%9C%EB%B8%8C%EB%9E%AD%ED%82%B9.ipynb#X23sZmlsZQ%3D%3D?line=3'>4</a>\u001b[0m     \u001b[39mreturn\u001b[39;00m \u001b[39mint\u001b[39m(s)\n",
      "\u001b[1;31mValueError\u001b[0m: invalid literal for int() with base 10: '2,330'"
     ]
    }
   ],
   "source": [
    "data = []\n",
    "for tr in trs:\n",
    "    rank = int(tr.select_one('.rank').get_text().strip())\n",
    "    category = tr.select_one('.category').get_text().strip()[1:-1]\n",
    "    channel = tr.select_one('.subject > h1 > a').get_text().strip()\n",
    "    subscriber = convert(tr.select_one('.subscriber_cnt').get_text().strip())\n",
    "    view = convert(tr.select_one('.view_cnt').get_text().strip())\n",
    "    vidio = convert(tr.select_one('.video_cnt').get_text().strip())\n",
    "    data.append({'순위':rank, '채널명':channel, '카테고리':category,\n",
    "                 '구독자수':subscriber, '조회수':view, '비디오수':vidio})"
   ]
  },
  {
   "cell_type": "markdown",
   "metadata": {},
   "source": [
    "- Step 5. 에러수정"
   ]
  },
  {
   "cell_type": "code",
   "execution_count": 73,
   "metadata": {},
   "outputs": [
    {
     "name": "stdout",
     "output_type": "stream",
     "text": [
      "2\n"
     ]
    }
   ],
   "source": [
    "try:\n",
    "    for index, tr in enumerate(trs):\n",
    "        rank = int(tr.select_one('.rank').get_text().strip())\n",
    "        category = tr.select_one('.category').get_text().strip()[1:-1]\n",
    "        channel = tr.select_one('.subject > h1 > a').get_text().strip()\n",
    "        subscriber = convert(tr.select_one('.subscriber_cnt').get_text().strip())\n",
    "        view = convert(tr.select_one('.view_cnt').get_text().strip())\n",
    "        vidio = convert(tr.select_one('.video_cnt').get_text().strip())\n",
    "except:\n",
    "    print(index + 1)                    # 순위가 출력되게\n",
    "\n",
    "# 결과값 : 2\n",
    "# vidio value값이 ,로 인해 정수변환이 안되어서 에러 났었음."
   ]
  },
  {
   "cell_type": "code",
   "execution_count": 76,
   "metadata": {},
   "outputs": [],
   "source": [
    "# vidio value값이 ,로 인해 정수변환이 안되어서 에러 났었음.\n",
    "# convert 함수에서 replace(',', '') 추가 후 실행시 에러 없음\n",
    "data = []\n",
    "for tr in trs:\n",
    "    rank = int(tr.select_one('.rank').get_text().strip())\n",
    "    category = tr.select_one('.category').get_text().strip()[1:-1]\n",
    "    channel = tr.select_one('.subject > h1 > a').get_text().strip()\n",
    "    subscriber = convert(tr.select_one('.subscriber_cnt').get_text().strip())\n",
    "    view = convert(tr.select_one('.view_cnt').get_text().strip())\n",
    "    vidio = convert(tr.select_one('.video_cnt').get_text().strip())\n",
    "    data.append({'순위':rank, '채널명':channel, '카테고리':category,\n",
    "                 '구독자수':subscriber, '조회수':view, '비디오수':vidio})"
   ]
  },
  {
   "cell_type": "markdown",
   "metadata": {},
   "source": [
    "- Step 6"
   ]
  },
  {
   "cell_type": "code",
   "execution_count": null,
   "metadata": {},
   "outputs": [],
   "source": [
    "data = []\n",
    "for page in range(1,11):\n",
    "    url = f'https://youtube-rank.com/board/bbs/board.php?bo_table=youtube&page={page}'\n",
    "    driver.get(url) \n",
    "    # requests.get() => HTML 데이터만 가져오면 됨\n",
    "    # selenium : HTML 데이터를 가져오고 브라우저에 화면에 표시해줘야함으로 바로 실행하면,\n",
    "    #      반복문에서 뺑뺑이 돌기때문에 실행되는 시간이 없어 에러남으로, time.sleep으로 시간텀을줌\n",
    "    time.sleep(2)\n",
    "    soup = BeautifulSoup(driver.page_source, 'html.parser')\n",
    "    trs = soup.select('tr.aos-init')\n",
    "\n",
    "    for tr in trs:\n",
    "        rank = int(tr.select_one('.rank').get_text().strip())\n",
    "        category = tr.select_one('.category').get_text().strip()[1:-1]\n",
    "        channel = tr.select_one('.subject > h1 > a').get_text().strip()\n",
    "        subscriber = convert(tr.select_one('.subscriber_cnt').get_text().strip())\n",
    "        view = convert(tr.select_one('.view_cnt').get_text().strip())\n",
    "        vidio = convert(tr.select_one('.video_cnt').get_text().strip())\n",
    "        data.append({'순위':rank, '채널명':channel, '카테고리':category,\n",
    "                    '구독자수':subscriber, '조회수':view, '비디오수':vidio})\n",
    "        \n",
    "driver.close()      # 반복문이 끝나면 브라우저 닫기까지!"
   ]
  }
 ],
 "metadata": {
  "kernelspec": {
   "display_name": "base",
   "language": "python",
   "name": "python3"
  },
  "language_info": {
   "codemirror_mode": {
    "name": "ipython",
    "version": 3
   },
   "file_extension": ".py",
   "mimetype": "text/x-python",
   "name": "python",
   "nbconvert_exporter": "python",
   "pygments_lexer": "ipython3",
   "version": "3.11.4"
  },
  "orig_nbformat": 4
 },
 "nbformat": 4,
 "nbformat_minor": 2
}

{
 "cells": [
  {
   "cell_type": "markdown",
   "metadata": {},
   "source": [
    "### member_dao를 이용한 Access"
   ]
  },
  {
   "cell_type": "code",
   "execution_count": 35,
   "metadata": {},
   "outputs": [],
   "source": [
    "import member_dao as mdao"
   ]
  },
  {
   "cell_type": "code",
   "execution_count": 36,
   "metadata": {},
   "outputs": [
    {
     "name": "stdout",
     "output_type": "stream",
     "text": [
      "(1, 'james', 25)\n",
      "(2, 'maria', 23)\n",
      "(3, 'tommy', 19)\n",
      "(4, 'emma', 27)\n",
      "(9, 'cha', 51)\n"
     ]
    }
   ],
   "source": [
    "results = mdao.get_menbers()\n",
    "for row in results:\n",
    "    print(row)"
   ]
  },
  {
   "cell_type": "code",
   "execution_count": 38,
   "metadata": {},
   "outputs": [
    {
     "ename": "OperationalError",
     "evalue": "near \"?\": syntax error",
     "output_type": "error",
     "traceback": [
      "\u001b[1;31m---------------------------------------------------------------------------\u001b[0m",
      "\u001b[1;31mOperationalError\u001b[0m                          Traceback (most recent call last)",
      "\u001b[1;32md:\\WorkSpace\\02.DataAnalysis\\09.SQLite3\\02.DBAccess.ipynb 셀 4\u001b[0m line \u001b[0;36m2\n\u001b[0;32m      <a href='vscode-notebook-cell:/d%3A/WorkSpace/02.DataAnalysis/09.SQLite3/02.DBAccess.ipynb#W3sZmlsZQ%3D%3D?line=0'>1</a>\u001b[0m params \u001b[39m=\u001b[39m (\u001b[39m'\u001b[39m\u001b[39m박연진\u001b[39m\u001b[39m'\u001b[39m, \u001b[39m35\u001b[39m)\n\u001b[1;32m----> <a href='vscode-notebook-cell:/d%3A/WorkSpace/02.DataAnalysis/09.SQLite3/02.DBAccess.ipynb#W3sZmlsZQ%3D%3D?line=1'>2</a>\u001b[0m mdao\u001b[39m.\u001b[39minsert_member(params)\n\u001b[0;32m      <a href='vscode-notebook-cell:/d%3A/WorkSpace/02.DataAnalysis/09.SQLite3/02.DBAccess.ipynb#W3sZmlsZQ%3D%3D?line=2'>3</a>\u001b[0m result \u001b[39m=\u001b[39m mdao\u001b[39m.\u001b[39mget_member_by_mid(\u001b[39m10\u001b[39m)\n\u001b[0;32m      <a href='vscode-notebook-cell:/d%3A/WorkSpace/02.DataAnalysis/09.SQLite3/02.DBAccess.ipynb#W3sZmlsZQ%3D%3D?line=3'>4</a>\u001b[0m \u001b[39mprint\u001b[39m(result)\n",
      "File \u001b[1;32md:\\WorkSpace\\02.DataAnalysis\\09.SQLite3\\member_dao.py:54\u001b[0m, in \u001b[0;36minsert_member\u001b[1;34m(params)\u001b[0m\n\u001b[0;32m     51\u001b[0m cur \u001b[39m=\u001b[39m conn\u001b[39m.\u001b[39mcursor()\n\u001b[0;32m     53\u001b[0m sql \u001b[39m=\u001b[39m \u001b[39m'\u001b[39m\u001b[39minsert into member(name, age) values (?, ?) ?\u001b[39m\u001b[39m'\u001b[39m\n\u001b[1;32m---> 54\u001b[0m cur\u001b[39m.\u001b[39mexecute(sql, params)              \u001b[39m# 파라메타는 반드시 튜플로 전달해야 함 : (age, )\u001b[39;00m\n\u001b[0;32m     55\u001b[0m conn\u001b[39m.\u001b[39mcommit\n\u001b[0;32m     57\u001b[0m cur\u001b[39m.\u001b[39mclose()\n",
      "\u001b[1;31mOperationalError\u001b[0m: near \"?\": syntax error"
     ]
    }
   ],
   "source": [
    "params = ('박연진', 35)\n",
    "mdao.insert_member(params)\n",
    "result = mdao.get_member_by_mid(10)\n",
    "print(result)"
   ]
  },
  {
   "cell_type": "code",
   "execution_count": 15,
   "metadata": {},
   "outputs": [
    {
     "name": "stdout",
     "output_type": "stream",
     "text": [
      "None\n"
     ]
    }
   ],
   "source": [
    "params = ('park', 35, 6)\n",
    "mdao.update_member(params)\n",
    "result = mdao.get_member_by_mid(6)\n",
    "print(result)"
   ]
  },
  {
   "cell_type": "code",
   "execution_count": null,
   "metadata": {},
   "outputs": [],
   "source": [
    "mdao.delete_member(6)\n",
    "results = mdao.get_menbers"
   ]
  }
 ],
 "metadata": {
  "kernelspec": {
   "display_name": "base",
   "language": "python",
   "name": "python3"
  },
  "language_info": {
   "codemirror_mode": {
    "name": "ipython",
    "version": 3
   },
   "file_extension": ".py",
   "mimetype": "text/x-python",
   "name": "python",
   "nbconvert_exporter": "python",
   "pygments_lexer": "ipython3",
   "version": "3.11.4"
  },
  "orig_nbformat": 4
 },
 "nbformat": 4,
 "nbformat_minor": 2
}

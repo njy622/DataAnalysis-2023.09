{
 "cells": [
  {
   "cell_type": "markdown",
   "metadata": {},
   "source": [
    "# SQLite3 활용"
   ]
  },
  {
   "cell_type": "code",
   "execution_count": 1,
   "metadata": {},
   "outputs": [],
   "source": [
    "import sqlite3 as sq"
   ]
  },
  {
   "cell_type": "markdown",
   "metadata": {},
   "source": [
    "- DB에 접속해서 데이터 읽기"
   ]
  },
  {
   "cell_type": "code",
   "execution_count": 16,
   "metadata": {},
   "outputs": [],
   "source": [
    "# member table에 있는 데이터 모두 읽기\n",
    "conn = sq.connect('test.db')\n",
    "cur = conn.cursor()\n",
    "\n",
    "sql = 'select * from member'\n",
    "cur.execute(sql)\n",
    "rows = cur.fetchall()       # 결과 받을땐 이렇게!\n",
    "\n",
    "cur.close()                 # 다했으면 꼭 닫아주기!\n",
    "conn.close()"
   ]
  },
  {
   "cell_type": "code",
   "execution_count": 17,
   "metadata": {},
   "outputs": [
    {
     "name": "stdout",
     "output_type": "stream",
     "text": [
      "(1, 'james', 25)\n",
      "(2, 'maria', 23)\n",
      "(3, 'tommy', 19)\n",
      "(4, 'emma', 27)\n"
     ]
    }
   ],
   "source": [
    "for row in rows:\n",
    "    print(row)"
   ]
  },
  {
   "cell_type": "code",
   "execution_count": 18,
   "metadata": {},
   "outputs": [
    {
     "name": "stdout",
     "output_type": "stream",
     "text": [
      "(2, 'maria', 23)\n",
      "(3, 'tommy', 19)\n"
     ]
    }
   ],
   "source": [
    "# 24세 미만 member 가져오기\n",
    "# member table에 있는 데이터 모두 읽기\n",
    "conn = sq.connect('test.db')\n",
    "cur = conn.cursor()\n",
    "\n",
    "sql = 'select * from member where age <24'\n",
    "cur.execute(sql)\n",
    "rows = cur.fetchall()       # 결과 받을땐 이렇게!\n",
    "\n",
    "cur.close()                 # 다했으면 꼭 닫아주기!\n",
    "conn.close()\n",
    "\n",
    "for row in rows:\n",
    "    print(row)"
   ]
  },
  {
   "cell_type": "code",
   "execution_count": 19,
   "metadata": {},
   "outputs": [],
   "source": [
    "# ? 세 미만의 member 가져오는 함수\n",
    "def get_members_under_age(age):\n",
    "    conn = sq.connect('test.db')\n",
    "    cur = conn.cursor()\n",
    "\n",
    "    sql = 'select * from member where age < ?'\n",
    "    cur.execute(sql, (age, ))              # 파라메타는 반드시 튜플로 전달해야 함 : (age, )"
   ]
  },
  {
   "cell_type": "code",
   "execution_count": null,
   "metadata": {},
   "outputs": [],
   "source": []
  }
 ],
 "metadata": {
  "kernelspec": {
   "display_name": "base",
   "language": "python",
   "name": "python3"
  },
  "language_info": {
   "codemirror_mode": {
    "name": "ipython",
    "version": 3
   },
   "file_extension": ".py",
   "mimetype": "text/x-python",
   "name": "python",
   "nbconvert_exporter": "python",
   "pygments_lexer": "ipython3",
   "version": "3.11.4"
  },
  "orig_nbformat": 4
 },
 "nbformat": 4,
 "nbformat_minor": 2
}

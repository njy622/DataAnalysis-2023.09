{
 "cells": [
  {
   "cell_type": "markdown",
   "metadata": {},
   "source": [
    "## Kakao Top 300"
   ]
  },
  {
   "cell_type": "markdown",
   "metadata": {},
   "source": [
    "![Alt text](image-6.png)"
   ]
  },
  {
   "cell_type": "code",
   "execution_count": 1,
   "metadata": {},
   "outputs": [],
   "source": [
    "import requests\n",
    "import pandas as pd\n",
    "from bs4 import BeautifulSoup\n",
    "from tqdm import tqdm\n",
    "from urllib.parse import quote "
   ]
  },
  {
   "cell_type": "code",
   "execution_count": 29,
   "metadata": {},
   "outputs": [
    {
     "data": {
      "text/plain": [
       "'60907554'"
      ]
     },
     "execution_count": 29,
     "metadata": {},
     "output_type": "execute_result"
    }
   ],
   "source": [
    "# 상세 페이지 코드 가져오기\n",
    "sub = soup.select_one('.w-full.overflow-hidden > div > div > div > a')['href'].split('/')[2]\n",
    "sub"
   ]
  },
  {
   "cell_type": "markdown",
   "metadata": {},
   "source": [
    "- Step 1"
   ]
  },
  {
   "cell_type": "code",
   "execution_count": 70,
   "metadata": {},
   "outputs": [
    {
     "data": {
      "text/plain": [
       "'<!DOCTYPE html><html lang=\"ko\"><head><meta charSet=\"utf-8\"/><meta name=\"viewport\" content=\"width=device-width, initial-scale=1, minimum-scale=1.0, maximum-scale=1.0, shrink-to-fit=no\" class=\"jsx-2162600654\"/><title>웹툰 - 실시간 랭킹 | 카카오페이지</title><script type=\"application/ld+json\">{\"@context\":\"http://schema.org\",\"@type\":\"Organization\",\"name\":\"카카오페이지\",\"url\":\"https://page.kakao.com\",\"sameAs\":[\"https://www.instagram.com/kakaopage/\",\"https://www.facebook.com/page.kakao\",\"https://www.youtube.com/@kakaopa'"
      ]
     },
     "execution_count": 70,
     "metadata": {},
     "output_type": "execute_result"
    }
   ],
   "source": [
    "base_url = 'https://page.kakao.com/'\n",
    "chart_url = 'menu/10010/screen/93'\n",
    "detail_url = 'content/'\n",
    "url = f'{base_url}{chart_url}'\n",
    "url2 = f'{base_url}{detail_url}{sub}'\n",
    "header = {'User-Agent' : 'Mozilla/5.0 (Windows NT 10.0; Win64; x64) AppleWebKit/537.36 (KHTML, like Gecko) Chrome/117.0.0.0 Safari/537.36'}\n",
    "res = requests.get(url, headers=header)\n",
    "res2 = requests.get(url2, headers=header)\n",
    "res.text[:500]\n"
   ]
  },
  {
   "cell_type": "markdown",
   "metadata": {},
   "source": [
    "- 원리\n",
    "    - html : BeautifulSoup (정적)\n",
    "    - selenium (동적)  -> JS도 읽음"
   ]
  },
  {
   "cell_type": "code",
   "execution_count": 48,
   "metadata": {},
   "outputs": [
    {
     "data": {
      "text/plain": [
       "'231003 16:00 기준'"
      ]
     },
     "execution_count": 48,
     "metadata": {},
     "output_type": "execute_result"
    }
   ],
   "source": [
    "# 크롬을 사용하여 불러오면 현재 지니에 적용된 시간(자바스크립트 데이터)을 불러올 수 있음\n",
    "res = requests.get(url)\n",
    "res2 = requests.get(url2)\n",
    "soup = BeautifulSoup(res.text, 'html.parser')\n",
    "soup2 = BeautifulSoup(res2.text, 'html.parser')\n",
    "date = soup.select_one('.font-small2.text-el-40').get_text().strip().replace('.', '')\n",
    "date"
   ]
  },
  {
   "cell_type": "code",
   "execution_count": 49,
   "metadata": {},
   "outputs": [
    {
     "data": {
      "text/plain": [
       "<div class=\"w-full overflow-hidden pt-24pxr\"><div class=\"grid grid-cols-3 grid-inner-border-cols3\" style=\"width:calc(100% + 0px)\"><div style=\"border-color:transparent;border-width:0\"><a href=\"/mynews\"><div class=\"flex-col relative flex items-center justify-center mb-24pxr h-48pxr w-76pxr cursor-pointer\"><div class=\"relative\"><img alt=\"아이콘\" aria-hidden=\"true\" class=\"pointer-events-none\" data-nimg=\"future\" decoding=\"async\" height=\"24\" src=\"data:image/svg+xml,%3csvg width='24' height='24' viewBox='0 0 24 24' fill='none' xmlns='http://www.w3.org/2000/svg'%3e %3cpath fill-rule='evenodd' clip-rule='evenodd' d='M12.0001 1C7.30567 1 3.50009 4.80558 3.50009 9.5V15L1.95634 17.47C1.54006 18.136 2.0189 19 2.80433 19H21.1959C21.9814 19 22.4602 18.136 22.0439 17.47L20.5001 15V9.5C20.5001 4.80558 16.6945 1 12.0001 1ZM12 2.5C8.13405 2.5 5.00004 5.63401 5.00004 9.5V15L3.50004 17.5H20.5L19 15V9.5C19 5.63401 15.866 2.5 12 2.5Z' fill='%23222222'/%3e %3cpath d='M12.0001 23.5C9.76133 23.5 7.86618 22.0286 7.22905 20H8.83696C9.39869 21.1825 10.6039 22 12.0001 22C13.3963 22 14.6016 21.1825 15.1633 20H16.7712C16.1341 22.0286 14.239 23.5 12.0001 23.5Z' fill='%23222222'/%3e %3c/svg%3e\" style=\"color:transparent\" width=\"24\"/></div><div class=\"relative\"><span class=\"font-small2 block text-el-50 mt-8pxr\">알림</span></div></div></a></div><div style=\"border-color:transparent;border-width:0\"><a><div class=\"flex-col relative flex items-center justify-center mb-24pxr h-48pxr w-76pxr cursor-pointer\"><div class=\"relative\"><img alt=\"아이콘\" aria-hidden=\"true\" class=\"pointer-events-none\" data-nimg=\"future\" decoding=\"async\" height=\"24\" src=\"data:image/svg+xml,%3csvg width='24' height='24' viewBox='0 0 24 24' fill='none' xmlns='http://www.w3.org/2000/svg'%3e %3cg clip-path='url(%23clip0_1355_11362)'%3e %3cpath d='M8.75 10C8.75 8.22533 10.237 6.75 12.1171 6.75C12.9864 6.75 13.7745 7.06687 14.3698 7.58448C14.7127 7.88269 14.9905 8.24663 15.1828 8.65369L16.5391 8.01298C16.256 7.41374 15.8499 6.88373 15.354 6.45257C14.4925 5.70341 13.3569 5.25 12.1171 5.25C9.44964 5.25 7.25 7.35639 7.25 10C7.25 12.6436 9.44964 14.75 12.1171 14.75C13.551 14.75 14.845 14.1436 15.7375 13.1748C16.1573 12.7192 16.4892 12.1824 16.7048 11.5897L15.2952 11.0769C15.1493 11.4779 14.9234 11.8447 14.6343 12.1585C14.0191 12.8264 13.122 13.25 12.1171 13.25C10.237 13.25 8.75 11.7747 8.75 10Z' fill='%23222222'/%3e %3cpath fill-rule='evenodd' clip-rule='evenodd' d='M4.04726 2.04826C4.3967 1.40241 5.07197 1 5.80629 1H18.1974C18.9318 1 19.607 1.40241 19.9565 2.04826L23.7608 9.07948C24.1655 9.82758 24.0529 10.7498 23.4799 11.3785L13.48 22.3498C12.6867 23.2202 11.317 23.2202 10.5237 22.3498L0.523844 11.3785C-0.0491281 10.7498 -0.16181 9.82758 0.242953 9.07948L4.04726 2.04826ZM5.80629 2.5H18.1974C18.381 2.5 18.5498 2.6006 18.6372 2.76207L22.4415 9.79329C22.5427 9.98031 22.5145 10.2109 22.3713 10.368L12.3714 21.3394C12.1731 21.557 11.8306 21.557 11.6323 21.3394L1.63245 10.368C1.48921 10.2109 1.46104 9.98031 1.56223 9.79329L5.36653 2.76206C5.45389 2.6006 5.62271 2.5 5.80629 2.5Z' fill='%23222222'/%3e %3c/g%3e %3cdefs%3e %3cclipPath id='clip0_1355_11362'%3e %3crect width='24' height='24' fill='white'/%3e %3c/clipPath%3e %3c/defs%3e %3c/svg%3e\" style=\"color:transparent\" width=\"24\"/></div><div class=\"relative\"><span class=\"font-small2 block text-el-50 mt-8pxr\">캐시 PASS VIP</span></div></div></a></div><div style=\"border-color:transparent;border-width:0\"><a href=\"/history/cash\"><div class=\"flex-col relative flex items-center justify-center mb-24pxr h-48pxr w-76pxr cursor-pointer\"><div class=\"relative\"><img alt=\"아이콘\" aria-hidden=\"true\" class=\"pointer-events-none\" data-nimg=\"future\" decoding=\"async\" height=\"24\" src=\"data:image/svg+xml,%3csvg width='24' height='24' viewBox='0 0 24 24' fill='none' xmlns='http://www.w3.org/2000/svg'%3e %3cpath d='M8.75 12C8.75 10.2253 10.237 8.75 12.1171 8.75C12.9864 8.75 13.7745 9.06687 14.3698 9.58448C14.7127 9.88269 14.9905 10.2466 15.1828 10.6537L16.5391 10.013C16.256 9.41374 15.8499 8.88373 15.354 8.45257C14.4925 7.70341 13.3569 7.25 12.1171 7.25C9.44964 7.25 7.25 9.35639 7.25 12C7.25 14.6436 9.44964 16.75 12.1171 16.75C13.551 16.75 14.845 16.1436 15.7375 15.1748C16.1573 14.7192 16.4892 14.1824 16.7048 13.5897L15.2952 13.0769C15.1493 13.4779 14.9234 13.8447 14.6343 14.1585C14.0191 14.8264 13.122 15.25 12.1171 15.25C10.237 15.25 8.75 13.7747 8.75 12Z' fill='%23222222'/%3e %3cpath fill-rule='evenodd' clip-rule='evenodd' d='M12 1C18.0751 1 23 5.92487 23 12C23 18.0751 18.0751 23 12 23C5.92487 23 1 18.0751 1 12C1 5.92487 5.92487 1 12 1ZM12 2.5C17.2467 2.5 21.5 6.75329 21.5 12C21.5 17.2467 17.2467 21.5 12 21.5C6.75329 21.5 2.5 17.2467 2.5 12C2.5 6.75329 6.75329 2.5 12 2.5Z' fill='%23222222'/%3e %3c/svg%3e\" style=\"color:transparent\" width=\"24\"/></div><div class=\"relative\"><span class=\"font-small2 block text-el-50 mt-8pxr\">캐시 내역</span></div></div></a></div><div style=\"border-color:transparent;border-width:0\"><a href=\"/history/ticket\"><div class=\"flex-col relative flex items-center justify-center mb-24pxr h-48pxr w-76pxr cursor-pointer\"><div class=\"relative\"><img alt=\"아이콘\" aria-hidden=\"true\" class=\"pointer-events-none\" data-nimg=\"future\" decoding=\"async\" height=\"24\" src=\"data:image/svg+xml,%3csvg width='24' height='24' viewBox='0 0 24 24' fill='none' xmlns='http://www.w3.org/2000/svg'%3e %3cpath d='M15 12.5H6V11H15V12.5Z' fill='%23222222'/%3e %3cpath d='M12 16.25H6V14.75H12V16.25Z' fill='%23222222'/%3e %3cpath fill-rule='evenodd' clip-rule='evenodd' d='M19 21V19H20C21.1046 19 22 18.1046 22 17V3C22 1.89543 21.1046 1 20 1H8C6.89543 1 6 1.89543 6 3V4H4C2.89543 4 2 4.89543 2 6V21C2 22.1046 2.89543 23 4 23H17C18.1046 23 19 22.1046 19 21ZM8 2.5H20C20.2761 2.5 20.5 2.72386 20.5 3V17C20.5 17.2761 20.2761 17.5 20 17.5H19V6C19 4.89543 18.1046 4 17 4H7.5V3C7.5 2.72386 7.72386 2.5 8 2.5ZM17 5.5H4C3.72386 5.5 3.5 5.72386 3.5 6V21C3.5 21.2761 3.72386 21.5 4 21.5H17C17.2761 21.5 17.5 21.2761 17.5 21V6C17.5 5.72386 17.2761 5.5 17 5.5Z' fill='%23222222'/%3e %3c/svg%3e\" style=\"color:transparent\" width=\"24\"/></div><div class=\"relative\"><span class=\"font-small2 block text-el-50 mt-8pxr\">이용권 내역</span></div></div></a></div><div style=\"border-color:transparent;border-width:0\"><a href=\"/comment/my\"><div class=\"flex-col relative flex items-center justify-center mb-24pxr h-48pxr w-76pxr cursor-pointer\"><div class=\"relative\"><img alt=\"아이콘\" aria-hidden=\"true\" class=\"pointer-events-none\" data-nimg=\"future\" decoding=\"async\" height=\"24\" src=\"data:image/svg+xml,%3csvg width='24' height='24' viewBox='0 0 24 24' fill='none' xmlns='http://www.w3.org/2000/svg'%3e %3cpath d='M17 9.5H7V8H17V9.5Z' fill='%23222222'/%3e %3cpath d='M13 13.25H7V11.75H13V13.25Z' fill='%23222222'/%3e %3cpath fill-rule='evenodd' clip-rule='evenodd' d='M12 20.1717C18.0752 20.1717 23 15.88 23 10.5859C23 5.29173 18.0752 1 12 1C5.92488 1 1 5.29173 1 10.5859C1 13.5626 2.55699 16.2224 5 17.9806V21.9989C5 22.7656 5.82713 23.2471 6.49377 22.8685L11.2789 20.1514C11.5173 20.1649 11.7577 20.1717 12 20.1717ZM6.5 17.2121L5.87621 16.7631C3.76582 15.2443 2.5 13.0116 2.5 10.5859C2.5 6.30736 6.55281 2.5 12 2.5C17.4472 2.5 21.5 6.30736 21.5 10.5859C21.5 14.8644 17.4472 18.6717 12 18.6717C11.7859 18.6717 11.5736 18.6657 11.3634 18.6538L10.9224 18.629L6.5 21.14V17.2121Z' fill='%23222222'/%3e %3c/svg%3e\" style=\"color:transparent\" width=\"24\"/></div><div class=\"relative\"><span class=\"font-small2 block text-el-50 mt-8pxr\">댓글 내역</span></div></div></a></div><div style=\"border-color:transparent;border-width:0\"><a href=\"/policy?type=notice\"><div class=\"flex-col relative flex items-center justify-center mb-24pxr h-48pxr w-76pxr cursor-pointer\"><div class=\"relative\"><img alt=\"아이콘\" aria-hidden=\"true\" class=\"pointer-events-none\" data-nimg=\"future\" decoding=\"async\" height=\"24\" src=\"data:image/svg+xml,%3csvg width='24' height='24' viewBox='0 0 24 24' fill='none' xmlns='http://www.w3.org/2000/svg'%3e %3cpath fill-rule='evenodd' clip-rule='evenodd' d='M12.7857 18.0742L20.4506 20.2642C21.7282 20.6292 23 19.6699 23 18.3412V4.00122C23 2.67246 21.7282 1.71313 20.4506 2.07817L6.50027 6.06396H3C1.89543 6.06396 1 6.95939 1 8.06396V14.2783C1 15.3828 1.89543 16.2783 3 16.2783H6.5V19.8541C6.5 21.5898 7.9071 22.9969 9.64286 22.9969C11.3786 22.9969 12.7857 21.5898 12.7857 19.8541V18.0742ZM9.61937 15.6096L8 15.1469V7.1955L20.8626 3.52046C21.182 3.4292 21.5 3.66903 21.5 4.00122V18.3412C21.5 18.6733 21.182 18.9132 20.8626 18.8219L12.7857 16.5142V16.5099L9.61937 15.6096ZM9.20856 17.0522L11.2857 17.6457V19.8541C11.2857 20.7614 10.5502 21.4969 9.64286 21.4969C8.73553 21.4969 8 20.7614 8 19.8541V16.7085L9.20856 17.0522ZM6.5 14.7783V7.56396H3C2.72386 7.56396 2.5 7.78782 2.5 8.06396V14.2783C2.5 14.5544 2.72386 14.7783 3 14.7783H6.5Z' fill='%23222222'/%3e %3c/svg%3e\" style=\"color:transparent\" width=\"24\"/></div><div class=\"relative\"><span class=\"font-small2 block text-el-50 mt-8pxr\">공지사항</span></div></div></a></div><div style=\"border-color:transparent;border-width:0\"><a href=\"/support\"><div class=\"flex-col relative flex items-center justify-center mb-24pxr h-48pxr w-76pxr cursor-pointer\"><div class=\"relative\"><img alt=\"아이콘\" aria-hidden=\"true\" class=\"pointer-events-none\" data-nimg=\"future\" decoding=\"async\" height=\"24\" src=\"data:image/svg+xml,%3csvg width='24' height='24' viewBox='0 0 24 24' fill='none' xmlns='http://www.w3.org/2000/svg'%3e %3cpath fill-rule='evenodd' clip-rule='evenodd' d='M1.5 16.1257C1.5 17.6445 2.73121 18.8757 4.25 18.8757H6.50407C8.02285 18.8757 9.25407 17.6445 9.25407 16.1257V12.75C9.25407 11.2312 8.02285 10 6.50407 10H4.25C3.80079 10 3.37674 10.1077 3.00226 10.2987C3.11049 5.47313 7.09969 1.50195 11.999 1.50195C16.8979 1.50195 20.8869 5.47251 20.9957 10.2976C20.6218 10.1073 20.1985 10 19.7502 10H17.4961C15.9773 10 14.7461 11.2312 14.7461 12.75V16.1257C14.7461 17.6445 15.9773 18.8757 17.4961 18.8757H19.7502C19.7864 18.8757 19.8225 18.875 19.8585 18.8736C19.4638 19.4857 18.9777 20.0199 18.4183 20.4767C16.8169 21.7842 14.5597 22.4981 11.9991 22.4981V23.9981C14.8227 23.9981 17.44 23.2119 19.367 21.6386C20.6452 20.5949 21.596 19.2231 22.0974 17.5592C22.3529 17.1418 22.5002 16.651 22.5002 16.1257V12.75C22.5002 12.7136 22.4995 12.6773 22.498 12.6412L22.498 10.5C22.498 4.76113 17.8002 0.00195312 11.999 0.00195312C6.19781 0.00195312 1.5 4.76113 1.5 10.5V16.1257ZM3 12.75C3 12.0596 3.55964 11.5 4.25 11.5H6.50407C7.19442 11.5 7.75407 12.0596 7.75407 12.75V16.1257C7.75407 16.8161 7.19442 17.3757 6.50407 17.3757H4.25C3.55964 17.3757 3 16.8161 3 16.1257V12.75ZM20.998 12.6755L20.998 14.725C20.998 15.5142 20.9022 16.2428 20.7227 16.9111C20.4936 17.1945 20.143 17.3757 19.7502 17.3757H17.4961C16.8057 17.3757 16.2461 16.8161 16.2461 16.1257V12.75C16.2461 12.0596 16.8057 11.5 17.4961 11.5H19.7502C20.4155 11.5 20.9594 12.0198 20.998 12.6755Z' fill='%23222222'/%3e %3c/svg%3e\" style=\"color:transparent\" width=\"24\"/></div><div class=\"relative\"><span class=\"font-small2 block text-el-50 mt-8pxr\">고객센터</span></div></div></a></div><div style=\"border-color:transparent;border-width:0\"><a href=\"/redeem\"><div class=\"flex-col relative flex items-center justify-center mb-24pxr h-48pxr w-76pxr cursor-pointer\"><div class=\"relative\"><img alt=\"아이콘\" aria-hidden=\"true\" class=\"pointer-events-none\" data-nimg=\"future\" decoding=\"async\" height=\"24\" src=\"data:image/svg+xml,%3csvg width='24' height='24' viewBox='0 0 24 24' fill='none' xmlns='http://www.w3.org/2000/svg'%3e %3cpath d='M15.5 6.5H17V17.5H15.5V6.5Z' fill='%23222222'/%3e %3cpath fill-rule='evenodd' clip-rule='evenodd' d='M20.5066 11.8468C20.5339 11.5333 20.6439 11.2429 20.8149 10.9982C21.1313 10.5458 21.6561 10.25 22.25 10.25C22.4233 10.25 22.5829 10.1912 22.71 10.0926C22.8867 9.95534 23.0004 9.74094 23.0004 9.5V5.75391C23.0004 4.23512 21.7692 3.00391 20.2504 3.00391H3.75C2.23122 3.00391 1 4.23512 1 5.7539V9.5C1 9.74086 1.11354 9.95521 1.29002 10.0924C1.41704 10.1912 1.57665 10.25 1.75 10.25C2.34392 10.25 2.86874 10.5459 3.18511 10.9983C3.38357 11.282 3.5 11.6274 3.5 12C3.5 12.3726 3.38357 12.718 3.18511 13.0017C2.86874 13.4541 2.34392 13.75 1.75 13.75C1.57665 13.75 1.41704 13.8088 1.29002 13.9076C1.11354 14.0448 1 14.2591 1 14.5V18.2533C1 19.7721 2.23122 21.0033 3.75 21.0033H20.2504C21.7692 21.0033 23.0004 19.7721 23.0004 18.2533V14.5C23.0004 14.2591 22.8869 14.0448 22.7104 13.9075C22.5834 13.8088 22.4238 13.75 22.2504 13.75C21.5625 13.75 20.967 13.353 20.6809 12.7756C20.5909 12.5938 20.5316 12.3943 20.5096 12.1838C20.5032 12.1234 20.5 12.0621 20.5 12C20.5 11.9484 20.5022 11.8973 20.5066 11.8468ZM2.5 5.7539C2.5 5.06355 3.05964 4.50391 3.75 4.50391H20.2504C20.9408 4.50391 21.5004 5.06355 21.5004 5.75391V8.83686C20.0669 9.17528 19 10.4631 19 12C19 12.2244 19.0227 12.4435 19.0661 12.6551C19.3194 13.8928 20.2762 14.8741 21.5004 15.1631V18.2533C21.5004 18.9437 20.9408 19.5033 20.2504 19.5033H3.75C3.05964 19.5033 2.5 18.9437 2.5 18.2533V15.163C3.93335 14.8245 5 13.5368 5 12C5 10.5416 4.03942 9.3076 2.71645 8.89611C2.64532 8.87399 2.57314 8.85424 2.5 8.83697V5.7539Z' fill='%23222222'/%3e %3c/svg%3e\" style=\"color:transparent\" width=\"24\"/></div><div class=\"relative\"><span class=\"font-small2 block text-el-50 mt-8pxr\">쿠폰 등록</span></div></div></a></div><div style=\"border-color:transparent;border-width:0\"><a href=\"/settings\"><div class=\"flex-col relative flex items-center justify-center mb-24pxr h-48pxr w-76pxr cursor-pointer\"><div class=\"relative\"><img alt=\"아이콘\" aria-hidden=\"true\" class=\"pointer-events-none\" data-nimg=\"future\" decoding=\"async\" height=\"24\" src=\"data:image/svg+xml,%3csvg width='24' height='24' viewBox='0 0 24 24' fill='none' xmlns='http://www.w3.org/2000/svg'%3e %3cpath fill-rule='evenodd' clip-rule='evenodd' d='M9.52271 4.74072L8.72796 5.10316C8.3101 5.29373 7.91236 5.51972 7.53877 5.77719L6.83611 6.26145L4.7881 5.31955C4.78556 5.31839 4.78449 5.31827 4.78331 5.3182C4.78131 5.31809 4.77771 5.3183 4.77327 5.3197C4.76884 5.32109 4.76596 5.32291 4.76471 5.3239C4.7641 5.32437 4.76366 5.32469 4.76257 5.32654L2.50837 9.17474L4.34698 10.4429L4.26766 11.3158C4.24721 11.5409 4.23673 11.7691 4.23673 12.0001C4.23673 12.2309 4.24719 12.4589 4.2676 12.6838L4.34682 13.5566L2.50761 14.8251L4.76181 18.6733L3.46753 19.4315L1.20457 15.5684C0.811201 14.8968 1.0005 14.0425 1.64046 13.6011L2.77374 12.8194C2.74924 12.5495 2.73673 12.2763 2.73673 12.0001C2.73673 11.7237 2.74927 11.4502 2.77382 11.18L1.64122 10.3988C1.00126 9.95742 0.811962 9.10305 1.20533 8.43152L3.46829 4.56837C3.86166 3.89684 4.70702 3.63123 5.41486 3.95677L6.68757 4.5421C7.13305 4.23508 7.6073 3.96562 8.10555 3.73839L8.22685 2.36777C8.29536 1.59361 8.94383 1 9.72101 1H14.2821C15.0593 1 15.7077 1.59361 15.7763 2.36777L15.8975 3.73821C16.3957 3.96538 16.8699 4.23477 17.3153 4.5417L18.5875 3.95664C19.2953 3.6311 20.1407 3.89671 20.5341 4.56824L22.797 8.43138C23.1904 9.10291 23.0011 9.95729 22.3611 10.3987L21.2296 11.1792C21.2542 11.4496 21.2668 11.7234 21.2668 12.0001C21.2668 12.2763 21.2542 12.5496 21.2297 12.8195L22.3623 13.6007C23.0023 14.0421 23.1916 14.8965 22.7982 15.568L20.5353 19.4311C20.1419 20.1027 19.2965 20.3683 18.5887 20.0427L17.3166 19.4577C16.8709 19.7649 16.3965 20.0345 15.898 20.2618L15.7767 21.6322C15.7082 22.4064 15.0597 23 14.2825 23H9.72146C8.94428 23 8.29581 22.4064 8.2273 21.6322L8.10604 20.2621C7.60737 20.0347 7.13275 19.765 6.68694 19.4577L5.4141 20.0431C4.70626 20.3687 3.8609 20.1031 3.46753 19.4315L4.76181 18.6733C4.7629 18.6752 4.76334 18.6755 4.76395 18.676C4.7652 18.677 4.76808 18.6788 4.77251 18.6802C4.77695 18.6816 4.78055 18.6818 4.78254 18.6817C4.78372 18.6816 4.7848 18.6815 4.78734 18.6803L6.83556 17.7383L7.53824 18.2227C7.91211 18.4804 8.31016 18.7066 8.72837 18.8973L9.52319 19.2597L9.72146 21.5L14.2825 21.5L14.4808 19.2595L15.2756 18.8971C15.6936 18.7064 16.0915 18.4803 16.4653 18.2227L17.168 17.7383L19.2155 18.68C19.218 18.6811 19.2191 18.6812 19.2202 18.6813C19.2222 18.6814 19.2258 18.6812 19.2303 18.6798C19.2347 18.6784 19.2376 18.6766 19.2388 18.6756C19.2394 18.6752 19.2399 18.6748 19.241 18.673L21.4952 14.8248L19.6566 13.5566L19.7359 12.6838C19.7563 12.459 19.7668 12.2309 19.7668 12.0001C19.7668 11.7689 19.7563 11.5404 19.7358 11.3151L19.6564 10.4421L21.494 9.17461L19.2398 5.32641C19.2387 5.32455 19.2382 5.32424 19.2376 5.32376C19.2364 5.32278 19.2335 5.32096 19.2291 5.31956C19.2246 5.31817 19.221 5.31796 19.219 5.31807C19.2179 5.31813 19.2168 5.31825 19.2142 5.31942L17.1669 6.26102L16.4642 5.77686C16.0907 5.51946 15.693 5.29353 15.2752 5.10301L14.4804 4.74058L14.2821 2.5L9.72101 2.5L9.52271 4.74072ZM16.5 12C16.5 14.4853 14.4853 16.5 12 16.5C9.51472 16.5 7.5 14.4853 7.5 12C7.5 9.51472 9.51472 7.5 12 7.5C14.4853 7.5 16.5 9.51472 16.5 12ZM15 12C15 13.6569 13.6569 15 12 15C10.3431 15 9 13.6569 9 12C9 10.3431 10.3431 9 12 9C13.6569 9 15 10.3431 15 12Z' fill='%23222222'/%3e %3c/svg%3e\" style=\"color:transparent\" width=\"24\"/></div><div class=\"relative\"><span class=\"font-small2 block text-el-50 mt-8pxr\">설정</span></div></div></a></div></div></div>"
      ]
     },
     "execution_count": 49,
     "metadata": {},
     "output_type": "execute_result"
    }
   ],
   "source": [
    "soup.select_one('.w-full.overflow-hidden')"
   ]
  },
  {
   "cell_type": "markdown",
   "metadata": {},
   "source": [
    "- Step 2"
   ]
  },
  {
   "cell_type": "code",
   "execution_count": 50,
   "metadata": {},
   "outputs": [
    {
     "data": {
      "text/plain": [
       "<div style=\"border-color:transparent;border-width:0\"><a href=\"/mynews\"><div class=\"flex-col relative flex items-center justify-center mb-24pxr h-48pxr w-76pxr cursor-pointer\"><div class=\"relative\"><img alt=\"아이콘\" aria-hidden=\"true\" class=\"pointer-events-none\" data-nimg=\"future\" decoding=\"async\" height=\"24\" src=\"data:image/svg+xml,%3csvg width='24' height='24' viewBox='0 0 24 24' fill='none' xmlns='http://www.w3.org/2000/svg'%3e %3cpath fill-rule='evenodd' clip-rule='evenodd' d='M12.0001 1C7.30567 1 3.50009 4.80558 3.50009 9.5V15L1.95634 17.47C1.54006 18.136 2.0189 19 2.80433 19H21.1959C21.9814 19 22.4602 18.136 22.0439 17.47L20.5001 15V9.5C20.5001 4.80558 16.6945 1 12.0001 1ZM12 2.5C8.13405 2.5 5.00004 5.63401 5.00004 9.5V15L3.50004 17.5H20.5L19 15V9.5C19 5.63401 15.866 2.5 12 2.5Z' fill='%23222222'/%3e %3cpath d='M12.0001 23.5C9.76133 23.5 7.86618 22.0286 7.22905 20H8.83696C9.39869 21.1825 10.6039 22 12.0001 22C13.3963 22 14.6016 21.1825 15.1633 20H16.7712C16.1341 22.0286 14.239 23.5 12.0001 23.5Z' fill='%23222222'/%3e %3c/svg%3e\" style=\"color:transparent\" width=\"24\"/></div><div class=\"relative\"><span class=\"font-small2 block text-el-50 mt-8pxr\">알림</span></div></div></a></div>"
      ]
     },
     "execution_count": 50,
     "metadata": {},
     "output_type": "execute_result"
    }
   ],
   "source": [
    "# 하나의 데이터 \n",
    "# trs = soup.select('tr.list')로 해도됨 \n",
    "lis = soup.select('.w-full.overflow-hidden > div > div')\n",
    "li = lis[0]\n",
    "li"
   ]
  },
  {
   "cell_type": "code",
   "execution_count": 51,
   "metadata": {},
   "outputs": [
    {
     "data": {
      "text/plain": [
       "<div aria-label=\"작품, 시그리드, 삼다무, 최신 회차 업데이트됨, 1위 변동 없음, 버튼\" class=\"relative rounded-8pxr overflow-hidden w-full h-full\" data-t-obj='{\"fromGraphql\":null,\"click\":null,\"eventMeta\":{\"id\":\"60907554\",\"name\":\"시그리드\",\"subcategory\":\"로판\",\"category\":\"웹툰\",\"series\":\"시그리드\",\"provider\":\"서비스\",\"series_id\":\"60907554\",\"type\":\"seriesId\"},\"viewimp_contents\":null,\"customProps\":{\"landing_path\":\"contents\",\"view_type\":\"series_card_view\",\"toros_imp_id\":null,\"toros_file_hash_key\":null,\"toros_event_meta_id\":null,\"content_cnt\":null,\"event_series_id\":null,\"event_ticket_type\":null,\"play_url\":null,\"banner_uid\":null}}'><div aria-hidden=\"true\" class=\"jsx-3137338326 image-container relative rounded-8pxr overflow-hidden w-full h-full\"><div class=\"jsx-3137338326 absolute top-0 left-0 h-full w-full select-none items-center justify-center bg-s-gray-20/15 object-cover block\"></div><img alt=\"썸네일\" class=\"jsx-3137338326 absolute top-0 left-0 h-full w-full select-none object-cover invisible\" src=\"https://dn-img-page.kakao.com/download/resource?kid=cao5Jp/hAd4bS5cyG/uatDN6nZPA2CsxVLKIiwb1&amp;filename=th3\"/></div><div class=\"absolute top-4pxr left-4pxr\"><div class=\"flex shrink-0 items-center\"><div class=\"flex items-center space-x-2pxr\"><img alt=\"3다무 뱃지\" aria-hidden=\"true\" class=\"pointer-events-none\" data-nimg=\"future\" decoding=\"async\" height=\"16\" src=\"data:image/svg+xml,%3csvg width='44' height='16' viewBox='0 0 44 16' fill='none' xmlns='http://www.w3.org/2000/svg'%3e %3cg clip-path='url(%23clip0_12725_45535)'%3e %3cpath d='M16 0H39C41.7614 0 44 2.23858 44 5V11C44 13.7614 41.7614 16 39 16H16V0Z' fill='white'/%3e %3cpath d='M31.1709 3.74023H29.7559V11.8965H31.1709V7.7832H32.2695V6.64062H31.1709V3.74023ZM24.9922 9.96289H25.6953C27.062 9.96729 28.1958 9.94092 29.4482 9.73438L29.2988 8.57422C28.3188 8.73242 27.4048 8.79395 26.3896 8.80713V5.60352H28.8066V4.46973H24.9922V9.96289ZM40.0609 8.17871H32.6429V9.29492H35.6224V11.8613H37.0198V9.29492H40.0609V8.17871ZM33.4603 7.44922H39.2259V4.10938H33.4603V7.44922ZM34.8402 6.35059V5.2168H37.8196V6.35059H34.8402Z' fill='black'/%3e %3cpath d='M21.11 11.4198C20.4767 11.4198 19.9367 11.3098 19.49 11.0898C19.05 10.8631 18.68 10.5698 18.38 10.2098L19.44 9.1998C19.68 9.47314 19.93 9.68314 20.19 9.8298C20.4567 9.9698 20.77 10.0398 21.13 10.0398C21.4233 10.0398 21.66 9.96314 21.84 9.8098C22.0267 9.65647 22.12 9.4498 22.12 9.1898V9.1698C22.12 8.88314 22 8.66314 21.76 8.5098C21.52 8.35647 21.1833 8.2798 20.75 8.2798H20.11L19.87 7.2998L21.54 5.6198H18.79V4.2998H23.52V5.4598L21.75 7.1498C21.99 7.1898 22.22 7.25314 22.44 7.3398C22.6667 7.42647 22.8667 7.54647 23.04 7.6998C23.22 7.85314 23.3633 8.04647 23.47 8.2798C23.5767 8.50647 23.63 8.78314 23.63 9.1098V9.1298C23.63 9.46314 23.57 9.7698 23.45 10.0498C23.3367 10.3231 23.17 10.5631 22.95 10.7698C22.7367 10.9765 22.4733 11.1365 22.16 11.2498C21.8467 11.3631 21.4967 11.4198 21.11 11.4198Z' fill='black'/%3e %3cpath d='M0 5C0 2.23858 2.23858 0 5 0H16V16H5C2.23858 16 0 13.7614 0 11V5Z' fill='%23FFD200'/%3e %3cpath fill-rule='evenodd' clip-rule='evenodd' d='M14 8C14 4.68364 11.3164 2 8 2C4.68364 2 2 4.68364 2 8C2 11.3164 4.68364 14 8 14C11.3164 14 14 11.3164 14 8ZM7.72729 4.70002C8.15274 4.70002 8.50183 5.02729 8.54002 5.44184H8.54547V7.90729L10.2146 9.57639C10.5146 9.87639 10.5309 10.3509 10.2691 10.6727L10.2146 10.7327C9.91456 11.0327 9.44002 11.0491 9.1182 10.7873L9.0582 10.7327L7.14911 8.82366C7.01274 8.69275 6.93093 8.51275 6.90911 8.32729V5.5182C6.90911 5.06547 7.27456 4.70002 7.72729 4.70002Z' fill='black'/%3e %3c/g%3e %3cdefs%3e %3cclipPath id='clip0_12725_45535'%3e %3crect width='44' height='16' fill='white'/%3e %3c/clipPath%3e %3c/defs%3e %3c/svg%3e\" style=\"color:transparent;z-index:2\" width=\"44\"/><img alt=\"새 회차 뱃지\" aria-hidden=\"true\" class=\"pointer-events-none\" data-nimg=\"future\" decoding=\"async\" height=\"16\" src=\"data:image/svg+xml,%3csvg width='20' height='16' viewBox='0 0 20 16' fill='none' xmlns='http://www.w3.org/2000/svg'%3e %3cg clip-path='url(%23clip0_2582_16652)'%3e %3cpath d='M0 5C0 2.23858 2.23858 0 5 0H15C17.7614 0 20 2.23858 20 5V11C20 13.7614 17.7614 16 15 16H5C2.23858 16 0 13.7614 0 11V5Z' fill='%23FF3042'/%3e %3cpath d='M7.357 10.12C7.576 10.12 7.7725 10.084 7.9465 10.012C8.1205 9.937 8.2675 9.832 8.3875 9.697C8.5075 9.562 8.599 9.3985 8.662 9.2065C8.725 9.0145 8.7565 8.7985 8.7565 8.5585V4.6705H10.1065V8.5585C10.1065 8.9545 10.042 9.319 9.913 9.652C9.787 9.982 9.6055 10.267 9.3685 10.507C9.1315 10.747 8.8435 10.9345 8.5045 11.0695C8.1655 11.2045 7.783 11.272 7.357 11.272C6.931 11.272 6.547 11.2045 6.205 11.0695C5.866 10.9345 5.578 10.747 5.341 10.507C5.104 10.267 4.921 9.982 4.792 9.652C4.666 9.319 4.603 8.9545 4.603 8.5585V4.6705H5.953V8.5585C5.953 8.7985 5.9845 9.0145 6.0475 9.2065C6.1105 9.3985 6.202 9.562 6.322 9.697C6.442 9.832 6.589 9.937 6.763 10.012C6.937 10.084 7.135 10.12 7.357 10.12Z' fill='white'/%3e %3cpath d='M13.5951 7.9195C14.0181 7.9195 14.3271 7.8175 14.5221 7.6135C14.7201 7.4095 14.8191 7.1305 14.8191 6.7765C14.8191 6.6145 14.7936 6.4675 14.7426 6.3355C14.6946 6.2005 14.6196 6.0865 14.5176 5.9935C14.4186 5.8975 14.2926 5.824 14.1396 5.773C13.9866 5.722 13.8051 5.6965 13.5951 5.6965H12.7401V7.9195H13.5951ZM13.5951 4.6705C14.0421 4.6705 14.4276 4.723 14.7516 4.828C15.0786 4.933 15.3471 5.08 15.5571 5.269C15.7671 5.455 15.9216 5.677 16.0206 5.935C16.1226 6.193 16.1736 6.4735 16.1736 6.7765C16.1736 7.0975 16.1211 7.3915 16.0161 7.6585C15.9111 7.9255 15.7521 8.155 15.5391 8.347C15.3261 8.539 15.0576 8.689 14.7336 8.797C14.4096 8.902 14.0301 8.9545 13.5951 8.9545H12.7401V11.2H11.3901V4.6705H13.5951Z' fill='white'/%3e %3c/g%3e %3cdefs%3e %3cclipPath id='clip0_2582_16652'%3e %3crect width='20' height='16' fill='white'/%3e %3c/clipPath%3e %3c/defs%3e %3c/svg%3e\" style=\"color:transparent;z-index:1\" width=\"20\"/></div></div></div><div class=\"absolute bottom-10pxr left-0 flex w-full flex-col\"><div class=\"text-center\"><img alt=\"타이틀 이미지\" aria-hidden=\"true\" class=\"inline-block\" src=\"//dn-img-page.kakao.com/download/resource?kid=xHGBT/hzR1SUSOtX/OV7rAFYm96CO2B3tSRFgF0&amp;filename=th3\"/></div><div aria-hidden=\"true\" class=\"under-320-view:w-56pxr flex w-68pxr rounded-[5px] px-4pxr bg-s-gray-10 mx-auto mt-6pxr\"><div class=\"font-small2-bold flex-1 text-s-white\">1</div><img alt=\"유지\" aria-hidden=\"true\" class=\"active:opacity-30\" data-nimg=\"future\" decoding=\"async\" height=\"12\" src=\"data:image/svg+xml,%3csvg width='12' height='12' viewBox='0 0 12 12' fill='none' xmlns='http://www.w3.org/2000/svg'%3e %3crect x='3' y='5' width='6' height='2' fill='%23999999'/%3e %3c/svg%3e\" style=\"color:transparent\" width=\"12\"/><div class=\"under-320-view:hidden font-x-small2-bold text-s-gray-20\"></div></div></div><div class=\"absolute top-0 left-0 h-full w-full rounded-8pxr border-[0.5px] border-solid border-sp-thumb-line\"></div></div>"
      ]
     },
     "execution_count": 51,
     "metadata": {},
     "output_type": "execute_result"
    }
   ],
   "source": [
    "lis = soup.select('.relative.rounded-8pxr.overflow-hidden.w-full.h-full')\n",
    "li = lis[0]\n",
    "li"
   ]
  },
  {
   "cell_type": "markdown",
   "metadata": {},
   "source": [
    "- Step 3"
   ]
  },
  {
   "cell_type": "code",
   "execution_count": 52,
   "metadata": {},
   "outputs": [
    {
     "data": {
      "text/plain": [
       "['작품', '시그리드', '삼다무', '최신 회차 업데이트됨', '1위 변동 없음', '버튼']"
      ]
     },
     "execution_count": 52,
     "metadata": {},
     "output_type": "execute_result"
    }
   ],
   "source": [
    "li['aria-label'].split(', ')"
   ]
  },
  {
   "cell_type": "code",
   "execution_count": 53,
   "metadata": {},
   "outputs": [
    {
     "data": {
      "text/plain": [
       "'1위'"
      ]
     },
     "execution_count": 53,
     "metadata": {},
     "output_type": "execute_result"
    }
   ],
   "source": [
    "# 순위\n",
    "rank = li['aria-label'].split(', ')[4].split(' ')[0]\n",
    "rank"
   ]
  },
  {
   "cell_type": "code",
   "execution_count": 54,
   "metadata": {},
   "outputs": [
    {
     "data": {
      "text/plain": [
       "'시그리드'"
      ]
     },
     "execution_count": 54,
     "metadata": {},
     "output_type": "execute_result"
    }
   ],
   "source": [
    "# 제목\n",
    "title = li['aria-label'].split(', ')[1]\n",
    "title"
   ]
  },
  {
   "cell_type": "code",
   "execution_count": 55,
   "metadata": {},
   "outputs": [
    {
     "data": {
      "text/plain": [
       "'삼다무'"
      ]
     },
     "execution_count": 55,
     "metadata": {},
     "output_type": "execute_result"
    }
   ],
   "source": [
    "# 아티스트\n",
    "artist = li['aria-label'].split(', ')[2]\n",
    "artist"
   ]
  },
  {
   "cell_type": "code",
   "execution_count": 56,
   "metadata": {},
   "outputs": [
    {
     "data": {
      "text/plain": [
       "'https://dn-img-page.kakao.com/download/resource?kid=cao5Jp/hAd4bS5cyG/uatDN6nZPA2CsxVLKIiwb1&filename=th3'"
      ]
     },
     "execution_count": 56,
     "metadata": {},
     "output_type": "execute_result"
    }
   ],
   "source": [
    "# 이미지\n",
    "img = li.select_one('img')['src']\n",
    "img"
   ]
  },
  {
   "cell_type": "code",
   "execution_count": 72,
   "metadata": {},
   "outputs": [
    {
     "data": {
      "text/plain": [
       "<span class=\"font-small2 text-s-gray-10\">충전</span>"
      ]
     },
     "execution_count": 72,
     "metadata": {},
     "output_type": "execute_result"
    }
   ],
   "source": [
    "# 장르\n",
    "soup2.select_one('.flex.items-center > div > span')"
   ]
  },
  {
   "cell_type": "markdown",
   "metadata": {},
   "source": [
    "- Step 4"
   ]
  },
  {
   "cell_type": "code",
   "execution_count": 15,
   "metadata": {},
   "outputs": [],
   "source": [
    "data = []\n",
    "for li in lis:\n",
    "    rank = int(li.select_one('.number').get_text().replace(' ', '').split('\\n')[0])\n",
    "    title = li.select_one('.title.ellipsis').get_text().strip()\n",
    "    artist = li.select_one('.artist.ellipsis').get_text().strip()\n",
    "    album = li.select_one('.albumtitle.ellipsis').get_text().strip()\n",
    "    img = 'http:' + li.select_one('img')['src']\n",
    "    data.append({'순위':rank, '제목':title, '가수':artist, '앨범':album, '이미지':img})"
   ]
  },
  {
   "cell_type": "markdown",
   "metadata": {},
   "source": [
    "- Step 5 생략\n",
    "- Step 6"
   ]
  },
  {
   "cell_type": "code",
   "execution_count": 16,
   "metadata": {},
   "outputs": [
    {
     "name": "stderr",
     "output_type": "stream",
     "text": [
      " 25%|██▌       | 1/4 [00:00<00:01,  2.00it/s]"
     ]
    },
    {
     "name": "stderr",
     "output_type": "stream",
     "text": [
      "100%|██████████| 4/4 [00:01<00:00,  2.61it/s]\n"
     ]
    }
   ],
   "source": [
    "data = []\n",
    "\n",
    "for page in tqdm(range(1, 5)):\n",
    "    header = {'User-Agent' : 'Mozilla/5.0 (Windows NT 10.0; Win64; x64) AppleWebKit/537.36 (KHTML, like Gecko) Chrome/117.0.0.0 Safari/537.36'}\n",
    "    url = f'https://www.genie.co.kr/chart/top200?ditc=D&ymd={date}&hh={time}&rtm=Y&pg={page}'\n",
    "    res = requests.get(url, headers=header)\n",
    "    soup = BeautifulSoup(res.text, 'html.parser')\n",
    "    lis = soup.select('tbody > .list')\n",
    "    \n",
    "    for li in lis:\n",
    "        rank = int(li.select_one('.number').get_text().replace(' ', '').split('\\n')[0])\n",
    "        title = li.select_one('.title.ellipsis').get_text().strip()\n",
    "        artist = li.select_one('.artist.ellipsis').get_text().strip()\n",
    "        album = li.select_one('.albumtitle.ellipsis').get_text().strip()\n",
    "        img = 'http:' + li.select_one('img')['src']\n",
    "        data.append({'순위':rank, '제목':title, '가수':artist, '앨범':album, '이미지':img})\n"
   ]
  },
  {
   "cell_type": "markdown",
   "metadata": {},
   "source": [
    "- Step 7"
   ]
  },
  {
   "cell_type": "code",
   "execution_count": 17,
   "metadata": {},
   "outputs": [
    {
     "data": {
      "text/html": [
       "<div>\n",
       "<style scoped>\n",
       "    .dataframe tbody tr th:only-of-type {\n",
       "        vertical-align: middle;\n",
       "    }\n",
       "\n",
       "    .dataframe tbody tr th {\n",
       "        vertical-align: top;\n",
       "    }\n",
       "\n",
       "    .dataframe thead th {\n",
       "        text-align: right;\n",
       "    }\n",
       "</style>\n",
       "<table border=\"1\" class=\"dataframe\">\n",
       "  <thead>\n",
       "    <tr style=\"text-align: right;\">\n",
       "      <th></th>\n",
       "      <th>순위</th>\n",
       "      <th>제목</th>\n",
       "      <th>가수</th>\n",
       "      <th>앨범</th>\n",
       "      <th>이미지</th>\n",
       "    </tr>\n",
       "  </thead>\n",
       "  <tbody>\n",
       "    <tr>\n",
       "      <th>0</th>\n",
       "      <td>1</td>\n",
       "      <td>Love Lee</td>\n",
       "      <td>AKMU (악뮤)</td>\n",
       "      <td>Love Lee</td>\n",
       "      <td>http://image.genie.co.kr/Y/IMAGE/IMG_ALBUM/084...</td>\n",
       "    </tr>\n",
       "    <tr>\n",
       "      <th>1</th>\n",
       "      <td>2</td>\n",
       "      <td>Smoke (Prod. by Dynamicduo &amp; Padi)</td>\n",
       "      <td>다이나믹 듀오 &amp; 이영지</td>\n",
       "      <td>스트릿 우먼 파이터2 (SWF2) 계급미션</td>\n",
       "      <td>http://image.genie.co.kr/Y/IMAGE/IMG_ALBUM/084...</td>\n",
       "    </tr>\n",
       "    <tr>\n",
       "      <th>2</th>\n",
       "      <td>3</td>\n",
       "      <td>후라이의 꿈</td>\n",
       "      <td>AKMU (악뮤)</td>\n",
       "      <td>Love Lee</td>\n",
       "      <td>http://image.genie.co.kr/Y/IMAGE/IMG_ALBUM/084...</td>\n",
       "    </tr>\n",
       "    <tr>\n",
       "      <th>3</th>\n",
       "      <td>4</td>\n",
       "      <td>ETA</td>\n",
       "      <td>NewJeans</td>\n",
       "      <td>NewJeans 2nd EP 'Get Up'</td>\n",
       "      <td>http://image.genie.co.kr/Y/IMAGE/IMG_ALBUM/084...</td>\n",
       "    </tr>\n",
       "    <tr>\n",
       "      <th>4</th>\n",
       "      <td>5</td>\n",
       "      <td>Seven (Feat. Latto) (Clean Ver.)</td>\n",
       "      <td>정국</td>\n",
       "      <td>Seven (Clean Ver.)</td>\n",
       "      <td>http://image.genie.co.kr/Y/IMAGE/IMG_ALBUM/084...</td>\n",
       "    </tr>\n",
       "    <tr>\n",
       "      <th>...</th>\n",
       "      <td>...</td>\n",
       "      <td>...</td>\n",
       "      <td>...</td>\n",
       "      <td>...</td>\n",
       "      <td>...</td>\n",
       "    </tr>\n",
       "    <tr>\n",
       "      <th>195</th>\n",
       "      <td>196</td>\n",
       "      <td>I'm Not The Only One</td>\n",
       "      <td>Sam Smith</td>\n",
       "      <td>In The Lonely Hour (Standard Edition)</td>\n",
       "      <td>http://image.genie.co.kr/Y/IMAGE/IMG_ALBUM/080...</td>\n",
       "    </tr>\n",
       "    <tr>\n",
       "      <th>196</th>\n",
       "      <td>197</td>\n",
       "      <td>혼자라고 생각말기</td>\n",
       "      <td>임한별</td>\n",
       "      <td>혼자라고 생각말기</td>\n",
       "      <td>http://image.genie.co.kr/Y/IMAGE/IMG_ALBUM/083...</td>\n",
       "    </tr>\n",
       "    <tr>\n",
       "      <th>197</th>\n",
       "      <td>198</td>\n",
       "      <td>Way Back Home</td>\n",
       "      <td>숀 (SHAUN)</td>\n",
       "      <td>Take</td>\n",
       "      <td>http://image.genie.co.kr/Y/IMAGE/IMG_ALBUM/081...</td>\n",
       "    </tr>\n",
       "    <tr>\n",
       "      <th>198</th>\n",
       "      <td>199</td>\n",
       "      <td>Memories</td>\n",
       "      <td>RIIZE</td>\n",
       "      <td>Get A Guitar</td>\n",
       "      <td>http://image.genie.co.kr/Y/IMAGE/IMG_ALBUM/084...</td>\n",
       "    </tr>\n",
       "    <tr>\n",
       "      <th>199</th>\n",
       "      <td>200</td>\n",
       "      <td>사랑이라 쓰고 이별이라 읽어</td>\n",
       "      <td>송하예</td>\n",
       "      <td>사랑이라 쓰고 이별이라 읽어</td>\n",
       "      <td>http://image.genie.co.kr/Y/IMAGE/IMG_ALBUM/084...</td>\n",
       "    </tr>\n",
       "  </tbody>\n",
       "</table>\n",
       "<p>200 rows × 5 columns</p>\n",
       "</div>"
      ],
      "text/plain": [
       "      순위                                  제목             가수  \\\n",
       "0      1                            Love Lee      AKMU (악뮤)   \n",
       "1      2  Smoke (Prod. by Dynamicduo & Padi)  다이나믹 듀오 & 이영지   \n",
       "2      3                              후라이의 꿈      AKMU (악뮤)   \n",
       "3      4                                 ETA       NewJeans   \n",
       "4      5    Seven (Feat. Latto) (Clean Ver.)             정국   \n",
       "..   ...                                 ...            ...   \n",
       "195  196                I'm Not The Only One      Sam Smith   \n",
       "196  197                           혼자라고 생각말기            임한별   \n",
       "197  198                       Way Back Home      숀 (SHAUN)   \n",
       "198  199                            Memories          RIIZE   \n",
       "199  200                     사랑이라 쓰고 이별이라 읽어            송하예   \n",
       "\n",
       "                                        앨범  \\\n",
       "0                                 Love Lee   \n",
       "1                  스트릿 우먼 파이터2 (SWF2) 계급미션   \n",
       "2                                 Love Lee   \n",
       "3                 NewJeans 2nd EP 'Get Up'   \n",
       "4                       Seven (Clean Ver.)   \n",
       "..                                     ...   \n",
       "195  In The Lonely Hour (Standard Edition)   \n",
       "196                              혼자라고 생각말기   \n",
       "197                                   Take   \n",
       "198                           Get A Guitar   \n",
       "199                        사랑이라 쓰고 이별이라 읽어   \n",
       "\n",
       "                                                   이미지  \n",
       "0    http://image.genie.co.kr/Y/IMAGE/IMG_ALBUM/084...  \n",
       "1    http://image.genie.co.kr/Y/IMAGE/IMG_ALBUM/084...  \n",
       "2    http://image.genie.co.kr/Y/IMAGE/IMG_ALBUM/084...  \n",
       "3    http://image.genie.co.kr/Y/IMAGE/IMG_ALBUM/084...  \n",
       "4    http://image.genie.co.kr/Y/IMAGE/IMG_ALBUM/084...  \n",
       "..                                                 ...  \n",
       "195  http://image.genie.co.kr/Y/IMAGE/IMG_ALBUM/080...  \n",
       "196  http://image.genie.co.kr/Y/IMAGE/IMG_ALBUM/083...  \n",
       "197  http://image.genie.co.kr/Y/IMAGE/IMG_ALBUM/081...  \n",
       "198  http://image.genie.co.kr/Y/IMAGE/IMG_ALBUM/084...  \n",
       "199  http://image.genie.co.kr/Y/IMAGE/IMG_ALBUM/084...  \n",
       "\n",
       "[200 rows x 5 columns]"
      ]
     },
     "execution_count": 17,
     "metadata": {},
     "output_type": "execute_result"
    }
   ],
   "source": [
    "df = pd.DataFrame(data)\n",
    "df"
   ]
  },
  {
   "cell_type": "code",
   "execution_count": 18,
   "metadata": {},
   "outputs": [],
   "source": [
    "driver.close()"
   ]
  },
  {
   "cell_type": "code",
   "execution_count": 19,
   "metadata": {},
   "outputs": [
    {
     "name": "stdout",
     "output_type": "stream",
     "text": [
      "2023091910\n"
     ]
    }
   ],
   "source": [
    "print(date+time)"
   ]
  },
  {
   "cell_type": "code",
   "execution_count": 20,
   "metadata": {},
   "outputs": [
    {
     "data": {
      "text/plain": [
       "'2023091910.csv'"
      ]
     },
     "execution_count": 20,
     "metadata": {},
     "output_type": "execute_result"
    }
   ],
   "source": [
    "filename = date+time + '.csv'\n",
    "filename"
   ]
  },
  {
   "cell_type": "code",
   "execution_count": 21,
   "metadata": {},
   "outputs": [
    {
     "data": {
      "text/html": [
       "<div>\n",
       "<style scoped>\n",
       "    .dataframe tbody tr th:only-of-type {\n",
       "        vertical-align: middle;\n",
       "    }\n",
       "\n",
       "    .dataframe tbody tr th {\n",
       "        vertical-align: top;\n",
       "    }\n",
       "\n",
       "    .dataframe thead th {\n",
       "        text-align: right;\n",
       "    }\n",
       "</style>\n",
       "<table border=\"1\" class=\"dataframe\">\n",
       "  <thead>\n",
       "    <tr style=\"text-align: right;\">\n",
       "      <th></th>\n",
       "      <th>순위</th>\n",
       "      <th>제목</th>\n",
       "      <th>가수</th>\n",
       "      <th>앨범</th>\n",
       "      <th>이미지</th>\n",
       "    </tr>\n",
       "  </thead>\n",
       "  <tbody>\n",
       "    <tr>\n",
       "      <th>195</th>\n",
       "      <td>196</td>\n",
       "      <td>I'm Not The Only One</td>\n",
       "      <td>Sam Smith</td>\n",
       "      <td>In The Lonely Hour (Standard Edition)</td>\n",
       "      <td>http://image.genie.co.kr/Y/IMAGE/IMG_ALBUM/080...</td>\n",
       "    </tr>\n",
       "    <tr>\n",
       "      <th>196</th>\n",
       "      <td>197</td>\n",
       "      <td>혼자라고 생각말기</td>\n",
       "      <td>임한별</td>\n",
       "      <td>혼자라고 생각말기</td>\n",
       "      <td>http://image.genie.co.kr/Y/IMAGE/IMG_ALBUM/083...</td>\n",
       "    </tr>\n",
       "    <tr>\n",
       "      <th>197</th>\n",
       "      <td>198</td>\n",
       "      <td>Way Back Home</td>\n",
       "      <td>숀 (SHAUN)</td>\n",
       "      <td>Take</td>\n",
       "      <td>http://image.genie.co.kr/Y/IMAGE/IMG_ALBUM/081...</td>\n",
       "    </tr>\n",
       "    <tr>\n",
       "      <th>198</th>\n",
       "      <td>199</td>\n",
       "      <td>Memories</td>\n",
       "      <td>RIIZE</td>\n",
       "      <td>Get A Guitar</td>\n",
       "      <td>http://image.genie.co.kr/Y/IMAGE/IMG_ALBUM/084...</td>\n",
       "    </tr>\n",
       "    <tr>\n",
       "      <th>199</th>\n",
       "      <td>200</td>\n",
       "      <td>사랑이라 쓰고 이별이라 읽어</td>\n",
       "      <td>송하예</td>\n",
       "      <td>사랑이라 쓰고 이별이라 읽어</td>\n",
       "      <td>http://image.genie.co.kr/Y/IMAGE/IMG_ALBUM/084...</td>\n",
       "    </tr>\n",
       "  </tbody>\n",
       "</table>\n",
       "</div>"
      ],
      "text/plain": [
       "      순위                    제목         가수  \\\n",
       "195  196  I'm Not The Only One  Sam Smith   \n",
       "196  197             혼자라고 생각말기        임한별   \n",
       "197  198         Way Back Home  숀 (SHAUN)   \n",
       "198  199              Memories      RIIZE   \n",
       "199  200       사랑이라 쓰고 이별이라 읽어        송하예   \n",
       "\n",
       "                                        앨범  \\\n",
       "195  In The Lonely Hour (Standard Edition)   \n",
       "196                              혼자라고 생각말기   \n",
       "197                                   Take   \n",
       "198                           Get A Guitar   \n",
       "199                        사랑이라 쓰고 이별이라 읽어   \n",
       "\n",
       "                                                   이미지  \n",
       "195  http://image.genie.co.kr/Y/IMAGE/IMG_ALBUM/080...  \n",
       "196  http://image.genie.co.kr/Y/IMAGE/IMG_ALBUM/083...  \n",
       "197  http://image.genie.co.kr/Y/IMAGE/IMG_ALBUM/081...  \n",
       "198  http://image.genie.co.kr/Y/IMAGE/IMG_ALBUM/084...  \n",
       "199  http://image.genie.co.kr/Y/IMAGE/IMG_ALBUM/084...  "
      ]
     },
     "execution_count": 21,
     "metadata": {},
     "output_type": "execute_result"
    }
   ],
   "source": [
    "df.to_csv('data/지니차트_'+filename, index=False)\n",
    "pd.read_csv('data/지니차트_'+filename).tail()"
   ]
  },
  {
   "cell_type": "code",
   "execution_count": null,
   "metadata": {},
   "outputs": [],
   "source": []
  }
 ],
 "metadata": {
  "kernelspec": {
   "display_name": "base",
   "language": "python",
   "name": "python3"
  },
  "language_info": {
   "codemirror_mode": {
    "name": "ipython",
    "version": 3
   },
   "file_extension": ".py",
   "mimetype": "text/x-python",
   "name": "python",
   "nbconvert_exporter": "python",
   "pygments_lexer": "ipython3",
   "version": "3.11.4"
  },
  "orig_nbformat": 4
 },
 "nbformat": 4,
 "nbformat_minor": 2
}
